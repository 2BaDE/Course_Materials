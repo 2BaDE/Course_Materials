{
 "cells": [
  {
   "cell_type": "markdown",
   "id": "37b01c8e",
   "metadata": {},
   "source": [
    "# <center> SQLite Document"
   ]
  },
  {
   "cell_type": "markdown",
   "id": "b18eae81",
   "metadata": {},
   "source": [
    "**SQL(Structured Query Language)** is specific purposed programming language to manipulate tables from relational database management system(RDBMS). SQL was constructed for creating and manipulating schemas, querying data and handling accessment of database object.\n",
    "\n",
    "**SQLite** is a database engine written in the C language. It is not a standalone app; rather, it is a library that software developers embed in their apps. As such, it belongs to the family of embedded databases. It is the most widely deployed database engine, as it used by several of the top web browsers, operating systems, mobile phones, and other embedded systems. \n",
    "SQLite has bindings to many programming languages. It generally follows PostgreSQL syntax but does not enforce type checking. "
   ]
  },
  {
   "cell_type": "markdown",
   "id": "1117950c",
   "metadata": {},
   "source": [
    "# 1. DML "
   ]
  },
  {
   "cell_type": "markdown",
   "id": "3aca369d",
   "metadata": {},
   "source": [
    "**DML(Data Manipulation Language)** is a family of computer languages including commands permitting users to manipulate data in database. This manipulation involves inserting data into database tables, retreiving existing data, deleting data from existing tables and modifying existing data. "
   ]
  },
  {
   "cell_type": "markdown",
   "id": "0123f073",
   "metadata": {},
   "source": [
    "## 1.1 Querying in DB\n",
    "\n",
    "**Query** is a precise request for information retreval with database and information systems."
   ]
  },
  {
   "cell_type": "markdown",
   "id": "30436b97",
   "metadata": {},
   "source": [
    "### SELECT\n",
    "\n",
    "SELECT choose columns from database.\n",
    "\n",
    "\n",
    "```SQL\n",
    "SELECT [col_name1], \n",
    "       [col_name2 from subquery](SELECT ... FROM ... ;),\n",
    "       [col_name3] AS alias_name,\n",
    "       ...\n",
    "```"
   ]
  },
  {
   "cell_type": "markdown",
   "id": "da2febd3",
   "metadata": {},
   "source": [
    "### FROM \n",
    "\n",
    "FROM specifies table from database.\n",
    "\n",
    "```SQL\n",
    "SELECT ...\n",
    "  FROM [table_name] or [table from subquery](SELECT ... FROM ...;)\n",
    "```"
   ]
  },
  {
   "cell_type": "markdown",
   "id": "560f9fb2",
   "metadata": {},
   "source": [
    "### LIMIT \n",
    "\n",
    "LIMIT specifies rows to show.\n",
    "\n",
    "```SQL \n",
    "SELECT ...\n",
    "  FROM ... \n",
    "   ...\n",
    " LIMIT 3;\n",
    "```"
   ]
  },
  {
   "cell_type": "markdown",
   "id": "c9655269",
   "metadata": {},
   "source": [
    "### WEHRE \n",
    "\n",
    "WHERE is used to retreive rows from table which make specific conditions. We can use all boolean operator used in Python, such as <, <=, >, >=, =, !=, <>\n",
    "\n",
    "```SQL\n",
    "SELECT ...\n",
    "  FROM ...\n",
    " WHERE [condition_1] OR [condition_2] AND [condition_3]\n",
    "   ...;\n",
    "```"
   ]
  },
  {
   "cell_type": "markdown",
   "id": "ec4214c5",
   "metadata": {},
   "source": [
    "**1. IN**\n",
    "\n",
    "We can use IN to specify a list of values we want to match against.\n",
    "\n",
    "```SQL\n",
    "SELECT ...\n",
    "  FROM [table_name]\n",
    " WHERE [col_name1] IN ('value1', 'value2', ...)\n",
    "   ...;\n",
    "```"
   ]
  },
  {
   "cell_type": "markdown",
   "id": "3f8c070b",
   "metadata": {},
   "source": [
    "**2. LIKE**\n",
    "\n",
    "We can also matches a part of a string in specific column. We should use % % to specify the patterns.\n",
    "\n",
    "```SQL\n",
    "SELECT ...\n",
    "    FROM ...\n",
    "WHERE [col_name] LIKE \"%pattern%\";\n",
    "```"
   ]
  },
  {
   "cell_type": "markdown",
   "id": "aed8f01e",
   "metadata": {},
   "source": [
    "### GROUP BY / HAVING "
   ]
  },
  {
   "cell_type": "markdown",
   "id": "0f04c2d1",
   "metadata": {},
   "source": [
    "GROUP BY is used to group rows in unique values. When we need data in specific conditions after apply grouping we use HAVING.\n",
    "\n",
    "```SQL\n",
    "SELECT [col_name1], FUNC([col_name2]) AS [new_col1] \n",
    "  FROM ... \n",
    " GROUP BY [col_name1], [col_name2], ...\n",
    " HAVING [condition_1]\n",
    "```"
   ]
  },
  {
   "cell_type": "markdown",
   "id": "f1d5160e",
   "metadata": {},
   "source": [
    "### ORDER BY\n",
    "\n",
    "ORDER BY is used when we want to sort tables in specific columns. we can replace [col_name] by integer on positional argument in SELECT caluse, but this replacement hurt readability of codes.\n",
    "\n",
    "```SQL\n",
    "SELECT ...\n",
    "  FROM ...\n",
    " WHERE ...\n",
    "   ...\n",
    " ORDER BY [col_name1], [col_name2] DESC;\n",
    "```"
   ]
  },
  {
   "cell_type": "markdown",
   "id": "8759d780",
   "metadata": {},
   "source": [
    "### AS"
   ]
  },
  {
   "cell_type": "markdown",
   "id": "1b5c5c37",
   "metadata": {},
   "source": [
    "When we apply aggregation functions to columns, the final name of calculated columns is like 'AVG(col)'. To prevent this, we can make new name with AS clause.\n",
    "\n",
    "```SQL\n",
    "SELECT COUNT([col_name1]) AS [new_col1], \n",
    "       (SELECT [col_name2] FROM [table_name]) AS [new_col2],\n",
    "   ...\n",
    "  FROM ... \n",
    "   ...;\n",
    "```"
   ]
  },
  {
   "cell_type": "markdown",
   "id": "d77ecf60",
   "metadata": {},
   "source": [
    "### DISTINCT \n",
    "DISTINCT clause takes unique variable in specific column.\n",
    "\n",
    "```SQL\n",
    "SELECT COUNT(DISTINCT [col_name1]) AS 'count of unique variable'\n",
    "  FROM [table_name]\n",
    "...\n",
    "```"
   ]
  },
  {
   "cell_type": "markdown",
   "id": "1ff6e743",
   "metadata": {},
   "source": [
    "### CASE WHEN \n",
    "We can use if/then logic in SQL using CASE ~ WHEN. With this cluase, we can do binning rows by conditions.\n",
    "\n",
    "```SQL\n",
    "SELECT [col_name1], \n",
    "        CASE \n",
    "        WHEN [condition_1] THEN [value_1]\n",
    "        WHEN [condition_2] THEN [value_2]\n",
    "        ELSE [value_3]\n",
    "        END AS [new_col], \n",
    "        ...\n",
    "  FROM [table_name]\n",
    "   ...;\n",
    "```"
   ]
  },
  {
   "cell_type": "markdown",
   "id": "607e389d",
   "metadata": {},
   "source": [
    "### Order of Clause\n",
    "\n",
    "1. FROM\n",
    "2. WHERE\n",
    "3. GROUP BY\n",
    "4. HAVING\n",
    "5. SELECT\n",
    "6. ORDER BY\n",
    "7. LIMIT"
   ]
  },
  {
   "cell_type": "markdown",
   "id": "5d66f2e2",
   "metadata": {},
   "source": [
    "## 1.2 Aggregate functions"
   ]
  },
  {
   "cell_type": "markdown",
   "id": "1acb7cbb",
   "metadata": {},
   "source": [
    "Aggregate function is a function where the values of multiple rows are grouped together to form a single summary value. The common used aggregate functions is AVG(), COUNT(), MAX(), MIN(), MED(), SUM().\n",
    "\n",
    "Systems of applying aggregate functions in tables works by rows. When we use WHERE clause SQL make bundles of rows in table making specific conditions and also GROUP BY clause follows this. Aggregation is applied on this bundles of rows.\n",
    "\n",
    "```SQL\n",
    "SELECT SUM([col_name1]) AS [new_col1], \n",
    "       ...\n",
    "  FROM [table_name]\n",
    " WHERE [condition_1] ... \n",
    " GROUP BY [col1_name2] \n",
    "   ...;\n",
    "```\n",
    "\n",
    "### CAST \n",
    "And SQL supports that standard arithmetic opertors(+, -, *, /), Arithmetic between two integers returns an integer so we need to change using CAST(AS Float) \n",
    "\n",
    "```SQL\n",
    "SELECT CAST([col_name1] AS Float) / CAST([col_name2] AS Float) AS [new_col1], \n",
    "       ...\n",
    "  FROM ...\n",
    "   ...;\n",
    "```\n",
    "\n",
    "### ROUND \n",
    "We can make value in specific number decimal places using ROUND().\n",
    "\n",
    "```SQL\n",
    "SELECT ROUND([col_name1], 3) AS [rounded_col]\n",
    "  FROM ...\n",
    "   ...;\n",
    "```\n",
    "\n",
    "### || \n",
    "We can concatenate string type data into a single column using '||' opertor.\n",
    "\n",
    "```SQL\n",
    "SELECT \"string1 : \" || [col_name1] AS [new_col],\n",
    "       ...\n",
    "  FROM ...\n",
    "   ...;\n",
    "```"
   ]
  },
  {
   "cell_type": "markdown",
   "id": "956d9b28",
   "metadata": {},
   "source": [
    "## 1.3 Merge \n",
    "\n",
    "We can join data from more than two tables by stacking JOIN clauses."
   ]
  },
  {
   "cell_type": "markdown",
   "id": "c2f6010e",
   "metadata": {},
   "source": [
    "### INNER JOIN\n",
    "\n",
    "```SQL\n",
    "SELECT [alias_table_name1].[col_name1], [alias_table_name2].[col_name2], ...\n",
    "  FROM [table_name1] AS [alias_table_name1]\n",
    "  INNER JOIN [table_name2] AS [alais_table_name2] ON [alias_table_name1].[key1] = [alias_table_name2].[key2]\n",
    "```"
   ]
  },
  {
   "cell_type": "markdown",
   "id": "ebd99943",
   "metadata": {},
   "source": [
    "### LEFT JOIN\n",
    "\n",
    "```SQL\n",
    "SELECT [alias_table_name1].[col_name1], [alias_table_name2].[col_name2], ...\n",
    "  FROM [table_name1] AS [alias_table_name1]\n",
    "  LEFT JOIN [table_name2] AS [alais_table_name2] ON [alias_table_name1].[key1] = [alias_table_name2].[key2]\n",
    "```"
   ]
  },
  {
   "cell_type": "markdown",
   "id": "d04af3d7",
   "metadata": {},
   "source": [
    "### RIGHT JOIN\n",
    "\n",
    "```SQL\n",
    "SELECT [alias_table_name1].[col_name1], [alias_table_name2].[col_name2], ...\n",
    "  FROM [table_name1] AS [alias_table_name1]\n",
    "  RIGHT JOIN [table_name2] AS [alais_table_name2] ON [alias_table_name1].[key1] = [alias_table_name2].[key2]\n",
    "```"
   ]
  },
  {
   "cell_type": "markdown",
   "id": "acd92452",
   "metadata": {},
   "source": [
    "### FULL OUTER JOIN \n",
    "\n",
    "```SQL\n",
    "SELECT [alias_table_name1].[col_name1], [alias_table_name2].[col_name2], ...\n",
    "    FROM [table_name1] AS [alias_table_name1]\n",
    "    FULL OUTER JOIN [table_name2] AS [alais_table_name2] ON [alias_table_name1].[key1] = [alias_table_name2].[key2]\n",
    "```"
   ]
  },
  {
   "cell_type": "markdown",
   "id": "75288d4a",
   "metadata": {},
   "source": [
    "### UNION\n",
    "UNION clause selects rows that occurs in one or more SELECT statements. This clause can stack duplicated rows among tables.\n",
    "\n",
    "```SQL\n",
    "[select statement]\n",
    "UNION\n",
    "[select statement]\n",
    "```"
   ]
  },
  {
   "cell_type": "markdown",
   "id": "b393d573",
   "metadata": {},
   "source": [
    "### INTERSECT \n",
    "INTERSECT clause selects rows that occurs both SELECT statement. This clause stacks rows without duplicated rows.\n",
    "\n",
    "```SQL\n",
    "[select statement]\n",
    "INTERSECT\n",
    "[select statement]\n",
    "```"
   ]
  },
  {
   "cell_type": "markdown",
   "id": "aecfe947",
   "metadata": {},
   "source": [
    "### EXCEPT \n",
    "EXCEPT clause selects rows that occur in the first select statement but not the second select statement.\n",
    "\n",
    "```SQL\n",
    "[select statement]\n",
    "EXCEPT \n",
    "[select statement]\n",
    "```"
   ]
  },
  {
   "cell_type": "markdown",
   "id": "0891bc6d",
   "metadata": {},
   "source": [
    "## 1.4 Views \n",
    "\n",
    "In a database, a view is the result set of a stored query on the data, which the database users can query just as they would in a persistent database collection object. This pre-established query command is kept in the database dictionary. Unlike ordinary base tables in a relational database, a view does not form part of physical schema: as a result set, it is a virtual table computed or collated dynamically from data in the database when access to that view is requested.\n",
    "\n",
    "### CREATE\n",
    "```SQL \n",
    "CREATE VIEW [db_name].[view_name] AS \n",
    "    SELECT ...\n",
    "      FROM ...\n",
    "       ...;\n",
    "```\n",
    "\n",
    "### DROP\n",
    "```SQL\n",
    "DROP VIEW [db_name].[view_name];\n",
    "```"
   ]
  },
  {
   "cell_type": "markdown",
   "id": "f20ed4bb",
   "metadata": {},
   "source": [
    "## 1.5 INSERT\n",
    "\n",
    "An SQL INSERT statement adds one or more records to any single table in a relational database.\n",
    "\n",
    "```SQL\n",
    "INSERT INTO [table_name] ([column_name1], [column_name2], ...) \n",
    "     VALUES (([value11], [value12], ...), \n",
    "             ([value21], [value22], ...), \n",
    "             ...);\n",
    "```"
   ]
  },
  {
   "cell_type": "markdown",
   "id": "e31acc39",
   "metadata": {},
   "source": [
    "## 1.6 UPDATE\n",
    "\n",
    "An SQL UPDATE statement changes the data of one or more records in a table. Either all the rows can be updated, or a subset may be chosen using a cnodition.\n",
    "\n",
    "```SQL\n",
    "UPDATE [table_name]\n",
    "SET\n",
    "[column_name1] = [expression],\n",
    "[column_name2] = [expression],\n",
    "...\n",
    "WHERE [condition_1];\n",
    "```"
   ]
  },
  {
   "cell_type": "markdown",
   "id": "8beee16a",
   "metadata": {},
   "source": [
    "## 1.7 DELETE\n",
    "\n",
    "The DELETE statement removes one or more records from a table.\n",
    "\n",
    "```SQL\n",
    "DELETE FROM [table_name]\n",
    " WHERE [condition_1];\n",
    "```"
   ]
  },
  {
   "cell_type": "markdown",
   "id": "ab278353",
   "metadata": {},
   "source": [
    "# 2. DDL"
   ]
  },
  {
   "cell_type": "markdown",
   "id": "4b5e7a6b",
   "metadata": {},
   "source": [
    "## 2.1 CREATE\n",
    "\n",
    "CREAT clause make tables in database.\n",
    "\n",
    "```SQL\n",
    "CREATE TABLE [table_name] (\n",
    "    [column_name1] [column_type1] PRIMARY KEY,\n",
    "    [column_name2] [column_type2],\n",
    "    FOREIGN KEY ([column_name2]) REFERENCE parent_table([column_name2])\n",
    "    ...\n",
    ");\n",
    "```\n",
    "\n",
    "There are some type we can define such as TEXT, INTEGER, REAL, NUMERIC, BLOB. 테이블 내부에는 데이터 타입과는 별개로 기본키(Primary Key)와 왜래키(Foreign Key)가 존재한다. 기본키는 테이블 내부에 고유한 값을 가지고 있는 열이면서 테이블을 식별하는 기준이 된다. 왜래키는 다른 테이블과 연결할 수 있는 열을 의미하며 다른 테이블의 기본키가 해당 테이블의 왜래키로 작동하게 된다. "
   ]
  },
  {
   "cell_type": "markdown",
   "id": "50d468a5",
   "metadata": {},
   "source": [
    "## 2.2 ALTER\n",
    "\n",
    "The ALTER statement modifies an existing database object. An ALTER statement in SQL changes the properties of an object inside of RDBMS. The types of objects that can be altered depends on which RDBMS is being used. \n",
    "\n",
    "```SQL\n",
    "ALTER TABLE [table_name] \n",
    "  ADD COLUMN [column_name1] [column_type1];\n",
    "  \n",
    "ALTER TABLE [table_name] \n",
    " DROP COLUMN [column_name];\n",
    "```"
   ]
  },
  {
   "cell_type": "markdown",
   "id": "4377a936",
   "metadata": {},
   "source": [
    "## 2.3 DELETE\n",
    "\n",
    "DELETE cluase drop tables in database\n",
    "\n",
    "```SQL\n",
    "DELETE TABLE [table_name];\n",
    "```"
   ]
  },
  {
   "cell_type": "markdown",
   "id": "f923c9ef",
   "metadata": {},
   "source": [
    "# 3. Subquery vs CTEs\n",
    "\n",
    "## 3.1 Subqueries\n",
    "\n",
    "Queries can be nested so that the results of one query can be used in another query via a relational operator or aggregation function. A nested query is also known as subquery. While joins and other table operations provide computationally superior alternatives in many cases, the use of subqueries introduces a hierachy in execution that can be useful or necessary.\n",
    "\n",
    "```SQL\n",
    "SELECT [col_name1], \n",
    "       (SELECT [col_name2] FROM [table_name2]) AS [new_col], \n",
    "       ...\n",
    "  FROM [table_name1] \n",
    " WHERE [col_name] > (SELECT FUNC([col_name3] FROM [table_name3]) \n",
    "   ...;\n",
    "```\n",
    "\n",
    "## 3.2 Common Table Expression\n",
    "\n",
    "A common table exrpession, or CTE is a temporary named result set, derived from a simple query and defined within the execution scope of a SELECT, INSERT, UPDATE, or DELETE statement. CTEs cna be thought of as alternatives to subquery, views, and inline user-defined functions. \n",
    "\n",
    "```SQL \n",
    "WITH [CTE_name1] AS \n",
    "     (\n",
    "        SELECT ...\n",
    "        FROM [table_1] \n",
    "        ...\n",
    "     ),\n",
    "     [CTE_name2] AS \n",
    "     (\n",
    "         ...\n",
    "     )\n",
    "SELECT ...\n",
    "  FROM [CTE_name1] \n",
    "   ...;\n",
    "```"
   ]
  },
  {
   "cell_type": "markdown",
   "id": "396a6783",
   "metadata": {},
   "source": [
    "# 4. Skill Queries \n",
    "\n",
    "## 4.1 Check if there are same values in two tables\n",
    "\n",
    "두 테이블 내부에서 주키와 왜래키가 아닌 열의 원소들이 동일한지 확인하는 방법은 각 테이블의 차집합이 NULL값인지 연산 후 AND 연산자를 통해 결과가 0 False가 나오면 두 테이블의 행의 원소가 동일함을 알 수 있다.\n",
    "\n",
    "```SQL\n",
    "(\n",
    "SELECT t.track_id \n",
    "  FROM track AS t \n",
    " WHERE t.album_id = (SELECT t2.album_id\n",
    "                     FROM track AS t2\n",
    "                     WHERE t2.track_id = ifs.first_track)\n",
    "\n",
    "EXCEPT \n",
    "\n",
    "SELECT il.track_id\n",
    "  FROM invoice_line AS il \n",
    " WHERE il.invoice_id = (SELECT il2.invoice_id\n",
    "                        FROM invoice_line AS il2\n",
    "                        WHERE il2.invoice_id = ifs.invoice_id)\n",
    ") IS NULL\n",
    "\n",
    "AND  \n",
    "\n",
    "(\n",
    "SELECT il.track_id\n",
    "  FROM invoice_line AS il \n",
    " WHERE il.invoice_id = (SELECT il2.invoice_id\n",
    "                        FROM invoice_line AS il2\n",
    "                        WHERE il2.invoice_id= ifs.invoice_id)\n",
    "\n",
    "EXCEPT \n",
    "\n",
    "SELECT t.track_id \n",
    "  FROM track AS t \n",
    " WHERE t.album_id = (SELECT t2.album_id\n",
    "                     FROM track AS t2\n",
    "                     WHERE t2.track_id = ifs.first_track)    \n",
    ") IS NULL \n",
    "```"
   ]
  },
  {
   "cell_type": "markdown",
   "id": "2c35d28f",
   "metadata": {},
   "source": [
    "# 5. SQLite Shell \n",
    "We can execute SQLite on shell using sqlite3 [db_name].db command. We can us dot commands for view options and using shell commands.\n",
    "Below is kinds of dot commands : \n",
    "\n",
    "- .headers on : Show columns name \n",
    "- .mode column : Return tidy table\n",
    "- .help : Print all dot commands \n",
    "- tables : Print all tables and views in database \n",
    "- .shell [command] : We can execute shell commands \n",
    "- .quit : quit SQLite Shell\n",
    "- .schema [table_name] : Check schema of table\n"
   ]
  },
  {
   "cell_type": "markdown",
   "id": "36858b48",
   "metadata": {},
   "source": [
    "# 6. SQLite Python Script\n",
    "\n",
    "We can use queries in Python using 'sqlite3' module. After we connect to db with sqlite3.connect(), we should close connection as we did on opening files. \n",
    "\n",
    "```python\n",
    "import sqlite3\n",
    "sqlite3.connect('[db_name].db')\n",
    "cursor = conn.cursor()\n",
    "\n",
    "queries = \"\"\"\n",
    "SELECT ...\n",
    "  FROM ...\n",
    "   ...;\n",
    "\"\"\"\n",
    "\n",
    "cursor.execute(query)\n",
    "cursor.fetchall()\n",
    "# cursor.fetchone() : return only row one \n",
    "# cursor.fetchmany(n) : return n rows \n",
    "\n",
    "conn.close() \n",
    "```"
   ]
  }
 ],
 "metadata": {
  "kernelspec": {
   "display_name": "Python 3",
   "language": "python",
   "name": "python3"
  },
  "language_info": {
   "codemirror_mode": {
    "name": "ipython",
    "version": 3
   },
   "file_extension": ".py",
   "mimetype": "text/x-python",
   "name": "python",
   "nbconvert_exporter": "python",
   "pygments_lexer": "ipython3",
   "version": "3.8.8"
  },
  "toc": {
   "base_numbering": 1,
   "nav_menu": {},
   "number_sections": false,
   "sideBar": true,
   "skip_h1_title": false,
   "title_cell": "Table of Contents",
   "title_sidebar": "Contents",
   "toc_cell": false,
   "toc_position": {
    "height": "calc(100% - 180px)",
    "left": "10px",
    "top": "150px",
    "width": "369.6px"
   },
   "toc_section_display": true,
   "toc_window_display": true
  },
  "varInspector": {
   "cols": {
    "lenName": 16,
    "lenType": 16,
    "lenVar": 40
   },
   "kernels_config": {
    "python": {
     "delete_cmd_postfix": "",
     "delete_cmd_prefix": "del ",
     "library": "var_list.py",
     "varRefreshCmd": "print(var_dic_list())"
    },
    "r": {
     "delete_cmd_postfix": ") ",
     "delete_cmd_prefix": "rm(",
     "library": "var_list.r",
     "varRefreshCmd": "cat(var_dic_list()) "
    }
   },
   "types_to_exclude": [
    "module",
    "function",
    "builtin_function_or_method",
    "instance",
    "_Feature"
   ],
   "window_display": false
  }
 },
 "nbformat": 4,
 "nbformat_minor": 5
}
