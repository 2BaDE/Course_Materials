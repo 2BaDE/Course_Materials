{
 "cells": [
  {
   "cell_type": "markdown",
   "id": "06f789ab",
   "metadata": {},
   "source": [
    "# 1. Linear Structures ADT\n",
    "\n",
    "Stacks, queues, deques, and lists are examples of data collections whose items are ordered depending on how they are added or removed. In the **linear data structures**, once an item is added, it stays in that position relative to the other elements that came before and came after it. "
   ]
  },
  {
   "cell_type": "markdown",
   "id": "0dc49141",
   "metadata": {},
   "source": [
    "# 2. Stack ADT \n",
    "\n",
    "## 2.1 What is a Stack? \n",
    "\n",
    "A **stack** is an ordered collection of items where the addition of new items and the removal of existing items always takes place at the same end. The most recently added item is the one that is in position to be removed first. This ordering principle is sometimes called **LIFO, Last-in First-Out**. \n",
    "\n",
    "![](Img/Stack1.png)\n",
    "\n",
    "Stacks are fundamentally important, as they can be used to reverse the order of items. The order of insertion is the reverse of the order of removal. \n",
    "\n",
    "<div class=\"alert alert-block alert-warning\">For example, every web browser has a Back botton. As we navigate from web page to web page, those pages are placed on a stack. The current page that we are viewing is on the top and the first page we looked at is at the base. If we clock on the Back botton, we begin to move in reverse order through the pages.</div>"
   ]
  },
  {
   "cell_type": "code",
   "execution_count": null,
   "id": "91a47ae9",
   "metadata": {},
   "outputs": [],
   "source": []
  }
 ],
 "metadata": {
  "kernelspec": {
   "display_name": "Python 3",
   "language": "python",
   "name": "python3"
  },
  "language_info": {
   "codemirror_mode": {
    "name": "ipython",
    "version": 3
   },
   "file_extension": ".py",
   "mimetype": "text/x-python",
   "name": "python",
   "nbconvert_exporter": "python",
   "pygments_lexer": "ipython3",
   "version": "3.8.8"
  },
  "toc": {
   "base_numbering": 1,
   "nav_menu": {},
   "number_sections": false,
   "sideBar": true,
   "skip_h1_title": false,
   "title_cell": "Table of Contents",
   "title_sidebar": "Contents",
   "toc_cell": false,
   "toc_position": {},
   "toc_section_display": true,
   "toc_window_display": true
  },
  "varInspector": {
   "cols": {
    "lenName": 16,
    "lenType": 16,
    "lenVar": 40
   },
   "kernels_config": {
    "python": {
     "delete_cmd_postfix": "",
     "delete_cmd_prefix": "del ",
     "library": "var_list.py",
     "varRefreshCmd": "print(var_dic_list())"
    },
    "r": {
     "delete_cmd_postfix": ") ",
     "delete_cmd_prefix": "rm(",
     "library": "var_list.r",
     "varRefreshCmd": "cat(var_dic_list()) "
    }
   },
   "types_to_exclude": [
    "module",
    "function",
    "builtin_function_or_method",
    "instance",
    "_Feature"
   ],
   "window_display": false
  }
 },
 "nbformat": 4,
 "nbformat_minor": 5
}
