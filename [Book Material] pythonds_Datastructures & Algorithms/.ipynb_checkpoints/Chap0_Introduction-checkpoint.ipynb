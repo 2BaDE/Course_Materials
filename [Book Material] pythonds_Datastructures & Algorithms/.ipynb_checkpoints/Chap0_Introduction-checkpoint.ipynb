{
 "cells": [
  {
   "cell_type": "markdown",
   "id": "6010874b",
   "metadata": {},
   "source": [
    "# 1. Getting Started \n",
    "\n",
    "1. Reviews the framework within which computer science and the study of algorithms and data structures must fit.\n",
    "2. The reason why we need to study these topics and how understanding these topics help us to become better problem solver. \n",
    "3. Reviews the Python probgramming language"
   ]
  },
  {
   "cell_type": "markdown",
   "id": "f402f5fa",
   "metadata": {},
   "source": [
    "# 2. What is Computer Science?\n",
    "\n",
    "## 2.1 In case of problem-solving\n",
    "\n",
    "The study of problems, problem-solving, and the solutions that come out of the problem-solving process. Given a problem, a computer scientist's goal is to develop an **algorithm**, a step-by-step of instructions for solving any instance of problem that might arise. We must be careful to include the fact that some problems may not have a solution. Considering the exception of non-existing solutions, the definition of computer science is the study of problems that are and that are not **computable**(It is also very common to include the word computable when describing problems and solutions)\n",
    "\n",
    "## 2.2 In case of abstraction \n",
    "\n",
    "Computer science, as it pertains to the problem-solving process it self, is also the study of **abstraction**. Abstraction allows us to view problem and solution in such a way as to separate the so-called <font color ='red'> logical and physical perspectives.</font>\n",
    "\n",
    "- **Logical perspective(interface)** : See problem on user's perspective\n",
    "- **Physical perspective(inplementation)** : See problem on engineer's perspective\n",
    "\n",
    "**Procedual abastraction** refers to as a \"black box\" view of a process. We simply describe the interface : the name of the function, what is needed(the parameters), and what will be returned. The details are hidden inside. "
   ]
  },
  {
   "cell_type": "markdown",
   "id": "dce2c4da",
   "metadata": {},
   "source": [
    "# 3. What is Programming? \n",
    "\n",
    "**Programming** is the process of taking an algorithm and encoding it into a notation, a programming language, so that it can be executed by a computer. Computer science is not the study of programming. Programming, however, is an important part of what a computer scientist does. <font color = 'red'>Programming is often the way that we create a representation for our solutions.</font> \n",
    "\n",
    "Therefore, this language representation and the process of creating it becomes a fundamental part of the discipline. \n",
    "\n",
    "Algorithms describe the solution to a problem in terms of the data needed to reesent the problem instance and the set of steps necessary to produce the intended result. Programming languages must provide a notational way to represent both the process and the data. To this end, languages provide control constructs and data types. \n",
    "\n",
    "Data types provide an interpertation for binary data so that we can think about the data interms that make sense with respect to the problem being solved. "
   ]
  },
  {
   "cell_type": "markdown",
   "id": "9900592a",
   "metadata": {},
   "source": [
    "# 4. Why study Data Structures and Abstract Data Types?\n",
    "\n",
    "## 4.1 Abstract Data Type\n",
    "To manage the complexity of problems and the problem-solving process, computer scientists use abstractions to allow them to focus on the big picture without getting lost in the details. \n",
    "\n",
    "An **abstract data type**, sometimes abbreviated **ADT**, is a logical dsecription of how we view the data and the operations that allowed without regard to how they will be implemented. This means that we acre concerned only with what the data is representing and not with how it will eventually be construced. \n",
    "\n",
    "\n",
    "## 4.2 Figure of ADT\n",
    "\n",
    "[Figure] shows a picture of what an abstract data type is and how it operates. The user interacts with the interface, using the operations that have been specified by the abstract data type. The abstract data type is the shell that the user interacts with. The implementation is hidden one level deeper. The user is not concerned with the details of the implementation. \n",
    "\n",
    "![](Img/ADT.png)\n",
    "\n",
    "\n",
    "## 4.3 Independence between operation and implementation\n",
    "The implementation of an abstract data type, often referred to as a data structure, will require that we provide a physical view of the data using some collection of programming constructs and primitive data types. <font color='red'>This provides an implentation-in dependent view of the data. This implementation independence allows the programmer to swith the detals of the implementation without changing the way the user of the data iteracts with it.</font> "
   ]
  },
  {
   "cell_type": "markdown",
   "id": "373b8576",
   "metadata": {},
   "source": [
    "# 5. Why Study Algorithms? \n",
    "\n",
    "Computer scientists learn by experience. We learn by seeing others solve problems and by solving problems by ourselves. Being exposed to different problem-solving techniques and seeing how different algorithms are designed helps us to take on the next challenging problem that we are given. By considering a number of different algorithms, we can begin to develop pattern recognition so that the next time a similar problem arises, we are better able to solve it.\n",
    "\n",
    "As we study algorithms, we can learn analysis techinques that allow us to compare and contrast colutions based soley on their own characteristics, not the characteristics of the program or computer used to implement them. It is also important to be able to distiguish between those problems that have solutions, those that do not, and those where solutions exist but require too much time or other resources to work reasonably. \n",
    "\n",
    "As computer scientists, in addition to our ability to solve problems, we will also need to know and understand solution evaluation techniques. In the end, there are often many ways to solve a problem. Finding a solution and then deciding whether it is a good one are tastks that we will do over and over again. "
   ]
  }
 ],
 "metadata": {
  "kernelspec": {
   "display_name": "Python 3",
   "language": "python",
   "name": "python3"
  },
  "language_info": {
   "codemirror_mode": {
    "name": "ipython",
    "version": 3
   },
   "file_extension": ".py",
   "mimetype": "text/x-python",
   "name": "python",
   "nbconvert_exporter": "python",
   "pygments_lexer": "ipython3",
   "version": "3.8.8"
  },
  "toc": {
   "base_numbering": 1,
   "nav_menu": {},
   "number_sections": false,
   "sideBar": true,
   "skip_h1_title": false,
   "title_cell": "Table of Contents",
   "title_sidebar": "Contents",
   "toc_cell": false,
   "toc_position": {
    "height": "calc(100% - 180px)",
    "left": "10px",
    "top": "150px",
    "width": "243.2px"
   },
   "toc_section_display": true,
   "toc_window_display": true
  },
  "varInspector": {
   "cols": {
    "lenName": 16,
    "lenType": 16,
    "lenVar": 40
   },
   "kernels_config": {
    "python": {
     "delete_cmd_postfix": "",
     "delete_cmd_prefix": "del ",
     "library": "var_list.py",
     "varRefreshCmd": "print(var_dic_list())"
    },
    "r": {
     "delete_cmd_postfix": ") ",
     "delete_cmd_prefix": "rm(",
     "library": "var_list.r",
     "varRefreshCmd": "cat(var_dic_list()) "
    }
   },
   "types_to_exclude": [
    "module",
    "function",
    "builtin_function_or_method",
    "instance",
    "_Feature"
   ],
   "window_display": false
  }
 },
 "nbformat": 4,
 "nbformat_minor": 5
}
