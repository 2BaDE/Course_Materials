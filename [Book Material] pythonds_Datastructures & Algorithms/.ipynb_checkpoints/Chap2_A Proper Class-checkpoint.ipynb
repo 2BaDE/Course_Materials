{
 "cells": [
  {
   "cell_type": "markdown",
   "id": "01cad46a",
   "metadata": {},
   "source": [
    "# 1. Writing a Proper Python Class\n",
    "\n",
    "The things need to consider designing a class : \n",
    "\n",
    "- Each class should have a docstring to provide some level of documentation on how to use the class. \n",
    "- Each class should have a \\_\\_str\\_\\_ magic method to give it a meaningful string representation. \n",
    "- Each class should have a proper \\_\\_repr\\_\\_ magic method for representation in the interactive shell, the debugger, and other cases where string conversion does not happen. \n",
    "- Each class should be comparable so it can be sorted and meaningfully compared with other instance. At a minimum this means implementing \\_\\_eq\\_\\_ and \\_\\_lt\\_\\_. \n",
    "- We should think about access control each intance variable. Which attributes do you want to make public, which attributes do you want to make read only, and which attributes do you want to control or do value checking on before you allow them to be changed. \n",
    "\n",
    "If the class is a container for other classes then there are some further considerations : \n",
    "\n",
    "- We should be able to find out how many things the container holds using len.\n",
    "- We should be able to iterate over the items in the container. \n",
    "- We may want to allow users to access the items in the container using the square bracket index notation. \n",
    "\n",
    "## 1.1 Implementation of the MSDie Class\n",
    " \n",
    "```Python\n",
    "import random \n",
    "\n",
    "class MSDie: \n",
    "    \"\"\"\n",
    "    Multi-sided die\n",
    "    \n",
    "    Instance Variables: \n",
    "        current_value \n",
    "        num_sides \n",
    "    \"\"\" \n",
    "    \n",
    "    def __init__(self, num_sides): \n",
    "        sefl.num_sides = num_sides \n",
    "        self.current_value = self.roll() \n",
    "        \n",
    "    def roll(self): \n",
    "        self.current_value = random.randrange(1, self.num_sides+1) \n",
    "        return self.current_value \n",
    "    \n",
    "    def __str__(self): \n",
    "        return str(self.current_value) \n",
    "    \n",
    "    def __repr__(self): \n",
    "        return f\"MSDie({self.num_sides}) : {self.current_value}\"\n",
    "    \n",
    "my_die = MSDie(6)\n",
    "for _ in range(5): \n",
    "    print(my_die, my_die.current_value)\n",
    "    my_die.roll() \n",
    "    \n",
    "d_list = [MSDie(6), MSDie(20)] \n",
    "print(d_list) \n",
    "```"
   ]
  },
  {
   "cell_type": "markdown",
   "id": "d3af8035",
   "metadata": {},
   "source": [
    "With the standard method \\_\\_str\\_\\_ and \\_\\_repr\\_\\_, we can print out attribute of object automatically. "
   ]
  }
 ],
 "metadata": {
  "kernelspec": {
   "display_name": "Python 3",
   "language": "python",
   "name": "python3"
  },
  "language_info": {
   "codemirror_mode": {
    "name": "ipython",
    "version": 3
   },
   "file_extension": ".py",
   "mimetype": "text/x-python",
   "name": "python",
   "nbconvert_exporter": "python",
   "pygments_lexer": "ipython3",
   "version": "3.8.8"
  },
  "toc": {
   "base_numbering": 1,
   "nav_menu": {},
   "number_sections": false,
   "sideBar": true,
   "skip_h1_title": false,
   "title_cell": "Table of Contents",
   "title_sidebar": "Contents",
   "toc_cell": false,
   "toc_position": {},
   "toc_section_display": true,
   "toc_window_display": false
  },
  "varInspector": {
   "cols": {
    "lenName": 16,
    "lenType": 16,
    "lenVar": 40
   },
   "kernels_config": {
    "python": {
     "delete_cmd_postfix": "",
     "delete_cmd_prefix": "del ",
     "library": "var_list.py",
     "varRefreshCmd": "print(var_dic_list())"
    },
    "r": {
     "delete_cmd_postfix": ") ",
     "delete_cmd_prefix": "rm(",
     "library": "var_list.r",
     "varRefreshCmd": "cat(var_dic_list()) "
    }
   },
   "types_to_exclude": [
    "module",
    "function",
    "builtin_function_or_method",
    "instance",
    "_Feature"
   ],
   "window_display": false
  }
 },
 "nbformat": 4,
 "nbformat_minor": 5
}
