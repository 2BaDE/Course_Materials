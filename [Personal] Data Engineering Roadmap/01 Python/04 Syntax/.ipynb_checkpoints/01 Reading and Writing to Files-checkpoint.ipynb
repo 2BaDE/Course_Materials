{
 "cells": [
  {
   "cell_type": "markdown",
   "id": "dc5d54d0",
   "metadata": {},
   "source": [
    "# 1. Getting a File Object \n",
    "\n",
    "There is a Python's build-in command called open. \n",
    "\n",
    "```Python\n",
    "# Basic way of getting file object \n",
    "# We can choose file mode by 'a', 'r', 'w' keywords.\n",
    "\n",
    "f = open('test.txt', 'r')\n",
    "\n",
    "# Check the name of file\n",
    "print(f.name) \n",
    "\n",
    "# Check the name of file mode \n",
    "print(f.mode) \n",
    "\n",
    "# Close file \n",
    "f.close() \n",
    "```"
   ]
  },
  {
   "cell_type": "markdown",
   "id": "fe3497d1",
   "metadata": {},
   "source": [
    "# 2. Getting a File Object using a Context Manager\n",
    "\n",
    "If we didn' close the file which we work, this file ends up with leaks cause us to runover the maximum allowed file descriptors on our systems. With a context manager, we don't have to worry about closing file. \n",
    "\n",
    "```Python\n",
    "# Variable name will be located in right \n",
    "with open('test.txt', 'r') as f: \n",
    "    f_contents = f.read() \n",
    "    # f_contents = f.readlines() -> Read file in one line \n",
    "    # f_contents = f.readline() -> Read file one by one \n",
    "    print(f_contents) \n",
    " \n",
    "# Check if file is closed \n",
    "print(f.closed) \n",
    "```"
   ]
  },
  {
   "cell_type": "markdown",
   "id": "5e5619b1",
   "metadata": {},
   "source": [
    "# 3. Getting a File Object by size\n",
    "\n",
    "We can specify size to read file by inputting integer in read function.\n",
    "\n",
    "```Python\n",
    "with open('test.txt', 'r') as f: \n",
    "    size_to_read = 100 \n",
    "    f_contents = f.read(size_to_read) \n",
    "    \n",
    "    while len(f_contents) > 0: \n",
    "        print(f_contents, end='')\n",
    "        f_contents = f.read(size_to_read)\n",
    "        \n",
    "        \n",
    "# Tell the location of current character in file\n",
    "print(f.tell()) \n",
    "\n",
    "# Set the file's current position at the offset \n",
    "print(f.seek()) \n",
    "```"
   ]
  },
  {
   "cell_type": "markdown",
   "id": "64d14b74",
   "metadata": {},
   "source": [
    "# 4. Writing to File Object \n",
    "\n",
    "To write something new into file, we need to use file mode 'w'. In writing mode, Python overwrite input contents into original contents. In that case, we need to use file mode 'a'. \n",
    "\n",
    "```Python\n",
    "with open('test2.txt', 'w') as f: \n",
    "    # If we just use pass command, this will create empty file \n",
    "    f.write('Test') \n",
    "    \n",
    "    # In writing mode, f.seek() function overwrite whole contents of file and rewrite contents\n",
    "\n",
    "# Copy contents of one file to another \n",
    "with open('test.txt', 'r') as rf: \n",
    "    with open('test_copy.txt', 'w') as wf: \n",
    "        for line in rf: \n",
    "            wf.write(line) \n",
    "```"
   ]
  },
  {
   "cell_type": "markdown",
   "id": "6a953e19",
   "metadata": {},
   "source": [
    "# 5. Reading and Writing Bytes in File Object \n",
    "\n",
    "```R\n",
    "with open('cat.jpg', 'rb') as rf: \n",
    "    with open('cat_copy.jpg', 'wb') as wf: \n",
    "        for line in rf: \n",
    "            wf.write(line) \n",
    "```"
   ]
  }
 ],
 "metadata": {
  "kernelspec": {
   "display_name": "Python 3",
   "language": "python",
   "name": "python3"
  },
  "language_info": {
   "codemirror_mode": {
    "name": "ipython",
    "version": 3
   },
   "file_extension": ".py",
   "mimetype": "text/x-python",
   "name": "python",
   "nbconvert_exporter": "python",
   "pygments_lexer": "ipython3",
   "version": "3.8.8"
  },
  "toc": {
   "base_numbering": 1,
   "nav_menu": {},
   "number_sections": false,
   "sideBar": true,
   "skip_h1_title": false,
   "title_cell": "Table of Contents",
   "title_sidebar": "Contents",
   "toc_cell": false,
   "toc_position": {},
   "toc_section_display": true,
   "toc_window_display": false
  },
  "varInspector": {
   "cols": {
    "lenName": 16,
    "lenType": 16,
    "lenVar": 40
   },
   "kernels_config": {
    "python": {
     "delete_cmd_postfix": "",
     "delete_cmd_prefix": "del ",
     "library": "var_list.py",
     "varRefreshCmd": "print(var_dic_list())"
    },
    "r": {
     "delete_cmd_postfix": ") ",
     "delete_cmd_prefix": "rm(",
     "library": "var_list.r",
     "varRefreshCmd": "cat(var_dic_list()) "
    }
   },
   "types_to_exclude": [
    "module",
    "function",
    "builtin_function_or_method",
    "instance",
    "_Feature"
   ],
   "window_display": false
  }
 },
 "nbformat": 4,
 "nbformat_minor": 5
}
