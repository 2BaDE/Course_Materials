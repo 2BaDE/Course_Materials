{
 "cells": [
  {
   "cell_type": "markdown",
   "id": "0a37c280",
   "metadata": {},
   "source": [
    "# 1. What is Unit Testing? \n",
    "\n",
    "**Unit testing** is a method for testing software that looks at the smallest testable pieces of code, called units, which are tested for correct operation. By doing unit testing, we can verify that each part of the code, including helper functions that may not be exposed to the user, works correctly and as intended. "
   ]
  },
  {
   "cell_type": "markdown",
   "id": "bab3658f",
   "metadata": {},
   "source": [
    "```Python\n",
    "# calc.py\n",
    "def add(x, y): \n",
    "    \"\"\"Add Function\"\"\"\n",
    "    return x + y\n",
    "\n",
    "def subtract(x, y): \n",
    "    \"\"\"Subtract Function\"\"\"\n",
    "    return x - y\n",
    "\n",
    "def multiply(x, y): \n",
    "    \"\"\"Multiply Function\"\"\"\n",
    "    return x * y\n",
    "\n",
    "def divide(x, y): \n",
    "    \"\"\"Divide Funciton\"\"\"\n",
    "    if y == 0: \n",
    "        raise ValueError(\"Cannot divide by Zero\")\n",
    "    return x / y\n",
    "\n",
    "# Check the test result of add function\n",
    "print(add(2, 3))\n",
    "# result : 5 \n",
    "```"
   ]
  },
  {
   "cell_type": "markdown",
   "id": "65cea10a",
   "metadata": {},
   "source": [
    "But, testing our code this way isn't easy to automate and it's also hard to maintain. \n",
    "\n",
    "The **unittest** unit testing framework supports test automation, sharing of setup and shutdown code for tests, aggregation of tests into collections, and independence of the tests from the reporting framework. "
   ]
  },
  {
   "cell_type": "markdown",
   "id": "5152adc1",
   "metadata": {},
   "source": [
    "# 2. How to use unittest module? "
   ]
  },
  {
   "cell_type": "markdown",
   "id": "8ee315f4",
   "metadata": {},
   "source": [
    "# 2.1 Importing library and module we want to test\n",
    "\n",
    "```Python\n",
    "# test_calc.py \n",
    "import unittest \n",
    "import calc \n",
    "```\n",
    "\n",
    "## 2.2 Delcare Test Class inheritance of unittest\n",
    "\n",
    "The basic building block of unit testing are test cases. The test cases are represented by unittest.TestCase instances. In order to test something, we use one of the assert\\*() method provided by the TestCase base class. \n",
    "\n",
    "If the test fails, an exception will be reaised with an explanatory message, and unittest will identify the test case as a failure. \n",
    "\n",
    "**assertEqual(first, second)** \n",
    "\n",
    "Test that first and second are equal. If the value do not compare equal, the test will fail. \n",
    "\n",
    "```Python\n",
    "class TestCalc(unittest.TestCase): \n",
    "    \n",
    "    # The name of method to test must start with test_ \n",
    "    def test_add(self):\n",
    "        result = calc.add(10, 5) \n",
    "        self.assertEqual(result, 15) \n",
    "        \n",
    "    def test_subtract(self):\n",
    "        self.assertEqual(calc.subtract(10, 5), 5) \n",
    "        \n",
    "if __name__ == '__main__': \n",
    "    unittest.main() \n",
    "```"
   ]
  },
  {
   "cell_type": "markdown",
   "id": "b0491cc5",
   "metadata": {},
   "source": [
    "## 2.3 Testing Exceptions\n",
    "\n",
    "**asertRaises(exception, callable, \\*args, \\*\\*kwds)**\n",
    "\n",
    "Test that an exception is raised when callable is called with any positional or keyword arguments that are also passed to assertRaises(). The test passes if exception is raised, is an error if another exception is raised, or fails if no exception is raised. \n",
    "\n",
    "```Python\n",
    "class TestCalc(unittest.TestCase): \n",
    "    \n",
    "    # The name of method to test must start with test_ \n",
    "    def test_add(self):\n",
    "        result = calc.add(10, 5) \n",
    "        self.assertEqual(result, 15) \n",
    "        \n",
    "    def test_subtract(self):\n",
    "        self.assertEqual(calc.subtract(10, 5), 5) \n",
    "        \n",
    "    def test_divide(self): \n",
    "        self.assertRaises(ValueError, calc.divide, 10, 0) \n",
    "        \n",
    "        # Same code as above \n",
    "        with self.assertRaise(ValueError): \n",
    "            calc.divide(10, 0)\n",
    "        \n",
    "if __name__ == '__main__': \n",
    "    unittest.main() \n",
    "```"
   ]
  },
  {
   "cell_type": "markdown",
   "id": "32a44553",
   "metadata": {},
   "source": [
    "## 2.4 Execute unittest in Command Line \n",
    "\n",
    "If we want to do unittest on command line, we command python -m unittest file.py on command line.\n",
    "\n",
    "It is recommended that we use TestCase implementations to group tests together according to the features they test. calling unittest.main() will do the right thing and collect all the module's test cases for us and execute them. \n",
    "\n",
    "The way of using \\_\\_name\\_\\_ == '\\_\\_main\\_\\_' saying that if we run this module directly then run the code within conditional and that code within conditional is unittest.main().  \n",
    "\n",
    "```CLI\n",
    "$ python -m unittest test_calc.py \n",
    "\n",
    ".\n",
    "---------------------------------------------\n",
    "Ran 2 test in 0.000s \n",
    "\n",
    "OK\n",
    "\n",
    "$ python test_calc.py \n",
    "\n",
    ". \n",
    "---------------------------------------------\n",
    "Ran 2 test in 0.000s \n",
    "\n",
    "OK \n",
    "```"
   ]
  },
  {
   "cell_type": "markdown",
   "id": "cb2dd283",
   "metadata": {},
   "source": [
    "# 3. Organizing test code \n",
    "\n",
    "Tests can be numerous, and their set-up can be repetitive. Luckily, we can factor out set-up code by implementing a method called setUp(), which the testing framework will automatically call for every single test we run: \n",
    "\n",
    "We can provide a tearDown() method that tides up after the test method has been run. If setUp() succeeded, tearDown() will be run whether the test method suceeded or not. \n",
    "\n",
    "```Python\n",
    "from employee import Employee \n",
    "import unittest \n",
    "\n",
    "class TestEmplyee(unittest.TestCase): \n",
    "    \n",
    "    @classmethod \n",
    "    def setUp(cls): \n",
    "        print('setUp')\n",
    "        self.emp_1 = Employee('Corey', 'Schafer', 50000) \n",
    "        self.emp_2 = Employee('Sue', 'Smith', 60000) \n",
    "    \n",
    "    @classmethod     \n",
    "    def tearDown(cls): \n",
    "        print('tearDown')\n",
    "        \n",
    "    def test_email(self): \n",
    "        print('test_email') \n",
    "        self.assertEqual(self.emp_1.email, 'Corey.Schafer@email.com') \n",
    "        self.assertEqual(self.emp_2.email, 'Sue.Smith@email.com') \n",
    "   \n",
    "if __name__ == \"__main__\": \n",
    "    unittest.main() \n",
    "```\n",
    "\n",
    "```CLI\n",
    "$ python test_calc.py \n",
    "\n",
    "setUp\n",
    "test_email \n",
    "tearDown \n",
    "\n",
    ". \n",
    "---------------------------------------------\n",
    "Ran 1 test in 0.000s \n",
    "\n",
    "OK \n",
    "```"
   ]
  }
 ],
 "metadata": {
  "kernelspec": {
   "display_name": "Python 3",
   "language": "python",
   "name": "python3"
  },
  "language_info": {
   "codemirror_mode": {
    "name": "ipython",
    "version": 3
   },
   "file_extension": ".py",
   "mimetype": "text/x-python",
   "name": "python",
   "nbconvert_exporter": "python",
   "pygments_lexer": "ipython3",
   "version": "3.8.8"
  },
  "toc": {
   "base_numbering": 1,
   "nav_menu": {},
   "number_sections": false,
   "sideBar": true,
   "skip_h1_title": false,
   "title_cell": "Table of Contents",
   "title_sidebar": "Contents",
   "toc_cell": false,
   "toc_position": {},
   "toc_section_display": true,
   "toc_window_display": false
  },
  "varInspector": {
   "cols": {
    "lenName": 16,
    "lenType": 16,
    "lenVar": 40
   },
   "kernels_config": {
    "python": {
     "delete_cmd_postfix": "",
     "delete_cmd_prefix": "del ",
     "library": "var_list.py",
     "varRefreshCmd": "print(var_dic_list())"
    },
    "r": {
     "delete_cmd_postfix": ") ",
     "delete_cmd_prefix": "rm(",
     "library": "var_list.r",
     "varRefreshCmd": "cat(var_dic_list()) "
    }
   },
   "types_to_exclude": [
    "module",
    "function",
    "builtin_function_or_method",
    "instance",
    "_Feature"
   ],
   "window_display": false
  }
 },
 "nbformat": 4,
 "nbformat_minor": 5
}
