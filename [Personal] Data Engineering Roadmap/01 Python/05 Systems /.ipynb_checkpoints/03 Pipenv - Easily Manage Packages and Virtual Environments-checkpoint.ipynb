{
 "cells": [
  {
   "cell_type": "markdown",
   "id": "a22a7c19",
   "metadata": {},
   "source": [
    "# 1. What is Pipenv? \n",
    "\n",
    "**Pipenv** is a tool that aims to bring the best of all packaging worlds to the Python world. It automatically creates and manage a virtualenv for our projects, as well as add/removes packages from our Pipfile as our install/uninstall packages.\n",
    "\n",
    "Pipenv is primarily meant to provide users and developers of application with an easy method to setup a working environment. \n",
    "\n",
    "## 1.1 What is Pip? \n",
    "\n",
    "A packages contains all the files we need for a module. And modules are Python code libraries we can include in our project. **PIP** is a package manager for Python packages, or modules if we like. \n",
    "\n",
    "## 1.2 What is the Virtual Environment? \n",
    "\n",
    "A **virtual environment** is a Python environment such that the Python interpreter, libraries and scripts installed into it are is isolated from those installed in other virtual environments. A virtual environment is a directory tree which contains Python executable files and other files which indicate that is a virtual environment. "
   ]
  },
  {
   "cell_type": "markdown",
   "id": "81942221",
   "metadata": {},
   "source": [
    "# 2. How to use Pipenv? "
   ]
  },
  {
   "cell_type": "markdown",
   "id": "067c7b69",
   "metadata": {},
   "source": [
    "### Step 1 : Install pipenv packages \n",
    "\n",
    "```CLI\n",
    "$ pip install pipenv\n",
    "```"
   ]
  },
  {
   "cell_type": "markdown",
   "id": "f02f345f",
   "metadata": {},
   "source": [
    "### Step 2 : Move to designated folder \n",
    "\n",
    "```CLI\n",
    "$ cd my_practice/\n",
    "```"
   ]
  },
  {
   "cell_type": "markdown",
   "id": "570f1d2e",
   "metadata": {},
   "source": [
    "### Step 3 : Creating virtual environment and installing packages \n",
    "\n",
    "When we use the pipenv command, it first checks whether a virtual environment exists in the Project. If the virtual environment is not installed, then the virtual environment will be installed in the project. \n",
    "\n",
    "```CLI\n",
    "$ pipenv install requests \n",
    "\n",
    "Creating a virtualenv for this project...\n",
    "Pipfile: /home/users/my_practice/Pipfile\n",
    "Using /usr/bin/python3.8 (3.8.10) to create virtualenv...\n",
    "⠦ Creating virtual environment...\n",
    "\n",
    "✔ Successfully created virtual environment! \n",
    "Virtualenv location: /home/users/.local/share/virtualenvs/my_practice-qrBNbtx-\n",
    "Creating a Pipfile for this project...\n",
    "Installing requests...\n",
    "\n",
    "Pipfile.lock not found, creating...\n",
    "Locking [packages] dependencies...\n",
    "Building requirements...\n",
    "Resolving dependencies...\n",
    "✔ Success! \n",
    "```\n",
    "\n",
    "\n",
    "**Pipfile**\n",
    "\n",
    "![](../img/Pipfile.png)\n",
    "\n",
    "Pipfile basically just tells us which packages we have installed and what version of that packages we're using. \n",
    "\n",
    "The [package] section specify what we install with its version. If we didn't specify a specific version of package, then it will be stored in package = \"*\" format. However, this can also be risky because we don't want to take any changes of updates breaking our project(This will be protected by Pipfile.lock). \n",
    "\n",
    "- source : Denote where we're downloading packages from \n",
    "- packages : Installed packages = Version(\\* if we didn't specify a specific version.) \n",
    "- dev-packages : Specify installed packages for development requirements\n",
    "- requires : Specify which version of Python that we're using. We can change version by changing to wanted version.  \n",
    "\n",
    "**Pipfile.lock**\n",
    "\n",
    "Pipfile.lock is another file that we're not supposed to touch. It's just a file that gets generated and produces deterministic builds. \n",
    "This file is a generated file that has more detailed information about our current environment. \n",
    "\n",
    "![](../img/Pipfile_lock.png)\n",
    "\n",
    "This file contains the dependencies that are installed when we installed the library. And also it has the exact version of each of these packages that were installed. \n",
    "\n",
    "This lock file will absolutely give us the exact same environment every time. "
   ]
  },
  {
   "cell_type": "markdown",
   "id": "7c392a0f",
   "metadata": {},
   "source": [
    "The dev-packages is for development requirements. So stuff like linters, unit test libraries, etc. All that is not needed on the user's machine. \n",
    "\n",
    "To install a package as dev-requirement add -d or --dev to install command. \n",
    "\n",
    "```CLI\n",
    "$ pipenv install pytest -d \n",
    "\n",
    "Installing pytest...\n",
    "Adding pytest to Pipfile's [dev-packages]...\n",
    "✔ Installation Succeeded \n",
    "Pipfile.lock (fbd99e) out of date, updating to (9e60ab)...\n",
    "Locking [packages] dependencies...\n",
    "Building requirements...\n",
    "Resolving dependencies...\n",
    "✔ Success! \n",
    "Locking [dev-packages] dependencies...\n",
    "Building requirements...\n",
    "Resolving dependencies...\n",
    "✔ Success! \n",
    "Updated Pipfile.lock (bb86d5e8cd294cb34e55b4d26f021d673efacad14a065a789827a38d599e60ab)!\n",
    "Installing dependencies from Pipfile.lock (9e60ab)...\n",
    "Installing dependencies from Pipfile.lock (9e60ab)...\n",
    "To activate this project's virtualenv, run pipenv shell.\n",
    "Alternatively, run a command inside the virtualenv with pipenv run.\n",
    "```"
   ]
  },
  {
   "cell_type": "markdown",
   "id": "bd326287",
   "metadata": {},
   "source": [
    "### Step 4 : Activate virtual environment \n",
    "\n",
    "```CLI \n",
    "# Activate\n",
    "$ pipenv shell \n",
    "\n",
    "# Deactivate \n",
    "$ exit \n",
    "```"
   ]
  },
  {
   "cell_type": "markdown",
   "id": "9044ba21",
   "metadata": {},
   "source": [
    "### Step 5 : Run the project file \n",
    "\n",
    "```CLI\n",
    "# Way1\n",
    "$ pipenv shell\n",
    "$ python script.py \n",
    "\n",
    "# Way2 \n",
    "$ pipenv run python script.py \n",
    "```"
   ]
  },
  {
   "cell_type": "markdown",
   "id": "10afe004",
   "metadata": {},
   "source": [
    "### Step 6 : Removing virtual environments and packages\n",
    "\n",
    "```CLI\n",
    "# Removing installed packages \n",
    "$ pipenv uninstall pytest \n",
    "\n",
    "# Removing virtual environment \n",
    "$ pipenv --rm \n",
    "```"
   ]
  },
  {
   "cell_type": "markdown",
   "id": "74c1bdde",
   "metadata": {},
   "source": [
    "# 3. Pipenv features\n",
    "\n",
    "- **pipenv --venv** : pipenv --venv returns the location of virtual environment directory. \n",
    "- **pipenv graph** : pipenv graph is only showing the graph of development dependencies, and leaving out the regular dependencies. \n",
    "- **pipenv check** : Check security vulnerabilites. \n",
    "- **pipenv lock** : Set lockfile - before deployment. "
   ]
  },
  {
   "cell_type": "markdown",
   "id": "f6f551a5",
   "metadata": {},
   "source": [
    "**Source from :** \n",
    "\n",
    "- https://pipenv.pypa.io/en/latest/  \n",
    "- https://docs.python.org/3/library/venv.html#venv-def \n"
   ]
  }
 ],
 "metadata": {
  "kernelspec": {
   "display_name": "Python 3",
   "language": "python",
   "name": "python3"
  },
  "language_info": {
   "codemirror_mode": {
    "name": "ipython",
    "version": 3
   },
   "file_extension": ".py",
   "mimetype": "text/x-python",
   "name": "python",
   "nbconvert_exporter": "python",
   "pygments_lexer": "ipython3",
   "version": "3.8.8"
  },
  "toc": {
   "base_numbering": 1,
   "nav_menu": {},
   "number_sections": false,
   "sideBar": true,
   "skip_h1_title": false,
   "title_cell": "Table of Contents",
   "title_sidebar": "Contents",
   "toc_cell": false,
   "toc_position": {},
   "toc_section_display": true,
   "toc_window_display": false
  },
  "varInspector": {
   "cols": {
    "lenName": 16,
    "lenType": 16,
    "lenVar": 40
   },
   "kernels_config": {
    "python": {
     "delete_cmd_postfix": "",
     "delete_cmd_prefix": "del ",
     "library": "var_list.py",
     "varRefreshCmd": "print(var_dic_list())"
    },
    "r": {
     "delete_cmd_postfix": ") ",
     "delete_cmd_prefix": "rm(",
     "library": "var_list.r",
     "varRefreshCmd": "cat(var_dic_list()) "
    }
   },
   "types_to_exclude": [
    "module",
    "function",
    "builtin_function_or_method",
    "instance",
    "_Feature"
   ],
   "window_display": false
  }
 },
 "nbformat": 4,
 "nbformat_minor": 5
}
