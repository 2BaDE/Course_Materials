{
 "cells": [
  {
   "cell_type": "markdown",
   "id": "6b816a50",
   "metadata": {},
   "source": [
    "# 1. Creating and activating a new virtual environment \n",
    "\n",
    "```CLI \n",
    "$ python3 -m venv project_env \n",
    "$ source project_env/bin/activate \n",
    "``` \n",
    "\n",
    "We can create virtual environment with system-packages(global installation of Python packages).  \n",
    "\n",
    "```CLI\n",
    "$ python3 -m venv project_env --system-site-package\n",
    "```"
   ]
  },
  {
   "cell_type": "markdown",
   "id": "a994c650",
   "metadata": {},
   "source": [
    "# 2. Check installed packages on virtual environment \n",
    "\n",
    "```CLI\n",
    "$ pip install pytz \n",
    "$ pip list \n",
    "\n",
    "Package   Version \n",
    "--------- -------\n",
    "certifi   2019.3.9 \n",
    "pytz      2018.9 \n",
    "```\n",
    "\n",
    "We can get information of installed packages in txt format from pip freeze command. \n",
    "\n",
    "```CLI\n",
    "$ pip freeze > requirements.txt\n",
    "\n",
    "certifi==2019.3.9\n",
    "pytz==2018.9\n",
    "```\n",
    "\n",
    "We can install all the same packages stored in requirements.txt \n",
    "\n",
    "```CLI\n",
    "$ pip install -r requirements.txt\n",
    "```"
   ]
  },
  {
   "cell_type": "markdown",
   "id": "81178aa1",
   "metadata": {},
   "source": [
    "# 3. Deactivating and Delete a virtual environment \n",
    "\n",
    "```CLI \n",
    "$ deactivate \n",
    "\n",
    "$ rm -rf project_env/ \n",
    "```"
   ]
  }
 ],
 "metadata": {
  "kernelspec": {
   "display_name": "Python 3",
   "language": "python",
   "name": "python3"
  },
  "language_info": {
   "codemirror_mode": {
    "name": "ipython",
    "version": 3
   },
   "file_extension": ".py",
   "mimetype": "text/x-python",
   "name": "python",
   "nbconvert_exporter": "python",
   "pygments_lexer": "ipython3",
   "version": "3.8.8"
  },
  "toc": {
   "base_numbering": 1,
   "nav_menu": {},
   "number_sections": false,
   "sideBar": true,
   "skip_h1_title": false,
   "title_cell": "Table of Contents",
   "title_sidebar": "Contents",
   "toc_cell": false,
   "toc_position": {},
   "toc_section_display": true,
   "toc_window_display": false
  },
  "varInspector": {
   "cols": {
    "lenName": 16,
    "lenType": 16,
    "lenVar": 40
   },
   "kernels_config": {
    "python": {
     "delete_cmd_postfix": "",
     "delete_cmd_prefix": "del ",
     "library": "var_list.py",
     "varRefreshCmd": "print(var_dic_list())"
    },
    "r": {
     "delete_cmd_postfix": ") ",
     "delete_cmd_prefix": "rm(",
     "library": "var_list.r",
     "varRefreshCmd": "cat(var_dic_list()) "
    }
   },
   "types_to_exclude": [
    "module",
    "function",
    "builtin_function_or_method",
    "instance",
    "_Feature"
   ],
   "window_display": false
  }
 },
 "nbformat": 4,
 "nbformat_minor": 5
}
