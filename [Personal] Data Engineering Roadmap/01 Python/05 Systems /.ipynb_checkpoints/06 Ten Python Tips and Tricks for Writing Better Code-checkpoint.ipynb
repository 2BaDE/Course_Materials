{
 "cells": [
  {
   "cell_type": "markdown",
   "id": "273c554b",
   "metadata": {},
   "source": [
    "# <center> Python Tips and Tricks for Writing Better Code"
   ]
  },
  {
   "cell_type": "markdown",
   "id": "4fefd588",
   "metadata": {},
   "source": [
    "### Tip1 : Ternary Conditionals \n",
    "\n",
    "A **ternary operator** that is part of the syntax for basic conditional expressions in several programming languages. An expression a ? b : c evaluates to b if the value of a is true, and otherwise to c. \n",
    "\n",
    "```Python\n",
    "x = 1 if conditions else 0\n",
    "```"
   ]
  },
  {
   "cell_type": "markdown",
   "id": "6da7e6ef",
   "metadata": {},
   "source": [
    "### Tip2 : Underscore Placeholders \n",
    "\n",
    "We can make big number easier to read using underscore placeholder \n",
    "\n",
    "```Python\n",
    "num1 = 10_000_000_000\n",
    "num2 = 100_000_000\n",
    "\n",
    "total = num1 + num2 \n",
    "print(f\"{total:,}\")\n",
    "# 10,100,000,000\n",
    "```"
   ]
  },
  {
   "cell_type": "markdown",
   "id": "e652b3c3",
   "metadata": {},
   "source": [
    "### Tip3 : Context Managers \n",
    "\n",
    "Using context manager, we can manage resources automatically. We can applying this statement to file object, database connection, and so on. \n",
    "\n",
    "```Python\n",
    "with open('test.txt', 'r') as f: \n",
    "    file_contents = f.read() \n",
    "```"
   ]
  },
  {
   "cell_type": "markdown",
   "id": "0a4b9a09",
   "metadata": {},
   "source": [
    "### Tip4 : Enumerate \n",
    "\n",
    "The enumerate statement is used when we want a counter while we are looping over something. \n",
    "\n",
    "```Python\n",
    "names = ['Corey', 'Chris', 'Dave', 'Travis'] \n",
    "\n",
    "for i, name in enumerate(names, start=1): \n",
    "    print(i, name) \n",
    "    \n",
    "# 1 Corey 2 Crhis 3 Dave 4 Travis\n",
    "```"
   ]
  },
  {
   "cell_type": "markdown",
   "id": "8e07c7d9",
   "metadata": {},
   "source": [
    "### Tip5 : Zip \n",
    "\n",
    "The zip function makes looping two lists at once. Zip will stop if the shortest list is exhausted.\n",
    "\n",
    "```Python\n",
    "names = ['Peter Parker', 'Clark Kent', 'Wade Wilson', 'Bruce wayne'] \n",
    "heroes = ['Spiderman', 'Superman', 'Deadpool', 'Batman'] \n",
    "universes = ['Marvel', 'DC', 'Marvel', 'DC']\n",
    "\n",
    "for name, hero, universe in zip(names, heroes, universes): \n",
    "    print(f\"{name} is actually {hero} in {universe}.\")\n",
    "    \n",
    "# Peter Parker is actually Spiderman in Marvel.\n",
    "```"
   ]
  },
  {
   "cell_type": "markdown",
   "id": "307c2b76",
   "metadata": {},
   "source": [
    "### Tip6 : Unpacking\n",
    "\n",
    "```Python\n",
    "# Unpacking \n",
    "a, b = (1, 2) \n",
    "print(a)\n",
    "print(b)\n",
    "# 1 2 \n",
    "```\n",
    "\n",
    "We can set prefix of variable name as underscore denoting this variable will not be used. \n",
    "\n",
    "```Python\n",
    "a, _ = (1, 2) \n",
    "print(a)\n",
    "# 1 \n",
    "```\n",
    "\n",
    "By setting asterisk in front of variable name, we can unpack multiple remainders. \n",
    "\n",
    "```Python\n",
    "a, b, c = (1, 2, 3, 4, 5) \n",
    "print(a)\n",
    "print(b)\n",
    "print(c)\n",
    "# 1 2 [3, 4, 5]\n",
    "```"
   ]
  },
  {
   "cell_type": "markdown",
   "id": "f9816593",
   "metadata": {},
   "source": [
    "### Tip7 : Setattr/Getattr \n",
    "\n",
    "The setattr() built in function sets the value of the attribute of an object. \n",
    "\n",
    "```Python\n",
    "class Person(): \n",
    "    pass \n",
    "\n",
    "person = Person()\n",
    "\n",
    "first_key = 'first'\n",
    "first_val = 'Corey' \n",
    "setattr(person, first_key, first_val) \n",
    "\n",
    "print(person.first)\n",
    "# Corey\n",
    "```\n",
    "\n",
    "We can get the attribute of an object \n",
    "\n",
    "```Python\n",
    "first = getattr(person, first_key)\n",
    "print(first)\n",
    "```"
   ]
  },
  {
   "cell_type": "markdown",
   "id": "092a6c05",
   "metadata": {},
   "source": [
    "### Tip8 : GetPass \n",
    "\n",
    "Many programs that interact with user via the terminal need toask the user for password values without showing the user types on the screen. The getpass module provides a portable way to handle such password prompts securely. \n",
    "\n",
    "```Python\n",
    "from getpass import getpass \n",
    "\n",
    "username = input(\"username :\") \n",
    "password = getpass(\"password :\") \n",
    "```"
   ]
  },
  {
   "cell_type": "markdown",
   "id": "db5221fc",
   "metadata": {},
   "source": [
    "### Tip9 : Python dash m  \n",
    "\n",
    "python \\-m will search system.path for the named module and executes its contents as the main module. \n",
    "\n",
    "```CLI\n",
    "$ python -m password \n",
    "```"
   ]
  },
  {
   "cell_type": "markdown",
   "id": "1fe2e4db",
   "metadata": {},
   "source": [
    "### Tip10 : Help/Dir \n",
    "\n",
    "The dir() function is the powerful inbuilt funciton in Python that returns a list of valid methods and ascribe of any objects including modules, lists, strings, and others. \n",
    "\n",
    "The help() function returns the assistance explainations that linked to the Python module, object, and method but if it called with the approachable arguments. \n",
    "\n",
    "```Python\n",
    "import os\n",
    "print(help(os)) \n",
    "print(dir(os)) \n",
    "```"
   ]
  }
 ],
 "metadata": {
  "kernelspec": {
   "display_name": "Python 3",
   "language": "python",
   "name": "python3"
  },
  "language_info": {
   "codemirror_mode": {
    "name": "ipython",
    "version": 3
   },
   "file_extension": ".py",
   "mimetype": "text/x-python",
   "name": "python",
   "nbconvert_exporter": "python",
   "pygments_lexer": "ipython3",
   "version": "3.8.8"
  },
  "toc": {
   "base_numbering": 1,
   "nav_menu": {},
   "number_sections": false,
   "sideBar": true,
   "skip_h1_title": false,
   "title_cell": "Table of Contents",
   "title_sidebar": "Contents",
   "toc_cell": false,
   "toc_position": {
    "height": "calc(100% - 180px)",
    "left": "10px",
    "top": "150px",
    "width": "263.333px"
   },
   "toc_section_display": true,
   "toc_window_display": true
  },
  "varInspector": {
   "cols": {
    "lenName": 16,
    "lenType": 16,
    "lenVar": 40
   },
   "kernels_config": {
    "python": {
     "delete_cmd_postfix": "",
     "delete_cmd_prefix": "del ",
     "library": "var_list.py",
     "varRefreshCmd": "print(var_dic_list())"
    },
    "r": {
     "delete_cmd_postfix": ") ",
     "delete_cmd_prefix": "rm(",
     "library": "var_list.r",
     "varRefreshCmd": "cat(var_dic_list()) "
    }
   },
   "types_to_exclude": [
    "module",
    "function",
    "builtin_function_or_method",
    "instance",
    "_Feature"
   ],
   "window_display": false
  }
 },
 "nbformat": 4,
 "nbformat_minor": 5
}
