{
 "cells": [
  {
   "cell_type": "markdown",
   "id": "15e949f4",
   "metadata": {},
   "source": [
    "# <center> 5 Common Python Mistakes and How to Fix Them "
   ]
  },
  {
   "cell_type": "markdown",
   "id": "7308a3ff",
   "metadata": {},
   "source": [
    "### Mistake1 : Indentation and Spaces\n",
    "\n",
    "The **Indentation Error** can occur when the spaces or tabs are not placed properly. If an Indentation Error occurs, the transaltion options of the tabs and spaces on the editor must be changed. Then tabs will automatically be changed to 4 spaces.  \n",
    "\n",
    "```Python\n",
    "nums = [11, 30, 44, 54] \n",
    "\n",
    "for num in nums: \n",
    "    # Using tabs \n",
    "    square = num ** 2\n",
    "    # Using spaces(4)  \n",
    "    print(square) \n",
    "    \n",
    "# Indentation Error : unindent does not match any outer indentation level \n",
    "```"
   ]
  },
  {
   "cell_type": "markdown",
   "id": "59c9a716",
   "metadata": {},
   "source": [
    "### Mistake2 : Naming Conflicts\n",
    "\n",
    "The **Import Error** is raised when an import statement has trouble successfully importing the specified module. \n",
    "\n",
    "```Python\n",
    "# math.py in personal directory \n",
    "from math import radians, sin \n",
    "\n",
    "rads = radians(90) \n",
    "print(sin(rads)) \n",
    "\n",
    "# ImportError : cannot import name 'radians' from 'math' \n",
    "```\n",
    "\n",
    "The Python interpreter takes outer module first instead of standard library. So ImportError occurs becuase the module of math.py was imported. The name of the math.py should be changed to project.py in this case. \n",
    "\n",
    "It should also be noted that the module's method name is set to a variable name. \n",
    "\n",
    "```Python\n",
    "from math import radians, sin \n",
    "\n",
    "radians = radians(90) \n",
    "rad45 = radians(45)\n",
    "print(rad45) \n",
    "\n",
    "# TypeError : 'float' object is not callable \n",
    "```"
   ]
  },
  {
   "cell_type": "markdown",
   "id": "fb6c17cd",
   "metadata": {},
   "source": [
    "### Mistakes3 : Mutable Default Args\n",
    "\n",
    "We must not use mutable default arguments in Python, unless we have really good reason to do so. Because it can lead to all sorts of nasty and horrible bugs. \n",
    "\n",
    "Mutable default arguments is the case that an empty list was used as a default arguement to a function. In Python, when passing a mutable value as a default argument in a function, the default argument is mutated anytime that value is mutated.  \n",
    "\n",
    "```Python\n",
    "# Problem of mutable default args \n",
    "def add_employee(emp, emp_list=[]): \n",
    "    emp_list.append(emp)\n",
    "    print(emp_list) \n",
    "    \n",
    "add_employee('Corey') \n",
    "# emp_list = ['Corey']\n",
    "add_employee('John')\n",
    "# emp_list = ['Corey', 'John']\n",
    "```\n",
    "\n",
    "To solve this problem, we must pass mutable default ags eqauls to None. \n",
    "\n",
    "```Python\n",
    "# Solution\n",
    "def add_employee(emp, emp_list=None): \n",
    "    if emp_list is None: \n",
    "        emp_list = []\n",
    "    emp_list.append(emp) \n",
    "    print(emp_list) \n",
    "    \n",
    "add_employee('Corey') \n",
    "# emp_list = ['Corey'] \n",
    "add_employee('John') \n",
    "# emp_list = ['John'] \n",
    "```"
   ]
  },
  {
   "cell_type": "markdown",
   "id": "adfa8fa4",
   "metadata": {},
   "source": [
    "### Mistakes4 : Exhausting Iterators \n",
    "\n",
    "Python3 no longer returns all of those values at once because of memory efficiency. We might use list(zip) to see inside of zip object. This will iterate through the zip object and convert all data into list. "
   ]
  },
  {
   "cell_type": "code",
   "execution_count": 7,
   "id": "cfa9b7f6",
   "metadata": {},
   "outputs": [
    {
     "name": "stdout",
     "output_type": "stream",
     "text": [
      "<zip object at 0x7f4548e3f440>\n",
      "Peter Parker is actually Spiderman!\n",
      "Clark Kent is actually Superman!\n",
      "Wade Wilson is actually Deadpool!\n",
      "Bruce wayne is actually Batman!\n",
      "[]\n"
     ]
    }
   ],
   "source": [
    "names = ['Peter Parker', 'Clark Kent', 'Wade Wilson', 'Bruce wayne'] \n",
    "heroes = ['Spiderman', 'Superman', 'Deadpool', 'Batman'] \n",
    "\n",
    "identities = zip(names, heroes) \n",
    "print(identities)\n",
    "for identity in identities: \n",
    "    print(f\"{identity[0]} is actually {identity[1]}!\")\n",
    "    \n",
    "# The iterator object has been exhausted! \n",
    "print(list(identities))"
   ]
  },
  {
   "cell_type": "markdown",
   "id": "3be95e45",
   "metadata": {},
   "source": [
    "### Mistakes5 : Importing with * \n",
    "\n",
    "```Python\n",
    "from os import * \n",
    "\n",
    "rename(filename)\n",
    "remove() \n",
    "```\n",
    "\n",
    "Using asterisk when we import modules can be a bad practice. First of all, it can make our code hard to debug. It can also introduce errors into our code whenever there are two functions with the same name. "
   ]
  }
 ],
 "metadata": {
  "kernelspec": {
   "display_name": "Python 3",
   "language": "python",
   "name": "python3"
  },
  "language_info": {
   "codemirror_mode": {
    "name": "ipython",
    "version": 3
   },
   "file_extension": ".py",
   "mimetype": "text/x-python",
   "name": "python",
   "nbconvert_exporter": "python",
   "pygments_lexer": "ipython3",
   "version": "3.8.8"
  },
  "toc": {
   "base_numbering": 1,
   "nav_menu": {},
   "number_sections": false,
   "sideBar": true,
   "skip_h1_title": false,
   "title_cell": "Table of Contents",
   "title_sidebar": "Contents",
   "toc_cell": false,
   "toc_position": {},
   "toc_section_display": true,
   "toc_window_display": false
  },
  "varInspector": {
   "cols": {
    "lenName": 16,
    "lenType": 16,
    "lenVar": 40
   },
   "kernels_config": {
    "python": {
     "delete_cmd_postfix": "",
     "delete_cmd_prefix": "del ",
     "library": "var_list.py",
     "varRefreshCmd": "print(var_dic_list())"
    },
    "r": {
     "delete_cmd_postfix": ") ",
     "delete_cmd_prefix": "rm(",
     "library": "var_list.r",
     "varRefreshCmd": "cat(var_dic_list()) "
    }
   },
   "types_to_exclude": [
    "module",
    "function",
    "builtin_function_or_method",
    "instance",
    "_Feature"
   ],
   "window_display": false
  }
 },
 "nbformat": 4,
 "nbformat_minor": 5
}
