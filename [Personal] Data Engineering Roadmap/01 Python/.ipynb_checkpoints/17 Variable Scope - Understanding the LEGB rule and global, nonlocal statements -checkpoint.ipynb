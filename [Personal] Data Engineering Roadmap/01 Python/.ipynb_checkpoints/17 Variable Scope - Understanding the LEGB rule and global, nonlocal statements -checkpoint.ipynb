{
 "cells": [
  {
   "cell_type": "markdown",
   "id": "95bdef0e",
   "metadata": {},
   "source": [
    "# 1. What is the scope? \n",
    "\n",
    "The concept of scope rules how variables and names are looked up in our code. It determines the visibility of a variable within the code. The scope of a name or variable depends on the place in our code where we create that variable. The Python scope concept is generally presented using a rule known as the LEGB rule. \n",
    "\n",
    "The letters is the acronym **LEGB** stand for **Local, Enclosing, Global, and Built-in** scopes. \n",
    "\n",
    "- Local : Variables defined within a function \n",
    "- Enclosing : Variables in the local scope of enclosing function \n",
    "- Global : Variables defnied at the top of a module or explicitly declared global using the global keyword \n",
    "- Built-in : Predifined variables "
   ]
  },
  {
   "cell_type": "markdown",
   "id": "f0871df9",
   "metadata": {},
   "source": [
    "# 2. Global vs Local scope "
   ]
  },
  {
   "cell_type": "code",
   "execution_count": 10,
   "id": "f93e2cba",
   "metadata": {},
   "outputs": [
    {
     "name": "stdout",
     "output_type": "stream",
     "text": [
      "global x\n"
     ]
    }
   ],
   "source": [
    "# This is global because this code is in main body \n",
    "x = 'global x'\n",
    "\n",
    "# This is local because this variable is in test function \n",
    "def test(): \n",
    "    y = 'local y'\n",
    "    # print(y)\n",
    "    print(x)\n",
    "    \n",
    "# Local scope(X) -> Enclosing scope(X) -> Global scope(O) : print global x \n",
    "test()"
   ]
  },
  {
   "cell_type": "code",
   "execution_count": 11,
   "id": "51fe79f5",
   "metadata": {},
   "outputs": [
    {
     "ename": "NameError",
     "evalue": "name 'y' is not defined",
     "output_type": "error",
     "traceback": [
      "\u001b[0;31m---------------------------------------------------------------------------\u001b[0m",
      "\u001b[0;31mNameError\u001b[0m                                 Traceback (most recent call last)",
      "\u001b[0;32m<ipython-input-11-d9183e048de3>\u001b[0m in \u001b[0;36m<module>\u001b[0;34m\u001b[0m\n\u001b[0;32m----> 1\u001b[0;31m \u001b[0mprint\u001b[0m\u001b[0;34m(\u001b[0m\u001b[0my\u001b[0m\u001b[0;34m)\u001b[0m\u001b[0;34m\u001b[0m\u001b[0;34m\u001b[0m\u001b[0m\n\u001b[0m",
      "\u001b[0;31mNameError\u001b[0m: name 'y' is not defined"
     ]
    }
   ],
   "source": [
    "print(y)"
   ]
  },
  {
   "cell_type": "code",
   "execution_count": 12,
   "id": "01eebb69",
   "metadata": {},
   "outputs": [
    {
     "name": "stdout",
     "output_type": "stream",
     "text": [
      "local x\n",
      "global x\n"
     ]
    }
   ],
   "source": [
    "def test(): \n",
    "    x = 'local x'\n",
    "    print(x)\n",
    "    \n",
    "# Return local x variable \n",
    "test() \n",
    "\n",
    "# Return global x variable \n",
    "print(x)"
   ]
  },
  {
   "cell_type": "markdown",
   "id": "9b259737",
   "metadata": {},
   "source": [
    "## 2.1 global statement \n",
    "\n",
    "**global** statment explicitly tell Python that the x variable we want to work with is the global variable "
   ]
  },
  {
   "cell_type": "code",
   "execution_count": 13,
   "id": "fbc007bd",
   "metadata": {},
   "outputs": [
    {
     "name": "stdout",
     "output_type": "stream",
     "text": [
      "local x\n",
      "local x\n"
     ]
    }
   ],
   "source": [
    "def test(): \n",
    "    global x\n",
    "    x = 'local x'\n",
    "    print(x)\n",
    "    \n",
    "test()\n",
    "print(x)"
   ]
  },
  {
   "cell_type": "markdown",
   "id": "45822131",
   "metadata": {},
   "source": [
    "# 3. Enclosing scope \n",
    "\n",
    "Enclosing scope is a special scope that only exists for nested functions. If the local scope is a inner or nested function, then the enclosing scope is the scope of the outer or enclosing function. This scope contains the names that we define in the enclosing function."
   ]
  },
  {
   "cell_type": "code",
   "execution_count": 18,
   "id": "b4b2ef29",
   "metadata": {},
   "outputs": [
    {
     "name": "stdout",
     "output_type": "stream",
     "text": [
      "inner x\n",
      "outer x\n"
     ]
    }
   ],
   "source": [
    "def outer(): \n",
    "    x = 'outer x'\n",
    "    \n",
    "    def inner(): \n",
    "        x = 'inner x'\n",
    "        print(x)\n",
    "        \n",
    "    # This x variable is in inner local scope \n",
    "    inner()\n",
    "    # This x variables is in outer enclosing scope \n",
    "    print(x)\n",
    "    \n",
    "outer()"
   ]
  },
  {
   "cell_type": "code",
   "execution_count": 16,
   "id": "c9334f59",
   "metadata": {},
   "outputs": [
    {
     "name": "stdout",
     "output_type": "stream",
     "text": [
      "outer x\n",
      "outer x\n"
     ]
    }
   ],
   "source": [
    "def outer(): \n",
    "    x = 'outer x'\n",
    "    \n",
    "    def inner(): \n",
    "        # x = 'inner x'\n",
    "        print(x)\n",
    "        \n",
    "    # This x variable is in enclosing scope \n",
    "    inner()\n",
    "    # This x variables is in enclosing scope \n",
    "    print(x)\n",
    "    \n",
    "outer()"
   ]
  },
  {
   "cell_type": "markdown",
   "id": "fd416c9f",
   "metadata": {},
   "source": [
    "## 3.1 nonlocal statement \n",
    "\n",
    "The nonlocal statement causes the listed identifier to refer to previous bound variables in the nearest enclosing scope excluding globals. This is important because the default behavior for binding is to search the local namespace first. "
   ]
  },
  {
   "cell_type": "code",
   "execution_count": 19,
   "id": "89eb392c",
   "metadata": {},
   "outputs": [
    {
     "name": "stdout",
     "output_type": "stream",
     "text": [
      "inner x\n",
      "inner x\n"
     ]
    }
   ],
   "source": [
    "def outer(): \n",
    "    x = 'outer x'\n",
    "    \n",
    "    def inner(): \n",
    "        nonlocal x \n",
    "        x = 'inner x'\n",
    "        print(x)\n",
    "        \n",
    "    # This x variable is in enclosing scope \n",
    "    inner()\n",
    "    # This x variables is in enclosing scope \n",
    "    print(x)\n",
    "    \n",
    "outer()"
   ]
  },
  {
   "cell_type": "markdown",
   "id": "762e4733",
   "metadata": {},
   "source": [
    "# 4. Wrap all scopes "
   ]
  },
  {
   "cell_type": "code",
   "execution_count": 21,
   "id": "fefc54ba",
   "metadata": {},
   "outputs": [
    {
     "name": "stdout",
     "output_type": "stream",
     "text": [
      "inner x\n",
      "outer x\n",
      "global x\n"
     ]
    }
   ],
   "source": [
    "# x variable in global scope\n",
    "x = 'global x'\n",
    "\n",
    "def outer(): \n",
    "    # x variable in enclosing scope \n",
    "    x = 'outer x' \n",
    "    \n",
    "    # x variable in inner scope \n",
    "    def inner(): \n",
    "        x = 'inner x'\n",
    "        print(x)\n",
    "        \n",
    "    inner() \n",
    "    print(x)\n",
    "    \n",
    "outer()\n",
    "print(x)"
   ]
  }
 ],
 "metadata": {
  "kernelspec": {
   "display_name": "Python 3",
   "language": "python",
   "name": "python3"
  },
  "language_info": {
   "codemirror_mode": {
    "name": "ipython",
    "version": 3
   },
   "file_extension": ".py",
   "mimetype": "text/x-python",
   "name": "python",
   "nbconvert_exporter": "python",
   "pygments_lexer": "ipython3",
   "version": "3.8.8"
  },
  "toc": {
   "base_numbering": 1,
   "nav_menu": {},
   "number_sections": false,
   "sideBar": true,
   "skip_h1_title": false,
   "title_cell": "Table of Contents",
   "title_sidebar": "Contents",
   "toc_cell": false,
   "toc_position": {},
   "toc_section_display": true,
   "toc_window_display": true
  },
  "varInspector": {
   "cols": {
    "lenName": 16,
    "lenType": 16,
    "lenVar": 40
   },
   "kernels_config": {
    "python": {
     "delete_cmd_postfix": "",
     "delete_cmd_prefix": "del ",
     "library": "var_list.py",
     "varRefreshCmd": "print(var_dic_list())"
    },
    "r": {
     "delete_cmd_postfix": ") ",
     "delete_cmd_prefix": "rm(",
     "library": "var_list.r",
     "varRefreshCmd": "cat(var_dic_list()) "
    }
   },
   "types_to_exclude": [
    "module",
    "function",
    "builtin_function_or_method",
    "instance",
    "_Feature"
   ],
   "window_display": false
  }
 },
 "nbformat": 4,
 "nbformat_minor": 5
}
