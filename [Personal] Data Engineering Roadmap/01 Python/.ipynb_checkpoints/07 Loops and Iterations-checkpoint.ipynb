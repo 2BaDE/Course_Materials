{
 "cells": [
  {
   "cell_type": "markdown",
   "id": "0d8ce67a",
   "metadata": {},
   "source": [
    "# 1. For loop"
   ]
  },
  {
   "cell_type": "code",
   "execution_count": 1,
   "id": "380856e6",
   "metadata": {},
   "outputs": [
    {
     "name": "stdout",
     "output_type": "stream",
     "text": [
      "1\n",
      "2\n",
      "3\n",
      "4\n",
      "5\n"
     ]
    }
   ],
   "source": [
    "nums = [1, 2, 3, 4, 5]\n",
    "\n",
    "for num in nums: \n",
    "    print(num)"
   ]
  },
  {
   "cell_type": "markdown",
   "id": "832ecd33",
   "metadata": {},
   "source": [
    "## 1.1 break \n",
    "\n",
    "The break statement terminates the loop containing it. Control of the program flows to the statement immediately after the body of the loop."
   ]
  },
  {
   "cell_type": "code",
   "execution_count": 2,
   "id": "b892d999",
   "metadata": {},
   "outputs": [
    {
     "name": "stdout",
     "output_type": "stream",
     "text": [
      "1\n",
      "2\n",
      "Found!\n"
     ]
    }
   ],
   "source": [
    "# Break for loop under condition\n",
    "for num in nums: \n",
    "    if num == 3: \n",
    "        print('Found!') \n",
    "        break\n",
    "    print(num)"
   ]
  },
  {
   "cell_type": "markdown",
   "id": "df8d7768",
   "metadata": {},
   "source": [
    "## 1.2 continue \n",
    "\n",
    "The continue statement is used to skip the rest of the code inside a loop for the current interation only. Loop does not terminate but continues on with the next iteration."
   ]
  },
  {
   "cell_type": "code",
   "execution_count": 3,
   "id": "399161c1",
   "metadata": {},
   "outputs": [
    {
     "name": "stdout",
     "output_type": "stream",
     "text": [
      "1\n",
      "2\n",
      "Found!\n",
      "4\n",
      "5\n"
     ]
    }
   ],
   "source": [
    "for num in nums: \n",
    "    if num == 3: \n",
    "        print('Found!')\n",
    "        continue \n",
    "    print(num)"
   ]
  },
  {
   "cell_type": "markdown",
   "id": "7387431f",
   "metadata": {},
   "source": [
    "## 1.3 Nested loop \n",
    "\n",
    "A nested loop is a loop within a loop, an inner loop within the body of an outer one. It gives a combination of two elements from inner loop to outer loop."
   ]
  },
  {
   "cell_type": "code",
   "execution_count": 4,
   "id": "dca8da8e",
   "metadata": {},
   "outputs": [
    {
     "name": "stdout",
     "output_type": "stream",
     "text": [
      "1 a\n",
      "1 b\n",
      "1 c\n",
      "2 a\n",
      "2 b\n",
      "2 c\n",
      "3 a\n",
      "3 b\n",
      "3 c\n",
      "4 a\n",
      "4 b\n",
      "4 c\n",
      "5 a\n",
      "5 b\n",
      "5 c\n"
     ]
    }
   ],
   "source": [
    "for num in nums: \n",
    "    for letter in 'abc': \n",
    "        print(num, letter)"
   ]
  },
  {
   "cell_type": "markdown",
   "id": "cd361db5",
   "metadata": {},
   "source": [
    "## 1.4 range function in loop\n",
    "\n",
    "We can iterate through the integers using range function with loop."
   ]
  },
  {
   "cell_type": "code",
   "execution_count": 5,
   "id": "4101c83b",
   "metadata": {},
   "outputs": [
    {
     "name": "stdout",
     "output_type": "stream",
     "text": [
      "1\n",
      "2\n",
      "3\n",
      "4\n",
      "5\n",
      "6\n",
      "7\n",
      "8\n",
      "9\n",
      "10\n"
     ]
    }
   ],
   "source": [
    "for i in range(1, 11): \n",
    "    print(i)"
   ]
  },
  {
   "cell_type": "markdown",
   "id": "d2314895",
   "metadata": {},
   "source": [
    "# 2. While loop \n",
    "\n",
    "While loop iterates until certain conditions are evaluated as False. "
   ]
  },
  {
   "cell_type": "code",
   "execution_count": 6,
   "id": "3a6a10d1",
   "metadata": {},
   "outputs": [
    {
     "name": "stdout",
     "output_type": "stream",
     "text": [
      "0\n",
      "1\n",
      "2\n",
      "3\n",
      "4\n",
      "5\n",
      "6\n",
      "7\n",
      "8\n",
      "9\n"
     ]
    }
   ],
   "source": [
    "x = 0\n",
    "\n",
    "while x < 10: \n",
    "    print(x)\n",
    "    x += 1"
   ]
  },
  {
   "cell_type": "code",
   "execution_count": null,
   "id": "96e717e7",
   "metadata": {},
   "outputs": [],
   "source": []
  }
 ],
 "metadata": {
  "kernelspec": {
   "display_name": "Python 3",
   "language": "python",
   "name": "python3"
  },
  "language_info": {
   "codemirror_mode": {
    "name": "ipython",
    "version": 3
   },
   "file_extension": ".py",
   "mimetype": "text/x-python",
   "name": "python",
   "nbconvert_exporter": "python",
   "pygments_lexer": "ipython3",
   "version": "3.8.8"
  },
  "toc": {
   "base_numbering": 1,
   "nav_menu": {},
   "number_sections": false,
   "sideBar": true,
   "skip_h1_title": false,
   "title_cell": "Table of Contents",
   "title_sidebar": "Contents",
   "toc_cell": false,
   "toc_position": {},
   "toc_section_display": true,
   "toc_window_display": false
  },
  "varInspector": {
   "cols": {
    "lenName": 16,
    "lenType": 16,
    "lenVar": 40
   },
   "kernels_config": {
    "python": {
     "delete_cmd_postfix": "",
     "delete_cmd_prefix": "del ",
     "library": "var_list.py",
     "varRefreshCmd": "print(var_dic_list())"
    },
    "r": {
     "delete_cmd_postfix": ") ",
     "delete_cmd_prefix": "rm(",
     "library": "var_list.r",
     "varRefreshCmd": "cat(var_dic_list()) "
    }
   },
   "types_to_exclude": [
    "module",
    "function",
    "builtin_function_or_method",
    "instance",
    "_Feature"
   ],
   "window_display": false
  }
 },
 "nbformat": 4,
 "nbformat_minor": 5
}
