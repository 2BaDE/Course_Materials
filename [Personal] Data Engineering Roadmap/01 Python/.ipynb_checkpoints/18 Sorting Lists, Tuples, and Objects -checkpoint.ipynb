{
 "cells": [
  {
   "cell_type": "markdown",
   "id": "20aac8c3",
   "metadata": {},
   "source": [
    "# 1. Sorting Lists"
   ]
  },
  {
   "cell_type": "code",
   "execution_count": 6,
   "id": "667a2b27",
   "metadata": {},
   "outputs": [
    {
     "name": "stdout",
     "output_type": "stream",
     "text": [
      "Sorted Variables:\t [1, 2, 3, 4, 5, 6, 7, 8, 9]\n",
      "Reversely Sorted Variables:\t [9, 8, 7, 6, 5, 4, 3, 2, 1]\n",
      "Original Variables:\t [9, 1, 2, 3, 6, 7, 5, 4, 8]\n",
      "Original Variables:\t [1, 2, 3, 4, 5, 6, 7, 8, 9]\n"
     ]
    }
   ],
   "source": [
    "# sorted function returns new list\n",
    "li = [9, 1, 2, 3, 6, 7, 5, 4, 8]\n",
    "\n",
    "s_li = sorted(li)\n",
    "sr_li = sorted(li, reverse=True)\n",
    "\n",
    "print('Sorted Variables:\\t', s_li)\n",
    "print('Reversely Sorted Variables:\\t', sr_li)\n",
    "print('Original Variables:\\t', li)\n",
    "\n",
    "# Sort the list without creating new variable \n",
    "li.sort() \n",
    "print('Original Variables:\\t', li)"
   ]
  },
  {
   "cell_type": "markdown",
   "id": "1dc9ad9e",
   "metadata": {},
   "source": [
    "# 2. Sorting the Other Objects\n",
    "We can use sorted function to other objects."
   ]
  },
  {
   "cell_type": "code",
   "execution_count": 8,
   "id": "5159680c",
   "metadata": {},
   "outputs": [
    {
     "name": "stdout",
     "output_type": "stream",
     "text": [
      "Tuple\t [1, 2, 3, 4, 5, 6, 7, 8, 9]\n",
      "Dict\t ['age', 'job', 'name', 'os']\n"
     ]
    }
   ],
   "source": [
    "tup = (9, 1, 2, 3, 6, 7, 5, 4, 8)\n",
    "s_tup = sorted(tup) \n",
    "print('Tuple\\t', s_tup)\n",
    "\n",
    "di = {'name' : 'Corey', 'job' : 'programming', 'age' : 22, 'os' : 'Linux'}\n",
    "s_di = sorted(di) \n",
    "print('Dict\\t', s_di)"
   ]
  },
  {
   "cell_type": "markdown",
   "id": "d16971ae",
   "metadata": {},
   "source": [
    "# 3. Sort the objects in different criteria"
   ]
  },
  {
   "cell_type": "code",
   "execution_count": 9,
   "id": "ee978f82",
   "metadata": {},
   "outputs": [
    {
     "name": "stdout",
     "output_type": "stream",
     "text": [
      "[1, 2, 3, -4, -5, -6]\n"
     ]
    }
   ],
   "source": [
    "li = [-6, -5, -4, 1, 2, 3]\n",
    "s_li = sorted(li, key=abs)\n",
    "print(s_li)"
   ]
  },
  {
   "cell_type": "code",
   "execution_count": 15,
   "id": "6584fef5",
   "metadata": {},
   "outputs": [
    {
     "data": {
      "text/plain": [
       "[(John, 43, $90000), (Sarah, 29, $80000), (Carl, 37, $70000)]"
      ]
     },
     "execution_count": 15,
     "metadata": {},
     "output_type": "execute_result"
    }
   ],
   "source": [
    "class Employee(): \n",
    "    def __init__(self, name, age, salary): \n",
    "        self.name = name \n",
    "        self.age = age\n",
    "        self.salary = salary\n",
    "        \n",
    "    def __repr__(self): \n",
    "        return f'({self.name}, {self.age}, ${self.salary})'\n",
    "    \n",
    "e1 = Employee('Carl', 37, 70000) \n",
    "e2 = Employee('Sarah', 29, 80000)\n",
    "e3 = Employee('John', 43, 90000)\n",
    "\n",
    "\n",
    "employees = [e1, e2, e3]\n",
    "s_employees = sorted(employees, key=lambda x:x.salary, reverse=True)\n",
    "s_employees"
   ]
  }
 ],
 "metadata": {
  "kernelspec": {
   "display_name": "Python 3",
   "language": "python",
   "name": "python3"
  },
  "language_info": {
   "codemirror_mode": {
    "name": "ipython",
    "version": 3
   },
   "file_extension": ".py",
   "mimetype": "text/x-python",
   "name": "python",
   "nbconvert_exporter": "python",
   "pygments_lexer": "ipython3",
   "version": "3.8.8"
  },
  "toc": {
   "base_numbering": 1,
   "nav_menu": {},
   "number_sections": false,
   "sideBar": true,
   "skip_h1_title": false,
   "title_cell": "Table of Contents",
   "title_sidebar": "Contents",
   "toc_cell": false,
   "toc_position": {},
   "toc_section_display": true,
   "toc_window_display": false
  },
  "varInspector": {
   "cols": {
    "lenName": 16,
    "lenType": 16,
    "lenVar": 40
   },
   "kernels_config": {
    "python": {
     "delete_cmd_postfix": "",
     "delete_cmd_prefix": "del ",
     "library": "var_list.py",
     "varRefreshCmd": "print(var_dic_list())"
    },
    "r": {
     "delete_cmd_postfix": ") ",
     "delete_cmd_prefix": "rm(",
     "library": "var_list.r",
     "varRefreshCmd": "cat(var_dic_list()) "
    }
   },
   "types_to_exclude": [
    "module",
    "function",
    "builtin_function_or_method",
    "instance",
    "_Feature"
   ],
   "window_display": false
  }
 },
 "nbformat": 4,
 "nbformat_minor": 5
}
