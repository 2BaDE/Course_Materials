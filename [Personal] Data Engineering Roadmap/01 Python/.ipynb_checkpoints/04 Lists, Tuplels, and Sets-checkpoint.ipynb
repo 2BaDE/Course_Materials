{
 "cells": [
  {
   "cell_type": "markdown",
   "id": "3ec3f5dc",
   "metadata": {},
   "source": [
    "# 1. List \n",
    "\n",
    "- Sequential data type.\n",
    "- List is mutable. "
   ]
  },
  {
   "cell_type": "markdown",
   "id": "78f78e25",
   "metadata": {},
   "source": [
    "## 1.1 Creating a List "
   ]
  },
  {
   "cell_type": "code",
   "execution_count": 6,
   "id": "c2739eff",
   "metadata": {},
   "outputs": [
    {
     "name": "stdout",
     "output_type": "stream",
     "text": [
      "['Python', 'C++', 'Scala', 'Java']\n"
     ]
    }
   ],
   "source": [
    "courses = ['Python', 'C++', 'Scala', 'Java']\n",
    "print(courses)"
   ]
  },
  {
   "cell_type": "markdown",
   "id": "bc5ac765",
   "metadata": {},
   "source": [
    "## 1.2 Operators provided by List \n",
    "\n",
    "- len(list) : Return the number of elements stored in list(length) \n",
    "- list[idx] : Return the element stored in index of idx. \n",
    "- list[-1] : Return the last element in list. "
   ]
  },
  {
   "cell_type": "code",
   "execution_count": 7,
   "id": "2f17ff30",
   "metadata": {},
   "outputs": [
    {
     "name": "stdout",
     "output_type": "stream",
     "text": [
      "4\n",
      "Python\n",
      "Java\n"
     ]
    }
   ],
   "source": [
    "print(len(courses))\n",
    "print(courses[0])\n",
    "print(courses[-1])"
   ]
  },
  {
   "cell_type": "markdown",
   "id": "af6caa1a",
   "metadata": {},
   "source": [
    "## 1.3 Methods provided by List \n",
    "\n",
    "- list.append(item) : Push the item at the end of the list. \n",
    "- list.insert(idx, item) : Push the item at the index of idx of the list. \n",
    "- list.extend(sequence) : Push multiple items at the end of the list. \n",
    "- list.remove(item) : Remove the item from the list.  \n",
    "- list.pop() : Remove the last value of the list and return its value. (Used for stack and queue.)\n",
    "- list.reverse() : Sort the list in reversed order.\n",
    "- list.sort() : Sort the element in list in ascending order.\n",
    "- list.index(item) : Return the first index of item found in the list. \n",
    "- item in list : Return True if item is in the list. "
   ]
  },
  {
   "cell_type": "code",
   "execution_count": 8,
   "id": "1ca9505b",
   "metadata": {},
   "outputs": [
    {
     "name": "stdout",
     "output_type": "stream",
     "text": [
      "['Python', 'C++', 'Scala', 'Java', 'Go']\n",
      "Go\n"
     ]
    }
   ],
   "source": [
    "courses.append('Go')\n",
    "print(courses)\n",
    "popped = courses.pop()\n",
    "print(popped)"
   ]
  },
  {
   "cell_type": "code",
   "execution_count": 9,
   "id": "23b6faa6",
   "metadata": {},
   "outputs": [
    {
     "name": "stdout",
     "output_type": "stream",
     "text": [
      "['C++', 'Java', 'Python', 'Scala']\n"
     ]
    }
   ],
   "source": [
    "# Sorting without altering original list. \n",
    "# courses.sort() \n",
    "sorted_courses = sorted(courses)\n",
    "print(sorted_courses)"
   ]
  },
  {
   "cell_type": "markdown",
   "id": "ff935ec2",
   "metadata": {},
   "source": [
    "## 1.4 Built-in functions for List \n",
    "\n",
    "- min(list) : Return the min value from the list. \n",
    "- sum(list) : Return the sum of values from the list. "
   ]
  },
  {
   "cell_type": "markdown",
   "id": "cee4cc32",
   "metadata": {},
   "source": [
    "# 2. Tuples \n",
    "\n",
    "- Tuples is immutable data type. \n",
    "- Just for accessing and iterating."
   ]
  },
  {
   "cell_type": "code",
   "execution_count": 11,
   "id": "39d66c9f",
   "metadata": {},
   "outputs": [
    {
     "ename": "TypeError",
     "evalue": "'tuple' object does not support item assignment",
     "output_type": "error",
     "traceback": [
      "\u001b[0;31m---------------------------------------------------------------------------\u001b[0m",
      "\u001b[0;31mTypeError\u001b[0m                                 Traceback (most recent call last)",
      "\u001b[0;32m<ipython-input-11-6b00e4a5318e>\u001b[0m in \u001b[0;36m<module>\u001b[0;34m\u001b[0m\n\u001b[1;32m      2\u001b[0m \u001b[0mtuple2\u001b[0m \u001b[0;34m=\u001b[0m \u001b[0mtuple1\u001b[0m\u001b[0;34m\u001b[0m\u001b[0;34m\u001b[0m\u001b[0m\n\u001b[1;32m      3\u001b[0m \u001b[0;34m\u001b[0m\u001b[0m\n\u001b[0;32m----> 4\u001b[0;31m \u001b[0mtuple1\u001b[0m\u001b[0;34m[\u001b[0m\u001b[0;36m0\u001b[0m\u001b[0;34m]\u001b[0m \u001b[0;34m=\u001b[0m \u001b[0;34m'Art'\u001b[0m\u001b[0;34m\u001b[0m\u001b[0;34m\u001b[0m\u001b[0m\n\u001b[0m\u001b[1;32m      5\u001b[0m \u001b[0mprint\u001b[0m\u001b[0;34m(\u001b[0m\u001b[0mtuple1\u001b[0m\u001b[0;34m)\u001b[0m\u001b[0;34m\u001b[0m\u001b[0;34m\u001b[0m\u001b[0m\n\u001b[1;32m      6\u001b[0m \u001b[0mprint\u001b[0m\u001b[0;34m(\u001b[0m\u001b[0mtuple2\u001b[0m\u001b[0;34m)\u001b[0m\u001b[0;34m\u001b[0m\u001b[0;34m\u001b[0m\u001b[0m\n",
      "\u001b[0;31mTypeError\u001b[0m: 'tuple' object does not support item assignment"
     ]
    }
   ],
   "source": [
    "tuple1 = ('Python', 'C++', 'C#', 'Java', 'Scala')\n",
    "tuple2 = tuple1\n",
    "\n",
    "tuple1[0] = 'Art'\n",
    "print(tuple1)\n",
    "print(tuple2)"
   ]
  },
  {
   "cell_type": "markdown",
   "id": "9872274c",
   "metadata": {},
   "source": [
    "# 3. Sets \n",
    "\n",
    "- Data type without duplicates.\n",
    "- Unordered "
   ]
  },
  {
   "cell_type": "code",
   "execution_count": 13,
   "id": "56a972cf",
   "metadata": {},
   "outputs": [
    {
     "name": "stdout",
     "output_type": "stream",
     "text": [
      "{'Scala', 'Python', 'C#', 'C++', 'Java'}\n",
      "{'Scala', 'Python', 'C#', 'C++', 'Java'}\n",
      "{'Scala', 'Python', 'C#', 'C++', 'Java'}\n",
      "{'Scala', 'Python', 'C#', 'C++', 'Java'}\n"
     ]
    }
   ],
   "source": [
    "courses = {'Python', 'C++', 'C#', 'Java', 'Scala'}\n",
    "\n",
    "for _ in range(4): \n",
    "    print(courses)"
   ]
  },
  {
   "cell_type": "markdown",
   "id": "d445fc06",
   "metadata": {},
   "source": [
    "# 4. Creating a Empty Structures "
   ]
  },
  {
   "cell_type": "code",
   "execution_count": 18,
   "id": "f0e4320c",
   "metadata": {},
   "outputs": [],
   "source": [
    "# Creating empty list \n",
    "empty_list = []\n",
    "empty_list = list()\n",
    "\n",
    "# Creating empty tuple \n",
    "empty_tuple = ()\n",
    "empty_tuple = tuple() \n",
    "\n",
    "# Creating empty sets \n",
    "empty_set = set() \n",
    "\n",
    "# Creating empty dictionary\n",
    "empty_dictionary = {} \n",
    "empty_dictionary = dict() "
   ]
  }
 ],
 "metadata": {
  "kernelspec": {
   "display_name": "Python 3",
   "language": "python",
   "name": "python3"
  },
  "language_info": {
   "codemirror_mode": {
    "name": "ipython",
    "version": 3
   },
   "file_extension": ".py",
   "mimetype": "text/x-python",
   "name": "python",
   "nbconvert_exporter": "python",
   "pygments_lexer": "ipython3",
   "version": "3.8.8"
  },
  "toc": {
   "base_numbering": 1,
   "nav_menu": {},
   "number_sections": false,
   "sideBar": true,
   "skip_h1_title": false,
   "title_cell": "Table of Contents",
   "title_sidebar": "Contents",
   "toc_cell": false,
   "toc_position": {},
   "toc_section_display": true,
   "toc_window_display": false
  },
  "varInspector": {
   "cols": {
    "lenName": 16,
    "lenType": 16,
    "lenVar": 40
   },
   "kernels_config": {
    "python": {
     "delete_cmd_postfix": "",
     "delete_cmd_prefix": "del ",
     "library": "var_list.py",
     "varRefreshCmd": "print(var_dic_list())"
    },
    "r": {
     "delete_cmd_postfix": ") ",
     "delete_cmd_prefix": "rm(",
     "library": "var_list.r",
     "varRefreshCmd": "cat(var_dic_list()) "
    }
   },
   "types_to_exclude": [
    "module",
    "function",
    "builtin_function_or_method",
    "instance",
    "_Feature"
   ],
   "window_display": false
  }
 },
 "nbformat": 4,
 "nbformat_minor": 5
}
