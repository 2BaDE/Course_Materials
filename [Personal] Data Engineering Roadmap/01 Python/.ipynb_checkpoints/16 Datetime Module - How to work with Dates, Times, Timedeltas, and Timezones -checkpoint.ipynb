{
 "cells": [
  {
   "cell_type": "markdown",
   "id": "342226de",
   "metadata": {},
   "source": [
    "# 1. What is datetime module? \n",
    "\n",
    "The datetime module supplies for manipulating dates and times. While date and time arithmetic is supported, the focus of the implementation is on efficient attribute extraction for output formatting and manipulation. "
   ]
  },
  {
   "cell_type": "markdown",
   "id": "fd4a31da",
   "metadata": {},
   "source": [
    "# 2. How to use datetime module"
   ]
  },
  {
   "cell_type": "markdown",
   "id": "4b4cee99",
   "metadata": {},
   "source": [
    "## 2.1 date"
   ]
  },
  {
   "cell_type": "code",
   "execution_count": 2,
   "id": "50ced9b3",
   "metadata": {},
   "outputs": [
    {
     "name": "stdout",
     "output_type": "stream",
     "text": [
      "2016-07-24\n"
     ]
    }
   ],
   "source": [
    "# Import datetime library \n",
    "import datetime \n",
    "\n",
    "# Create date \n",
    "d = datetime.date(2016, 7, 24)\n",
    "print(d)"
   ]
  },
  {
   "cell_type": "code",
   "execution_count": 7,
   "id": "2bd613df",
   "metadata": {},
   "outputs": [
    {
     "name": "stdout",
     "output_type": "stream",
     "text": [
      "2022-10-14\n",
      "14\n",
      "4\n"
     ]
    }
   ],
   "source": [
    "# Create date with today \n",
    "tday = datetime.date.today()\n",
    "print(tday)\n",
    "\n",
    "# Get day of tday \n",
    "print(tday.day)\n",
    "\n",
    "# Get weekday of tday \n",
    "# Monday : 0, Sunday : 6 \n",
    "print(tday.weekday())"
   ]
  },
  {
   "cell_type": "markdown",
   "id": "2db374be",
   "metadata": {},
   "source": [
    "## 2.2 timedelta  \n",
    "\n",
    "We can use timedelta ojbect for calcuating dates. The way to create timedelta object is adding or subtracting another date from a date. \n",
    "\n",
    "- date2 = date1 + timedelta \n",
    "- timedelta = date1 + date2\n",
    "- timedelta = date1 - date2"
   ]
  },
  {
   "cell_type": "code",
   "execution_count": 10,
   "id": "78322bc4",
   "metadata": {},
   "outputs": [
    {
     "name": "stdout",
     "output_type": "stream",
     "text": [
      "2022-10-21\n",
      "604800.0\n"
     ]
    }
   ],
   "source": [
    "tdelta = datetime.timedelta(days=7) \n",
    "\n",
    "# Check the date seven days from now \n",
    "print(tday + tdelta)\n",
    "\n",
    "# Get total seconds of timedelta object \n",
    "print(tdelta.total_seconds())"
   ]
  },
  {
   "cell_type": "markdown",
   "id": "9ef03dcf",
   "metadata": {},
   "source": [
    "## 2.3 time \n",
    "\n",
    "With time object in datetime class, we can work with hours, minutes, seconds. "
   ]
  },
  {
   "cell_type": "code",
   "execution_count": 12,
   "id": "defb1f5d",
   "metadata": {},
   "outputs": [
    {
     "name": "stdout",
     "output_type": "stream",
     "text": [
      "09:30:45.100000\n",
      "9\n"
     ]
    }
   ],
   "source": [
    "t = datetime.time(9, 30, 45, 100000)\n",
    "print(t)\n",
    "\n",
    "# Get hour attribute from t \n",
    "print(t.hour)"
   ]
  },
  {
   "cell_type": "markdown",
   "id": "132bcd8b",
   "metadata": {},
   "source": [
    "## 2.4 datetime \n",
    "\n",
    "With datetime object in datetime class, we can work with all attributes from date and time. "
   ]
  },
  {
   "cell_type": "code",
   "execution_count": 15,
   "id": "d9e89f2b",
   "metadata": {},
   "outputs": [
    {
     "name": "stdout",
     "output_type": "stream",
     "text": [
      "2016-07-26 12:30:45.100000\n",
      "12:30:45.100000\n",
      "2016-07-26\n"
     ]
    }
   ],
   "source": [
    "t = datetime.datetime(2016, 7, 26, 12, 30, 45, 100000)\n",
    "print(t)\n",
    "\n",
    "# Get time from datetime object \n",
    "print(t.time())\n",
    "\n",
    "# Get date from datetime object \n",
    "print(t.date())"
   ]
  },
  {
   "cell_type": "code",
   "execution_count": 27,
   "id": "fbdf079f",
   "metadata": {},
   "outputs": [
    {
     "name": "stdout",
     "output_type": "stream",
     "text": [
      "July 26, 2016\n"
     ]
    }
   ],
   "source": [
    "# Convert datetime into string object : datetime.strftime()\n",
    "print(t.strftime('%B %d, %Y'))"
   ]
  },
  {
   "cell_type": "code",
   "execution_count": 29,
   "id": "7ae7e765",
   "metadata": {},
   "outputs": [
    {
     "name": "stdout",
     "output_type": "stream",
     "text": [
      "2016-07-26 00:00:00\n"
     ]
    }
   ],
   "source": [
    "# Convert string into datetime object \n",
    "dt_str = 'July 26, 2016'\n",
    "dt = datetime.datetime.strptime(dt_str, '%B %d, %Y')\n",
    "print(dt)"
   ]
  },
  {
   "cell_type": "markdown",
   "id": "78e65fe0",
   "metadata": {},
   "source": [
    "# 3. Timezone set in UTC"
   ]
  },
  {
   "cell_type": "code",
   "execution_count": 22,
   "id": "a9e607e8",
   "metadata": {},
   "outputs": [
    {
     "name": "stdout",
     "output_type": "stream",
     "text": [
      "2022-10-14 19:44:00+00:00\n",
      "2022-10-14 10:47:28.101290+00:00\n",
      "2022-10-14 10:47:28.101479+00:00\n",
      "2022-10-14 04:47:28.101479-06:00\n"
     ]
    }
   ],
   "source": [
    "import datetime \n",
    "import pytz \n",
    "\n",
    "dt = datetime.datetime(2022, 10, 14, 19, 44, tzinfo=pytz.UTC)\n",
    "dt_now = datetime.datetime.now(tz=pytz.UTC)\n",
    "dt_utcnow = datetime.datetime.utcnow().replace(tzinfo=pytz.UTC)\n",
    "dt_mtn = dt_utcnow.astimezone(pytz.timezone('US/Mountain'))\n",
    "\n",
    "print(dt)\n",
    "print(dt_now)\n",
    "print(dt_utcnow)\n",
    "print(dt_mtn)"
   ]
  },
  {
   "cell_type": "code",
   "execution_count": 25,
   "id": "a237c8af",
   "metadata": {
    "scrolled": false
   },
   "outputs": [
    {
     "name": "stdout",
     "output_type": "stream",
     "text": [
      "Africa/Abidjan\n",
      "Africa/Accra\n",
      "Africa/Addis_Ababa\n",
      "Africa/Algiers\n",
      "Africa/Asmara\n"
     ]
    }
   ],
   "source": [
    "for tz in pytz.all_timezones[:5]: \n",
    "    print(tz)"
   ]
  },
  {
   "cell_type": "code",
   "execution_count": null,
   "id": "04afb855",
   "metadata": {},
   "outputs": [],
   "source": [
    "\n",
    "\n",
    "\n",
    "\n",
    "\n",
    "\n",
    "\n"
   ]
  }
 ],
 "metadata": {
  "kernelspec": {
   "display_name": "Python 3",
   "language": "python",
   "name": "python3"
  },
  "language_info": {
   "codemirror_mode": {
    "name": "ipython",
    "version": 3
   },
   "file_extension": ".py",
   "mimetype": "text/x-python",
   "name": "python",
   "nbconvert_exporter": "python",
   "pygments_lexer": "ipython3",
   "version": "3.8.8"
  },
  "toc": {
   "base_numbering": 1,
   "nav_menu": {},
   "number_sections": false,
   "sideBar": true,
   "skip_h1_title": false,
   "title_cell": "Table of Contents",
   "title_sidebar": "Contents",
   "toc_cell": false,
   "toc_position": {},
   "toc_section_display": true,
   "toc_window_display": false
  },
  "varInspector": {
   "cols": {
    "lenName": 16,
    "lenType": 16,
    "lenVar": 40
   },
   "kernels_config": {
    "python": {
     "delete_cmd_postfix": "",
     "delete_cmd_prefix": "del ",
     "library": "var_list.py",
     "varRefreshCmd": "print(var_dic_list())"
    },
    "r": {
     "delete_cmd_postfix": ") ",
     "delete_cmd_prefix": "rm(",
     "library": "var_list.r",
     "varRefreshCmd": "cat(var_dic_list()) "
    }
   },
   "types_to_exclude": [
    "module",
    "function",
    "builtin_function_or_method",
    "instance",
    "_Feature"
   ],
   "window_display": false
  }
 },
 "nbformat": 4,
 "nbformat_minor": 5
}
