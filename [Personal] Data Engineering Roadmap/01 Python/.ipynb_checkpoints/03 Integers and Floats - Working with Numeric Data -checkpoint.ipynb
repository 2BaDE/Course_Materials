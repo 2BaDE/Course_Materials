{
 "cells": [
  {
   "cell_type": "markdown",
   "id": "6ee4b13a",
   "metadata": {},
   "source": [
    "# 1. Numeric Data : Integer and Floats"
   ]
  },
  {
   "cell_type": "code",
   "execution_count": 3,
   "id": "116c7563",
   "metadata": {},
   "outputs": [
    {
     "name": "stdout",
     "output_type": "stream",
     "text": [
      "<class 'float'>\n",
      "<class 'int'>\n"
     ]
    }
   ],
   "source": [
    "num1 = 3.14\n",
    "print(type(num1))\n",
    "\n",
    "num2 = 3\n",
    "print(type(num2))"
   ]
  },
  {
   "cell_type": "markdown",
   "id": "88fb1080",
   "metadata": {},
   "source": [
    "# 2. Operations provided by numeric data "
   ]
  },
  {
   "cell_type": "code",
   "execution_count": 2,
   "id": "5a069dc0",
   "metadata": {},
   "outputs": [
    {
     "name": "stdout",
     "output_type": "stream",
     "text": [
      "5\n",
      "1\n",
      "6\n",
      "1.5\n",
      "1\n",
      "9\n",
      "1\n"
     ]
    }
   ],
   "source": [
    "# Addition\n",
    "print(3 + 2) \n",
    "\n",
    "# Subtraction\n",
    "print(3 - 2)\n",
    "\n",
    "# Multiplication\n",
    "print(3 * 2)\n",
    "\n",
    "# Division \n",
    "print(3 / 2)\n",
    "\n",
    "# Floor Division \n",
    "print(3 // 2) \n",
    "\n",
    "# Exponent \n",
    "print(3 ** 2)\n",
    "\n",
    "# Modulus : Use for checking input number is even or odd. \n",
    "print(3 % 2)"
   ]
  },
  {
   "cell_type": "markdown",
   "id": "fec83104",
   "metadata": {},
   "source": [
    "# 3. Incrementing value \n",
    "\n",
    "We can increment value stored in variable by adding value to original value and restore result into original variable. "
   ]
  },
  {
   "cell_type": "code",
   "execution_count": 4,
   "id": "f9ebcc6c",
   "metadata": {},
   "outputs": [
    {
     "name": "stdout",
     "output_type": "stream",
     "text": [
      "3.14\n",
      "4.140000000000001\n"
     ]
    }
   ],
   "source": [
    "print(num) \n",
    "num += 1\n",
    "print(num)"
   ]
  },
  {
   "cell_type": "markdown",
   "id": "969981f3",
   "metadata": {},
   "source": [
    "# 4. Comparison between two numeric data "
   ]
  },
  {
   "cell_type": "code",
   "execution_count": 6,
   "id": "2fed3307",
   "metadata": {},
   "outputs": [
    {
     "name": "stdout",
     "output_type": "stream",
     "text": [
      "False\n",
      "True\n",
      "True\n",
      "False\n",
      "True\n",
      "False\n"
     ]
    }
   ],
   "source": [
    "num1 = 3\n",
    "num2 = 2 \n",
    "\n",
    "# Equal \n",
    "print(num1 == num2)\n",
    "\n",
    "# Not Equal\n",
    "print(num1 != num2) \n",
    "\n",
    "# Greater than \n",
    "print(num1 > num2)\n",
    "\n",
    "# Less than \n",
    "print(num1 < num2) \n",
    "\n",
    "# Greater than or Equal \n",
    "print(num1 >= num2) \n",
    "\n",
    "# Less or equal \n",
    "print(num1 <= num2) "
   ]
  },
  {
   "cell_type": "markdown",
   "id": "634980ed",
   "metadata": {},
   "source": [
    "# 5. Converting data type between string and integer"
   ]
  },
  {
   "cell_type": "code",
   "execution_count": 11,
   "id": "475cf174",
   "metadata": {},
   "outputs": [
    {
     "name": "stdout",
     "output_type": "stream",
     "text": [
      "400\n"
     ]
    }
   ],
   "source": [
    "num1 = '100'\n",
    "num2 = 300 \n",
    "print(int(num1) + num2)"
   ]
  }
 ],
 "metadata": {
  "kernelspec": {
   "display_name": "Python 3",
   "language": "python",
   "name": "python3"
  },
  "language_info": {
   "codemirror_mode": {
    "name": "ipython",
    "version": 3
   },
   "file_extension": ".py",
   "mimetype": "text/x-python",
   "name": "python",
   "nbconvert_exporter": "python",
   "pygments_lexer": "ipython3",
   "version": "3.8.8"
  },
  "toc": {
   "base_numbering": 1,
   "nav_menu": {},
   "number_sections": false,
   "sideBar": true,
   "skip_h1_title": false,
   "title_cell": "Table of Contents",
   "title_sidebar": "Contents",
   "toc_cell": false,
   "toc_position": {},
   "toc_section_display": true,
   "toc_window_display": false
  },
  "varInspector": {
   "cols": {
    "lenName": 16,
    "lenType": 16,
    "lenVar": 40
   },
   "kernels_config": {
    "python": {
     "delete_cmd_postfix": "",
     "delete_cmd_prefix": "del ",
     "library": "var_list.py",
     "varRefreshCmd": "print(var_dic_list())"
    },
    "r": {
     "delete_cmd_postfix": ") ",
     "delete_cmd_prefix": "rm(",
     "library": "var_list.r",
     "varRefreshCmd": "cat(var_dic_list()) "
    }
   },
   "types_to_exclude": [
    "module",
    "function",
    "builtin_function_or_method",
    "instance",
    "_Feature"
   ],
   "window_display": false
  }
 },
 "nbformat": 4,
 "nbformat_minor": 5
}
