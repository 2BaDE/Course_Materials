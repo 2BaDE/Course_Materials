{
 "cells": [
  {
   "cell_type": "markdown",
   "id": "806e94e4",
   "metadata": {},
   "source": [
    "# 1. Conditional Statement "
   ]
  },
  {
   "cell_type": "markdown",
   "id": "54a22ec8",
   "metadata": {},
   "source": [
    "## 1.1 If statement \n",
    "\n",
    "The code blocks nested in if statement is executed when conditions under if statement is True.   \n",
    "Usually, programmers put conditionaly evaluated statement in True/False. "
   ]
  },
  {
   "cell_type": "code",
   "execution_count": 1,
   "id": "7e033888",
   "metadata": {},
   "outputs": [
    {
     "name": "stdout",
     "output_type": "stream",
     "text": [
      "Conditional was True\n"
     ]
    }
   ],
   "source": [
    "if True: \n",
    "    print('Conditional was True')"
   ]
  },
  {
   "cell_type": "markdown",
   "id": "4def1c4c",
   "metadata": {},
   "source": [
    "## 1.2 Comparisons \n",
    "\n",
    "- Equals : == \n",
    "- Not Equal : != \n",
    "- Greater than : > \n",
    "- Less than : < \n",
    "- Object Identity : is \n",
    "\n",
    "<font color = 'red'>The is comparison is used when we compare two objects in memory. The equal operator compare values of two object, and the identity obejct compare the id of each object.</font>"
   ]
  },
  {
   "cell_type": "markdown",
   "id": "51e13869",
   "metadata": {},
   "source": [
    "## 1.3 Else statement \n",
    "\n",
    "The code in else block is executed when coditions of if statement is False. "
   ]
  },
  {
   "cell_type": "code",
   "execution_count": 2,
   "id": "c6f20b9c",
   "metadata": {},
   "outputs": [
    {
     "name": "stdout",
     "output_type": "stream",
     "text": [
      "No match \n"
     ]
    }
   ],
   "source": [
    "language = \"Java\"\n",
    "\n",
    "if language == \"Python\":\n",
    "    print(\"Language is Python\") \n",
    "else: \n",
    "    print(\"No match \")"
   ]
  },
  {
   "cell_type": "markdown",
   "id": "24b822fc",
   "metadata": {},
   "source": [
    "## 1.4 Elif satement \n",
    "\n",
    "The elif keyword is used to eliminate the need for additional nesting levels. "
   ]
  },
  {
   "cell_type": "markdown",
   "id": "213e2685",
   "metadata": {},
   "source": [
    "## 1.5 Complex Conditional Statement \n",
    "\n",
    "We can make more complex conditional statement using and, or, and not, called logical operator. "
   ]
  },
  {
   "cell_type": "code",
   "execution_count": 3,
   "id": "c36537bb",
   "metadata": {},
   "outputs": [
    {
     "name": "stdout",
     "output_type": "stream",
     "text": [
      "Please Log in\n"
     ]
    }
   ],
   "source": [
    "user = 'Admin'\n",
    "logged_in = False \n",
    "\n",
    "if not logged_in: \n",
    "    print(\"Please Log in\")\n",
    "else : \n",
    "    print(\"Welcome!\")"
   ]
  },
  {
   "cell_type": "markdown",
   "id": "546fbe59",
   "metadata": {},
   "source": [
    "## 1.6 Values evaluated as True or False \n",
    "\n",
    "- **True** : True, None zero of any numeric type, Any sequence with value \n",
    "- **False** : False, 0, None, Any empty sequence, Any empty mapping"
   ]
  }
 ],
 "metadata": {
  "kernelspec": {
   "display_name": "Python 3",
   "language": "python",
   "name": "python3"
  },
  "language_info": {
   "codemirror_mode": {
    "name": "ipython",
    "version": 3
   },
   "file_extension": ".py",
   "mimetype": "text/x-python",
   "name": "python",
   "nbconvert_exporter": "python",
   "pygments_lexer": "ipython3",
   "version": "3.8.8"
  },
  "toc": {
   "base_numbering": 1,
   "nav_menu": {},
   "number_sections": false,
   "sideBar": true,
   "skip_h1_title": false,
   "title_cell": "Table of Contents",
   "title_sidebar": "Contents",
   "toc_cell": false,
   "toc_position": {},
   "toc_section_display": true,
   "toc_window_display": false
  },
  "varInspector": {
   "cols": {
    "lenName": 16,
    "lenType": 16,
    "lenVar": 40
   },
   "kernels_config": {
    "python": {
     "delete_cmd_postfix": "",
     "delete_cmd_prefix": "del ",
     "library": "var_list.py",
     "varRefreshCmd": "print(var_dic_list())"
    },
    "r": {
     "delete_cmd_postfix": ") ",
     "delete_cmd_prefix": "rm(",
     "library": "var_list.r",
     "varRefreshCmd": "cat(var_dic_list()) "
    }
   },
   "types_to_exclude": [
    "module",
    "function",
    "builtin_function_or_method",
    "instance",
    "_Feature"
   ],
   "window_display": false
  }
 },
 "nbformat": 4,
 "nbformat_minor": 5
}
