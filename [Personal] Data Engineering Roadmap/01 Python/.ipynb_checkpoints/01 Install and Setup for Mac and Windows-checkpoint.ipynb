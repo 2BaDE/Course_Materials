{
 "cells": [
  {
   "cell_type": "markdown",
   "id": "89b7d6e3",
   "metadata": {},
   "source": [
    "# 1. Check the version of Python"
   ]
  },
  {
   "cell_type": "code",
   "execution_count": 13,
   "id": "4705e73f",
   "metadata": {},
   "outputs": [
    {
     "name": "stdout",
     "output_type": "stream",
     "text": [
      "Python 3.8.8\r\n"
     ]
    }
   ],
   "source": [
    "!python --version"
   ]
  },
  {
   "cell_type": "markdown",
   "id": "ccfc5951",
   "metadata": {},
   "source": [
    "We can see that the current version of Python3 is Python 3.8.8. "
   ]
  },
  {
   "cell_type": "markdown",
   "id": "568ff73f",
   "metadata": {},
   "source": [
    "# 2. Associate command python to Python3(Mac) \n",
    "\n",
    "1. Input command : \"nano ./bash_profile\" \n",
    "2. Convert PATH python into python3 : \"alias python=python3\""
   ]
  },
  {
   "cell_type": "markdown",
   "id": "ef470f7e",
   "metadata": {},
   "source": [
    "# 3. Initialize iterative prompt"
   ]
  },
  {
   "cell_type": "raw",
   "id": "cad275fd",
   "metadata": {},
   "source": [
    "python"
   ]
  },
  {
   "cell_type": "markdown",
   "id": "805ec6b1",
   "metadata": {},
   "source": [
    "# 4. Execute Python file in command prompt "
   ]
  },
  {
   "cell_type": "raw",
   "id": "c1a9f220",
   "metadata": {},
   "source": [
    "python ~/execute.py"
   ]
  }
 ],
 "metadata": {
  "kernelspec": {
   "display_name": "Python 3",
   "language": "python",
   "name": "python3"
  },
  "language_info": {
   "codemirror_mode": {
    "name": "ipython",
    "version": 3
   },
   "file_extension": ".py",
   "mimetype": "text/x-python",
   "name": "python",
   "nbconvert_exporter": "python",
   "pygments_lexer": "ipython3",
   "version": "3.8.8"
  },
  "toc": {
   "base_numbering": 1,
   "nav_menu": {},
   "number_sections": false,
   "sideBar": true,
   "skip_h1_title": false,
   "title_cell": "Table of Contents",
   "title_sidebar": "Contents",
   "toc_cell": false,
   "toc_position": {},
   "toc_section_display": true,
   "toc_window_display": false
  },
  "varInspector": {
   "cols": {
    "lenName": 16,
    "lenType": 16,
    "lenVar": 40
   },
   "kernels_config": {
    "python": {
     "delete_cmd_postfix": "",
     "delete_cmd_prefix": "del ",
     "library": "var_list.py",
     "varRefreshCmd": "print(var_dic_list())"
    },
    "r": {
     "delete_cmd_postfix": ") ",
     "delete_cmd_prefix": "rm(",
     "library": "var_list.r",
     "varRefreshCmd": "cat(var_dic_list()) "
    }
   },
   "types_to_exclude": [
    "module",
    "function",
    "builtin_function_or_method",
    "instance",
    "_Feature"
   ],
   "window_display": false
  }
 },
 "nbformat": 4,
 "nbformat_minor": 5
}
