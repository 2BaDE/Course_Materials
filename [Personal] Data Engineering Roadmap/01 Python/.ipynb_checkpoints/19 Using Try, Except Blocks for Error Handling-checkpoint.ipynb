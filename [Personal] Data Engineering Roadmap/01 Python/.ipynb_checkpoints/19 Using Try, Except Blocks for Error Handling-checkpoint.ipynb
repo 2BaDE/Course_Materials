{
 "cells": [
  {
   "cell_type": "markdown",
   "id": "67641258",
   "metadata": {},
   "source": [
    "# <center> Using Try/Except Blocks for Error Handling \n",
    "    \n",
    "The Python interpreter executes codes in try block first. If there are any errors occured in try block, then codes below except block will executes. \n",
    "\n",
    "```Python\n",
    "try:\n",
    "    f = open('testfile.txt')     \n",
    "except Exception: \n",
    "    print(\"Sorry. This file doesn't exist\") \n",
    "# else: \n",
    "# finally: \n",
    "```"
   ]
  },
  {
   "cell_type": "markdown",
   "id": "c2c53b31",
   "metadata": {},
   "source": [
    "If we specify the name of raising error in except statement, then the error specified in except statement will be raised among the raised errors. \n",
    "\n",
    "```Python\n",
    "try:\n",
    "    f = open('testfile.txt')    \n",
    "    var = bad_vars \n",
    "except FileNotFoundError as e: \n",
    "    print(e) \n",
    "    print(\"Sorry. This file doesn't exist\") \n",
    "except Exception as e: \n",
    "    # More general errors \n",
    "    print(\"Sorry. Something went wrong.\") \n",
    "# else: \n",
    "# finally: \n",
    "```"
   ]
  },
  {
   "cell_type": "markdown",
   "id": "2a54792e",
   "metadata": {},
   "source": [
    "The codes under the else block is executed if no error has occured.  \n",
    "\n",
    "```Python\n",
    "try: \n",
    "    f = open('testfile.txt') \n",
    "    var = bad_vars \n",
    "except FileNotFoundError as e: \n",
    "    print(e)\n",
    "    print(\"Sorry. This file doesn't exist\") \n",
    "except Exception as e: \n",
    "    print(\"Sorry. Somethig went wrong.\")\n",
    "else : \n",
    "    print(f.read())\n",
    "    f.close() \n",
    "```"
   ]
  },
  {
   "cell_type": "markdown",
   "id": "e0b91d3e",
   "metadata": {},
   "source": [
    "The codes under the finally block is executed whether or not an error occurs. The finally statment is mainly used to terminate a database connection. \n",
    "\n",
    "```Python\n",
    "try: \n",
    "    f = open('testfile.txt') \n",
    "    var = bad_vars \n",
    "except FileNotFoundError as e: \n",
    "    print(e)\n",
    "    print(\"Sorry. This file doesn't exist\") \n",
    "except Exception as e: \n",
    "    print(\"Sorry. Somethig went wrong.\")\n",
    "else : \n",
    "    print(f.read())\n",
    "    f.close() \n",
    "finally: \n",
    "    print(\"Executing Finally...\") \n",
    "```"
   ]
  },
  {
   "cell_type": "code",
   "execution_count": null,
   "id": "fbc1499e",
   "metadata": {},
   "outputs": [],
   "source": []
  }
 ],
 "metadata": {
  "kernelspec": {
   "display_name": "Python 3",
   "language": "python",
   "name": "python3"
  },
  "language_info": {
   "codemirror_mode": {
    "name": "ipython",
    "version": 3
   },
   "file_extension": ".py",
   "mimetype": "text/x-python",
   "name": "python",
   "nbconvert_exporter": "python",
   "pygments_lexer": "ipython3",
   "version": "3.8.8"
  },
  "toc": {
   "base_numbering": 1,
   "nav_menu": {},
   "number_sections": false,
   "sideBar": true,
   "skip_h1_title": false,
   "title_cell": "Table of Contents",
   "title_sidebar": "Contents",
   "toc_cell": false,
   "toc_position": {},
   "toc_section_display": true,
   "toc_window_display": false
  },
  "varInspector": {
   "cols": {
    "lenName": 16,
    "lenType": 16,
    "lenVar": 40
   },
   "kernels_config": {
    "python": {
     "delete_cmd_postfix": "",
     "delete_cmd_prefix": "del ",
     "library": "var_list.py",
     "varRefreshCmd": "print(var_dic_list())"
    },
    "r": {
     "delete_cmd_postfix": ") ",
     "delete_cmd_prefix": "rm(",
     "library": "var_list.r",
     "varRefreshCmd": "cat(var_dic_list()) "
    }
   },
   "types_to_exclude": [
    "module",
    "function",
    "builtin_function_or_method",
    "instance",
    "_Feature"
   ],
   "window_display": false
  }
 },
 "nbformat": 4,
 "nbformat_minor": 5
}
