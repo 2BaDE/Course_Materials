{
 "cells": [
  {
   "cell_type": "markdown",
   "id": "add7ecf5",
   "metadata": {},
   "source": [
    "# 1. Create function \n",
    "\n",
    "Start with def keyword which stands for definition."
   ]
  },
  {
   "cell_type": "code",
   "execution_count": 2,
   "id": "483e5718",
   "metadata": {},
   "outputs": [
    {
     "name": "stdout",
     "output_type": "stream",
     "text": [
      "None\n"
     ]
    }
   ],
   "source": [
    "def hello_func(): \n",
    "    pass \n",
    "\n",
    "print(hello_func())"
   ]
  },
  {
   "cell_type": "markdown",
   "id": "7033911f",
   "metadata": {},
   "source": [
    "We can leave pass keyword if we don't want to leave any code. The function with empty code return None datatype. \n",
    "\n",
    "With function, we can repeat the same tasks without repeating one by one."
   ]
  },
  {
   "cell_type": "markdown",
   "id": "49a40495",
   "metadata": {},
   "source": [
    "# 2. Return the result \n",
    "\n",
    "The return statement is used when we want to output the result of function. "
   ]
  },
  {
   "cell_type": "code",
   "execution_count": 3,
   "id": "dfce772e",
   "metadata": {},
   "outputs": [
    {
     "name": "stdout",
     "output_type": "stream",
     "text": [
      "Hello Function.\n"
     ]
    }
   ],
   "source": [
    "def hello_func(): \n",
    "    return \"Hello Function.\"\n",
    "\n",
    "str_ = hello_func()\n",
    "print(str_)"
   ]
  },
  {
   "cell_type": "markdown",
   "id": "efded006",
   "metadata": {},
   "source": [
    "# 3. Pass arguments to function\n",
    "\n",
    "Information can be passed into function as arguments. Arguments are specified after the function name, inside the parentheses. We can add as many arguments as we want. just separate them with a comma. \n",
    "\n",
    "The default arguments is argument that work as argument when we didn't pass that argument in."
   ]
  },
  {
   "cell_type": "code",
   "execution_count": 7,
   "id": "6c9d560f",
   "metadata": {},
   "outputs": [
    {
     "name": "stdout",
     "output_type": "stream",
     "text": [
      "Hello Function.\n",
      "Bye Function.\n"
     ]
    }
   ],
   "source": [
    "def hello_func(greeting='Hello'):\n",
    "    return f\"{greeting} Function.\"\n",
    "\n",
    "res1 = hello_func()\n",
    "res2 = hello_func('Bye')\n",
    "print(res1, res2, sep=\"\\n\")"
   ]
  },
  {
   "cell_type": "markdown",
   "id": "ef160812",
   "metadata": {},
   "source": [
    "## 3.1 Special arguments \\*args and \\*\\*kwargs\n",
    "\n",
    "### args \n",
    "\\*args allows us to pass a variable number of non-keyword arguments to a Python function. In the function, we should use an asterisk(\\*) before the parameter name to pass a variable number of arguments. \n",
    "\n",
    "Thus, we're sure that these passed arguments make a tuple inside the function with the same name as the parameter excluding \\*. \n",
    "\n",
    "### kwargs\n",
    "\\*\\*kwargs allows us to pass a variable number of keyword arguments to a Python function. In the function, we use double-asterisk(\\*\\*) before the parameter name to denote this type of arguments. \n",
    "\n",
    "Thus, the arguments are passed as a dictionary and these arguments make a dictionary inside the function with name same as the parameter excluding \\*\\*."
   ]
  },
  {
   "cell_type": "code",
   "execution_count": 8,
   "id": "1763054d",
   "metadata": {},
   "outputs": [
    {
     "name": "stdout",
     "output_type": "stream",
     "text": [
      "('Math', 'Art')\n",
      "{'name': 'John', 'age': 22}\n"
     ]
    }
   ],
   "source": [
    "def student_info(*args, **kwargs): \n",
    "    print(args)\n",
    "    print(kwargs)\n",
    "    \n",
    "student_info('Math', 'Art', name='John', age=22)"
   ]
  }
 ],
 "metadata": {
  "kernelspec": {
   "display_name": "Python 3",
   "language": "python",
   "name": "python3"
  },
  "language_info": {
   "codemirror_mode": {
    "name": "ipython",
    "version": 3
   },
   "file_extension": ".py",
   "mimetype": "text/x-python",
   "name": "python",
   "nbconvert_exporter": "python",
   "pygments_lexer": "ipython3",
   "version": "3.8.8"
  },
  "toc": {
   "base_numbering": 1,
   "nav_menu": {},
   "number_sections": false,
   "sideBar": true,
   "skip_h1_title": false,
   "title_cell": "Table of Contents",
   "title_sidebar": "Contents",
   "toc_cell": false,
   "toc_position": {},
   "toc_section_display": true,
   "toc_window_display": false
  },
  "varInspector": {
   "cols": {
    "lenName": 16,
    "lenType": 16,
    "lenVar": 40
   },
   "kernels_config": {
    "python": {
     "delete_cmd_postfix": "",
     "delete_cmd_prefix": "del ",
     "library": "var_list.py",
     "varRefreshCmd": "print(var_dic_list())"
    },
    "r": {
     "delete_cmd_postfix": ") ",
     "delete_cmd_prefix": "rm(",
     "library": "var_list.r",
     "varRefreshCmd": "cat(var_dic_list()) "
    }
   },
   "types_to_exclude": [
    "module",
    "function",
    "builtin_function_or_method",
    "instance",
    "_Feature"
   ],
   "window_display": false
  }
 },
 "nbformat": 4,
 "nbformat_minor": 5
}
