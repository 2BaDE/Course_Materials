{
 "cells": [
  {
   "cell_type": "markdown",
   "id": "143ae75a",
   "metadata": {},
   "source": [
    "# 1. Dictionary\n",
    "\n",
    "- Dictionaries allow us to work with key-value pairs in Python. \n",
    "- Unordered data type. "
   ]
  },
  {
   "cell_type": "markdown",
   "id": "23168106",
   "metadata": {},
   "source": [
    "## 1.1 Create a dictionary"
   ]
  },
  {
   "cell_type": "code",
   "execution_count": 1,
   "id": "f3d68c57",
   "metadata": {},
   "outputs": [
    {
     "name": "stdout",
     "output_type": "stream",
     "text": [
      "['Math', 'Scinece']\n"
     ]
    }
   ],
   "source": [
    "student = {'name' : 'John', 'age' : 25, 'courses' : ['Math', 'Scinece']} \n",
    "print(student['courses'])"
   ]
  },
  {
   "cell_type": "markdown",
   "id": "193684b7",
   "metadata": {},
   "source": [
    "- Keys in dictionary : name, age, courses\n",
    "- Values correspoinding to keys : John for name, 25 for age, Math and Science for courses"
   ]
  },
  {
   "cell_type": "markdown",
   "id": "b5116799",
   "metadata": {},
   "source": [
    "## 1.2 Operations provided by dictionary \n",
    "\n",
    "- dict.get(item) : Return value if item is in dict.keys(), None if not. \n",
    "- dict.update({'key' : 'value'}) : Change value corresponding to input key. \n",
    "- dict.keys() : Return keys of the dict. \n",
    "- dict.values() : Return values of the dict.  \n",
    "- dict.items() : Return pairs of key and values. \n",
    "- item in dict : Return True if item is in dict.keys(). "
   ]
  },
  {
   "cell_type": "code",
   "execution_count": 2,
   "id": "3f66c7a1",
   "metadata": {},
   "outputs": [
    {
     "name": "stdout",
     "output_type": "stream",
     "text": [
      "name John\n",
      "age 25\n",
      "courses ['Math', 'Scinece']\n"
     ]
    }
   ],
   "source": [
    "for key, value in student.items(): \n",
    "    print(key, value)"
   ]
  }
 ],
 "metadata": {
  "kernelspec": {
   "display_name": "Python 3",
   "language": "python",
   "name": "python3"
  },
  "language_info": {
   "codemirror_mode": {
    "name": "ipython",
    "version": 3
   },
   "file_extension": ".py",
   "mimetype": "text/x-python",
   "name": "python",
   "nbconvert_exporter": "python",
   "pygments_lexer": "ipython3",
   "version": "3.8.8"
  },
  "toc": {
   "base_numbering": 1,
   "nav_menu": {},
   "number_sections": false,
   "sideBar": true,
   "skip_h1_title": false,
   "title_cell": "Table of Contents",
   "title_sidebar": "Contents",
   "toc_cell": false,
   "toc_position": {},
   "toc_section_display": true,
   "toc_window_display": false
  },
  "varInspector": {
   "cols": {
    "lenName": 16,
    "lenType": 16,
    "lenVar": 40
   },
   "kernels_config": {
    "python": {
     "delete_cmd_postfix": "",
     "delete_cmd_prefix": "del ",
     "library": "var_list.py",
     "varRefreshCmd": "print(var_dic_list())"
    },
    "r": {
     "delete_cmd_postfix": ") ",
     "delete_cmd_prefix": "rm(",
     "library": "var_list.r",
     "varRefreshCmd": "cat(var_dic_list()) "
    }
   },
   "types_to_exclude": [
    "module",
    "function",
    "builtin_function_or_method",
    "instance",
    "_Feature"
   ],
   "window_display": false
  }
 },
 "nbformat": 4,
 "nbformat_minor": 5
}
