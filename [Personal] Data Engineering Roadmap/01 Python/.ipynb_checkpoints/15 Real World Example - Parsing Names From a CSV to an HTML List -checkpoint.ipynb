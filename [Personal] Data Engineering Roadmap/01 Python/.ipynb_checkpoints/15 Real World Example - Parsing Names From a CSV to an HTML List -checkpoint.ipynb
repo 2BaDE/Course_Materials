{
 "cells": [
  {
   "cell_type": "markdown",
   "id": "73c2ed44",
   "metadata": {},
   "source": [
    "# <center> Parsing Names From a CSV to an HTML List \n",
    "\n",
    "In this contents, we'll parse a CSV file and output the data to an HTML unordered list. \n",
    "\n",
    "```Python\n",
    "import csv \n",
    "\n",
    "html_output = ''\n",
    "names = [] \n",
    "\n",
    "with open('file.csv', 'r') as file: \n",
    "    csv_reader = csv.Dictreader(file) \n",
    "    \n",
    "    # Skip first lines of csv_reader : headers or first line of bad data \n",
    "    next(csv_reader)\n",
    "    \n",
    "    # Extract first_name and last_name of each line \n",
    "    for line in csv_reader: \n",
    "        # Skip the line if first name is \"No Reward\"\n",
    "        if line['first_name'] == 'No Reward': \n",
    "            break \n",
    "        names.append(f\"{line['first_name']} {line['last_name']}\")\n",
    "        \n",
    "html_output += f\"<p>There are currently {len(names)} public contributors. Thank you!</p>\"\n",
    "html_output += '\\n<ul>'\n",
    "\n",
    "for name in names: \n",
    "    html_output += f'\\n\\t<li>{name}</li>'\n",
    "\n",
    "html_output += '\\n</ur>'\n",
    "```"
   ]
  }
 ],
 "metadata": {
  "kernelspec": {
   "display_name": "Python 3",
   "language": "python",
   "name": "python3"
  },
  "language_info": {
   "codemirror_mode": {
    "name": "ipython",
    "version": 3
   },
   "file_extension": ".py",
   "mimetype": "text/x-python",
   "name": "python",
   "nbconvert_exporter": "python",
   "pygments_lexer": "ipython3",
   "version": "3.8.8"
  },
  "toc": {
   "base_numbering": 1,
   "nav_menu": {},
   "number_sections": false,
   "sideBar": true,
   "skip_h1_title": false,
   "title_cell": "Table of Contents",
   "title_sidebar": "Contents",
   "toc_cell": false,
   "toc_position": {},
   "toc_section_display": true,
   "toc_window_display": false
  },
  "varInspector": {
   "cols": {
    "lenName": 16,
    "lenType": 16,
    "lenVar": 40
   },
   "kernels_config": {
    "python": {
     "delete_cmd_postfix": "",
     "delete_cmd_prefix": "del ",
     "library": "var_list.py",
     "varRefreshCmd": "print(var_dic_list())"
    },
    "r": {
     "delete_cmd_postfix": ") ",
     "delete_cmd_prefix": "rm(",
     "library": "var_list.r",
     "varRefreshCmd": "cat(var_dic_list()) "
    }
   },
   "types_to_exclude": [
    "module",
    "function",
    "builtin_function_or_method",
    "instance",
    "_Feature"
   ],
   "window_display": false
  }
 },
 "nbformat": 4,
 "nbformat_minor": 5
}
