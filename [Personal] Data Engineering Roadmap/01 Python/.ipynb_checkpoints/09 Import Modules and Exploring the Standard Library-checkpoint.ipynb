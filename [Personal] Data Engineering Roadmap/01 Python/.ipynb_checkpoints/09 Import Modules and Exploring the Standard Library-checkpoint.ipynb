{
 "cells": [
  {
   "cell_type": "markdown",
   "id": "cd916f9e",
   "metadata": {},
   "source": [
    "# 1. Import Modules \n",
    "\n",
    "Let's say we have my_module.py programmed as follows : \n",
    "\n",
    "```Python\n",
    "# Make module in my_module.py\n",
    "print('Imported my_module ...')\n",
    "\n",
    "test = 'Test string' \n",
    "\n",
    "def find_index(to_search, target): \n",
    "    '''Find the index of a value in a sequence'''\n",
    "    for i, value in enumerate(to_search): \n",
    "        if value == target:\n",
    "            return i\n",
    "    return -1 \n",
    "```\n",
    "\n",
    "If we want to apply programmed module on other script, we use import statement. \n",
    "\n",
    "```Python\n",
    "import my_module \n",
    "\n",
    "courses = ['Math', 'History', Physics', 'CompSci'] \n",
    "index = my_module.find_index(courses, 'Math') \n",
    "print(index)\n",
    "\n",
    "# Result will be such as follows \n",
    ">>> Imported my_module ...\n",
    ">>> 1\n",
    "```"
   ]
  },
  {
   "cell_type": "markdown",
   "id": "aac12248",
   "metadata": {},
   "source": [
    "## 1.1 Make aliased name of modules\n",
    "\n",
    "We can make alias name of imported module using as statement.\n",
    "\n",
    "```Python\n",
    "import my_module as mm \n",
    "\n",
    "courses = ['Math', 'History', Physics', 'CompSci'] \n",
    "index = mm.find_index(courses, 'Math') \n",
    "print(index)\n",
    "\n",
    "# Result will be such as follows \n",
    ">>> Imported my_module ...\n",
    ">>> 1\n",
    "```"
   ]
  },
  {
   "cell_type": "markdown",
   "id": "8eca28e2",
   "metadata": {},
   "source": [
    "## 1.2 Import specific method from modules \n",
    "\n",
    "We can extract specific function from module using from ~ import statement. We can apply as statement also.\n",
    "\n",
    "If we want to import all things from imported module we can attach * after import statement, but not recommended.\n",
    "\n",
    "```Python\n",
    "from my_module import find_index\n",
    "\n",
    "courses = ['Math', 'History', Physics', 'CompSci'] \n",
    "index = find_index(courses, 'Math') \n",
    "print(index)\n",
    "\n",
    "# Result will be such as follows \n",
    ">>> Imported my_module ...\n",
    ">>> 1\n",
    "```"
   ]
  },
  {
   "cell_type": "markdown",
   "id": "ed1c2a45",
   "metadata": {},
   "source": [
    "## 1.4 Get path of module \n",
    "\n",
    "We can get path of imported module using sys library. When loading another Python file through an import statement, Python navigates the paths in sys.path and PYTHONPATH to find the file internally. We can easily load Python files in any directory by modifying these two variables appropriately. "
   ]
  },
  {
   "cell_type": "code",
   "execution_count": 2,
   "id": "e456d3b0",
   "metadata": {},
   "outputs": [
    {
     "name": "stdout",
     "output_type": "stream",
     "text": [
      "['/home/jeongseokgyu/git_repository/Study_materials/[Personal] Data Engineering Roadmap/01 Python', '/home/jeongseokgyu/anaconda3/lib/python38.zip', '/home/jeongseokgyu/anaconda3/lib/python3.8', '/home/jeongseokgyu/anaconda3/lib/python3.8/lib-dynload', '', '/home/jeongseokgyu/anaconda3/lib/python3.8/site-packages', '/home/jeongseokgyu/anaconda3/lib/python3.8/site-packages/locket-0.2.1-py3.8.egg', '/home/jeongseokgyu/anaconda3/lib/python3.8/site-packages/IPython/extensions', '/home/jeongseokgyu/.ipython']\n"
     ]
    }
   ],
   "source": [
    "import sys\n",
    "print(sys.path)"
   ]
  },
  {
   "cell_type": "markdown",
   "id": "66fed1d7",
   "metadata": {},
   "source": [
    "sys.path is a list of strings containing the paths to the directory. If we add a path to this list, we can import the Python file in that path into the import statement. \n",
    "\n",
    "https://www.bangseongbeom.com/python-double-sharp-comments.html"
   ]
  },
  {
   "cell_type": "markdown",
   "id": "d39f160f",
   "metadata": {},
   "source": [
    "# 2. The standard library \n",
    "\n",
    "The Python's standard library is very extensive, offering a wide range of facilities as indicated by the long table of contents. The library contains built-in modules (written in C) that provides access to system functionality such as file I/O that would otherwise be inaccessible to Python programmers, as well as modules written in Python that provide standardized solutions for many problems that occur in everyday programming. "
   ]
  },
  {
   "cell_type": "code",
   "execution_count": 3,
   "id": "47b0396a",
   "metadata": {},
   "outputs": [
    {
     "data": {
      "text/plain": [
       "'Physics'"
      ]
     },
     "execution_count": 3,
     "metadata": {},
     "output_type": "execute_result"
    }
   ],
   "source": [
    "# random library\n",
    "\n",
    "import random \n",
    "\n",
    "courses = ['History', 'Math', 'Physics'] \n",
    "random.choice(courses)"
   ]
  },
  {
   "cell_type": "code",
   "execution_count": 6,
   "id": "9b6912ee",
   "metadata": {},
   "outputs": [
    {
     "name": "stdout",
     "output_type": "stream",
     "text": [
      "/home/jeongseokgyu/git_repository/Study_materials/[Personal] Data Engineering Roadmap/01 Python\n",
      "/home/jeongseokgyu/anaconda3/lib/python3.8/os.py\n"
     ]
    }
   ],
   "source": [
    "# Get current working directory using os module \n",
    "import os \n",
    "print(os.getcwd())\n",
    "\n",
    "# find the directory of os module \n",
    "# This will return the location of file in filesystem. \n",
    "print(os.__file__)"
   ]
  }
 ],
 "metadata": {
  "kernelspec": {
   "display_name": "Python 3",
   "language": "python",
   "name": "python3"
  },
  "language_info": {
   "codemirror_mode": {
    "name": "ipython",
    "version": 3
   },
   "file_extension": ".py",
   "mimetype": "text/x-python",
   "name": "python",
   "nbconvert_exporter": "python",
   "pygments_lexer": "ipython3",
   "version": "3.8.8"
  },
  "toc": {
   "base_numbering": 1,
   "nav_menu": {},
   "number_sections": false,
   "sideBar": true,
   "skip_h1_title": false,
   "title_cell": "Table of Contents",
   "title_sidebar": "Contents",
   "toc_cell": false,
   "toc_position": {},
   "toc_section_display": true,
   "toc_window_display": false
  },
  "varInspector": {
   "cols": {
    "lenName": 16,
    "lenType": 16,
    "lenVar": 40
   },
   "kernels_config": {
    "python": {
     "delete_cmd_postfix": "",
     "delete_cmd_prefix": "del ",
     "library": "var_list.py",
     "varRefreshCmd": "print(var_dic_list())"
    },
    "r": {
     "delete_cmd_postfix": ") ",
     "delete_cmd_prefix": "rm(",
     "library": "var_list.r",
     "varRefreshCmd": "cat(var_dic_list()) "
    }
   },
   "types_to_exclude": [
    "module",
    "function",
    "builtin_function_or_method",
    "instance",
    "_Feature"
   ],
   "window_display": false
  }
 },
 "nbformat": 4,
 "nbformat_minor": 5
}
