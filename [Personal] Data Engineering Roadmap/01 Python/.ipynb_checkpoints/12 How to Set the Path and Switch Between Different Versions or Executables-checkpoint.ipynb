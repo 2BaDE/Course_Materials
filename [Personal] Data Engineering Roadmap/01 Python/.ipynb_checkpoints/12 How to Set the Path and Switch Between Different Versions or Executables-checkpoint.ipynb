{
 "cells": [
  {
   "cell_type": "markdown",
   "id": "eb3a1925",
   "metadata": {},
   "source": [
    "# <center> The problems of recognizing python commands \n",
    "\n",
    "When we type Python in the command line it either says that is doesn't recognize the Python command or maybe it gives us a different version that we've installed or maybe we're trying to use a feature that's only available in a later version of Python. And also we're trying to import something that we've installed through pip but keeps giving us import error. "
   ]
  },
  {
   "cell_type": "markdown",
   "id": "897c0dfa",
   "metadata": {},
   "source": [
    "# 1. Execute Python Commands \n",
    "\n",
    "```Bash\n",
    "$ python\n",
    "Python 2.7.10 \n",
    "\n",
    "```\n",
    "\n",
    "When we input python command to command line prompt, we can see that the version of Python is 2.7.10. To execute Python with version 3, we should input python3 command to command line.\n",
    "\n",
    "```Bash\n",
    "$ python3\n",
    "```\n",
    "\n",
    "To check the location of python3 command, we can use which command with command which we want to know. \n",
    "\n",
    "```Bash\n",
    "$ which python3\n",
    "/usr/local/bin/python3\n",
    "```\n",
    "\n",
    "So the reason why we can only execute Python 3 with python3 command is that /usr/local/bin directory is on our PATH environment variable. We can use echo command to know which variables are in PATH environment variable.\n",
    "\n",
    "```Bash\n",
    "$ echo PATH\n",
    "```\n",
    "\n",
    "To execute Python3 with python command, we need to append full path(/usr/local/bin/python3) to PATH environment variable. "
   ]
  },
  {
   "cell_type": "markdown",
   "id": "aa682918",
   "metadata": {},
   "source": [
    "# 2. Setting python command for Python 3\n",
    "\n",
    "```bash \n",
    "$ alias python=python3\n",
    "```\n",
    "\n",
    "To make python command for python3 permanently, we need to add aliased command to /.bashrc. "
   ]
  },
  {
   "cell_type": "markdown",
   "id": "c91da77a",
   "metadata": {},
   "source": [
    "# 3. Debug of using different version of Python \n",
    "\n",
    "We can solve this problem using sys.executable command. \n",
    "\n",
    "**sys.executable** \n",
    "\n",
    "A string giving the absolute path of the executable binary for the Python interpreter, on systems where this makes sense. If Python is unable to retrieve the real path to its executable, sys.executable will be an empty string or None."
   ]
  },
  {
   "cell_type": "code",
   "execution_count": 2,
   "id": "ba5f990e",
   "metadata": {},
   "outputs": [
    {
     "data": {
      "text/plain": [
       "'/home/jeongseokgyu/anaconda3/bin/python'"
      ]
     },
     "execution_count": 2,
     "metadata": {},
     "output_type": "execute_result"
    }
   ],
   "source": [
    "import sys\n",
    "sys.executable"
   ]
  }
 ],
 "metadata": {
  "kernelspec": {
   "display_name": "Python 3",
   "language": "python",
   "name": "python3"
  },
  "language_info": {
   "codemirror_mode": {
    "name": "ipython",
    "version": 3
   },
   "file_extension": ".py",
   "mimetype": "text/x-python",
   "name": "python",
   "nbconvert_exporter": "python",
   "pygments_lexer": "ipython3",
   "version": "3.8.8"
  },
  "toc": {
   "base_numbering": 1,
   "nav_menu": {},
   "number_sections": false,
   "sideBar": true,
   "skip_h1_title": false,
   "title_cell": "Table of Contents",
   "title_sidebar": "Contents",
   "toc_cell": false,
   "toc_position": {},
   "toc_section_display": true,
   "toc_window_display": false
  },
  "varInspector": {
   "cols": {
    "lenName": 16,
    "lenType": 16,
    "lenVar": 40
   },
   "kernels_config": {
    "python": {
     "delete_cmd_postfix": "",
     "delete_cmd_prefix": "del ",
     "library": "var_list.py",
     "varRefreshCmd": "print(var_dic_list())"
    },
    "r": {
     "delete_cmd_postfix": ") ",
     "delete_cmd_prefix": "rm(",
     "library": "var_list.r",
     "varRefreshCmd": "cat(var_dic_list()) "
    }
   },
   "types_to_exclude": [
    "module",
    "function",
    "builtin_function_or_method",
    "instance",
    "_Feature"
   ],
   "window_display": false
  }
 },
 "nbformat": 4,
 "nbformat_minor": 5
}
