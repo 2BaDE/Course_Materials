{
 "cells": [
  {
   "cell_type": "markdown",
   "id": "56ebefcc",
   "metadata": {},
   "source": [
    "# 1. Store text data into variable"
   ]
  },
  {
   "cell_type": "code",
   "execution_count": 1,
   "id": "a76f742a",
   "metadata": {},
   "outputs": [
    {
     "name": "stdout",
     "output_type": "stream",
     "text": [
      "Hello World\n"
     ]
    }
   ],
   "source": [
    "message = \"Hello World\"\n",
    "print(message)"
   ]
  },
  {
   "cell_type": "markdown",
   "id": "da4e71da",
   "metadata": {},
   "source": [
    "We can use both single quote and double quote when creating string data. So, when we use it separately?   \n",
    "If the data have a single quote as a data, then we need to use double quote. We can use a escape character \"\\\\\" instead.  "
   ]
  },
  {
   "cell_type": "markdown",
   "id": "77134707",
   "metadata": {},
   "source": [
    "# 2. Methods for the String data type\n",
    "\n",
    "- len(str) : Return the length of input string.\n",
    "- str[idx] : Return the element in index idx.\n",
    "- str[:idx] : Return the sequence of elements in index zero to idx. \n",
    "- str.lower() : Convert the uppercase characters into lowercase.\n",
    "- str.upper() : Convert the lowercase characters into uppercase. \n",
    "- str.count(key) : Count the number of key existing in string data.  \n",
    "- str.found(key) : Return the first index of key in string data.\n",
    "- str.replace('a', 'b') : Replace first argument 'a' with 'b'. "
   ]
  },
  {
   "cell_type": "code",
   "execution_count": 4,
   "id": "b0fc9773",
   "metadata": {},
   "outputs": [
    {
     "name": "stdout",
     "output_type": "stream",
     "text": [
      "11\n",
      "l\n"
     ]
    }
   ],
   "source": [
    "print(len(message)) \n",
    "print(message[3])"
   ]
  },
  {
   "cell_type": "markdown",
   "id": "cad66c7f",
   "metadata": {},
   "source": [
    "# 3. String formatting \n",
    "\n",
    "Above the version 3.6, Python release the new way of formatting called f-format. "
   ]
  },
  {
   "cell_type": "code",
   "execution_count": 6,
   "id": "e5d64867",
   "metadata": {},
   "outputs": [
    {
     "name": "stdout",
     "output_type": "stream",
     "text": [
      "Hello World is new!\n"
     ]
    }
   ],
   "source": [
    "new_message = f'{message} is new!'\n",
    "print(new_message)"
   ]
  },
  {
   "cell_type": "markdown",
   "id": "506fe3ce",
   "metadata": {},
   "source": [
    "# 4. helper method : dir, help\n",
    "\n",
    "dir funtion returns method we can use based on input object. "
   ]
  },
  {
   "cell_type": "code",
   "execution_count": 7,
   "id": "72df6a12",
   "metadata": {},
   "outputs": [
    {
     "name": "stdout",
     "output_type": "stream",
     "text": [
      "['__add__', '__class__', '__contains__', '__delattr__', '__dir__', '__doc__', '__eq__', '__format__', '__ge__', '__getattribute__', '__getitem__', '__getnewargs__', '__gt__', '__hash__', '__init__', '__init_subclass__', '__iter__', '__le__', '__len__', '__lt__', '__mod__', '__mul__', '__ne__', '__new__', '__reduce__', '__reduce_ex__', '__repr__', '__rmod__', '__rmul__', '__setattr__', '__sizeof__', '__str__', '__subclasshook__', 'capitalize', 'casefold', 'center', 'count', 'encode', 'endswith', 'expandtabs', 'find', 'format', 'format_map', 'index', 'isalnum', 'isalpha', 'isascii', 'isdecimal', 'isdigit', 'isidentifier', 'islower', 'isnumeric', 'isprintable', 'isspace', 'istitle', 'isupper', 'join', 'ljust', 'lower', 'lstrip', 'maketrans', 'partition', 'replace', 'rfind', 'rindex', 'rjust', 'rpartition', 'rsplit', 'rstrip', 'split', 'splitlines', 'startswith', 'strip', 'swapcase', 'title', 'translate', 'upper', 'zfill']\n"
     ]
    }
   ],
   "source": [
    "print(dir(new_message))"
   ]
  },
  {
   "cell_type": "markdown",
   "id": "90f1a9d3",
   "metadata": {},
   "source": [
    "help function returns the documents of input object and functions."
   ]
  },
  {
   "cell_type": "code",
   "execution_count": 9,
   "id": "65f60f84",
   "metadata": {},
   "outputs": [
    {
     "name": "stdout",
     "output_type": "stream",
     "text": [
      "Help on method_descriptor:\n",
      "\n",
      "lower(self, /)\n",
      "    Return a copy of the string converted to lowercase.\n",
      "\n"
     ]
    }
   ],
   "source": [
    "help(str.lower)"
   ]
  }
 ],
 "metadata": {
  "kernelspec": {
   "display_name": "Python 3",
   "language": "python",
   "name": "python3"
  },
  "language_info": {
   "codemirror_mode": {
    "name": "ipython",
    "version": 3
   },
   "file_extension": ".py",
   "mimetype": "text/x-python",
   "name": "python",
   "nbconvert_exporter": "python",
   "pygments_lexer": "ipython3",
   "version": "3.8.8"
  },
  "toc": {
   "base_numbering": 1,
   "nav_menu": {},
   "number_sections": false,
   "sideBar": true,
   "skip_h1_title": false,
   "title_cell": "Table of Contents",
   "title_sidebar": "Contents",
   "toc_cell": false,
   "toc_position": {},
   "toc_section_display": true,
   "toc_window_display": false
  },
  "varInspector": {
   "cols": {
    "lenName": 16,
    "lenType": 16,
    "lenVar": 40
   },
   "kernels_config": {
    "python": {
     "delete_cmd_postfix": "",
     "delete_cmd_prefix": "del ",
     "library": "var_list.py",
     "varRefreshCmd": "print(var_dic_list())"
    },
    "r": {
     "delete_cmd_postfix": ") ",
     "delete_cmd_prefix": "rm(",
     "library": "var_list.r",
     "varRefreshCmd": "cat(var_dic_list()) "
    }
   },
   "types_to_exclude": [
    "module",
    "function",
    "builtin_function_or_method",
    "instance",
    "_Feature"
   ],
   "window_display": false
  }
 },
 "nbformat": 4,
 "nbformat_minor": 5
}
