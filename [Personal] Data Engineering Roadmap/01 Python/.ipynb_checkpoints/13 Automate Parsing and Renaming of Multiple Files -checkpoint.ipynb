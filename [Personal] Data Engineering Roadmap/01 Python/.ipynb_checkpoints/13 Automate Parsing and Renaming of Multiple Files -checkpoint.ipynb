{
 "cells": [
  {
   "cell_type": "markdown",
   "id": "25b08d1a",
   "metadata": {},
   "source": [
    "# <center> Automate Parsing and Renaming of Multiple Files \n",
    "\n",
    "Our goal of this contents is to parse and rename multiple files in desired ways. \n",
    "\n",
    "```Python\n",
    "import os \n",
    "\n",
    "# Change current direcetory to directory where hold all of my files \n",
    "os.chdir('/Users/coreyschafer/Projects/Demos/Python/Videos') \n",
    "print(os.getcwd()) \n",
    "\n",
    "# List all files in current directory \n",
    "for file in os.listdir():\n",
    "    # Split files into file name and extensions \n",
    "    file_name, file_ext = os.path.splittext(file) \n",
    "    \n",
    "    # Split file name by '-' \n",
    "    f_title, f_course, f_num = file_name.split('-') \n",
    "    \n",
    "    # Remove weird blanks \n",
    "    f_title = f_title.strip() \n",
    "    f_course = f_course.strip() \n",
    "    f_num = f_num.strip()[1:].zfill(2) # make two digits with zero   \n",
    "    \n",
    "    new_file_name = f\"{f_num}-{f_course}-{f_title}{file_ext}\" \n",
    "    \n",
    "    os.rename(file, new_file_name) \n",
    "```"
   ]
  }
 ],
 "metadata": {
  "kernelspec": {
   "display_name": "Python 3",
   "language": "python",
   "name": "python3"
  },
  "language_info": {
   "codemirror_mode": {
    "name": "ipython",
    "version": 3
   },
   "file_extension": ".py",
   "mimetype": "text/x-python",
   "name": "python",
   "nbconvert_exporter": "python",
   "pygments_lexer": "ipython3",
   "version": "3.8.8"
  },
  "toc": {
   "base_numbering": 1,
   "nav_menu": {},
   "number_sections": false,
   "sideBar": true,
   "skip_h1_title": false,
   "title_cell": "Table of Contents",
   "title_sidebar": "Contents",
   "toc_cell": false,
   "toc_position": {},
   "toc_section_display": true,
   "toc_window_display": false
  },
  "varInspector": {
   "cols": {
    "lenName": 16,
    "lenType": 16,
    "lenVar": 40
   },
   "kernels_config": {
    "python": {
     "delete_cmd_postfix": "",
     "delete_cmd_prefix": "del ",
     "library": "var_list.py",
     "varRefreshCmd": "print(var_dic_list())"
    },
    "r": {
     "delete_cmd_postfix": ") ",
     "delete_cmd_prefix": "rm(",
     "library": "var_list.r",
     "varRefreshCmd": "cat(var_dic_list()) "
    }
   },
   "types_to_exclude": [
    "module",
    "function",
    "builtin_function_or_method",
    "instance",
    "_Feature"
   ],
   "window_display": false
  }
 },
 "nbformat": 4,
 "nbformat_minor": 5
}
