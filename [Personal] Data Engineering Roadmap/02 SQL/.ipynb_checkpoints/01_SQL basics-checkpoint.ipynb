{
 "cells": [
  {
   "cell_type": "markdown",
   "id": "f45f7a55",
   "metadata": {},
   "source": [
    "# 1. Introduction to SQL \n",
    "\n",
    "The **database** is a program that helps store data and provides functionality for adding, modifying, and querying that data, and doing that all fast. Databases come in many forms, but a really popular type of databases is called a relational database. \n",
    "\n",
    "It stores each kind of data in a table, which is kind of like storing data in spreadsheet. A row represents an item, and column represents properties about that item. \n",
    "\n",
    "Most database come with a query language to interact with the database. **SQL** is a language designed entirely for accessing databases."
   ]
  },
  {
   "cell_type": "markdown",
   "id": "e0005a61",
   "metadata": {},
   "source": [
    "# 2. Creating a table and inserting data \n",
    "\n",
    "We can create a table in database with **CREATE TABLE** clause. We also need to append name-type of columns into the parentheses. \n",
    "\n",
    "When creating a columns in a table, we should set a primary key. The **primary key** is a single, or a group of fields or columns that can uniquely identify a row in a table. Using a primary key, we can uinquely identifies each row of a table and gets a unique index for each primary key column that helps with faster access. \n",
    "\n",
    "```SQL\n",
    "/* Create a table with named groceries */ \n",
    "\n",
    "CREATE TABLE groceries (\n",
    "    id INTEGER PRIMARY KEY, \n",
    "    name TEXT , \n",
    "    quantitiy INTEGER\n",
    ");\n",
    "```\n",
    "\n",
    "We can put data into a table with **INSERT INTO** clause. \n",
    "\n",
    "```SQL \n",
    "/* Insert a data into table */\n",
    "\n",
    "INSERT INTO groceries VALUES (1, \"Bananas\", 4);\n",
    "INSERT INTO groceries VALUES (2, \"Peanut Butter\", 1); \n",
    "INSERT INTO groceries VALUES (3, \"Dark chocolate bars\", 2); \n",
    "```"
   ]
  },
  {
   "cell_type": "markdown",
   "id": "cd827ad5",
   "metadata": {},
   "source": [
    "# 3. Querying the table\n",
    "\n",
    "We use **SELECT** clause to retreive rows from a table. An asterisk(\\*) can be used to retreive all rows of table. \n",
    "\n",
    "We can sort retrieved rows in specific order by using **ORDER BY** clause. \n",
    "\n",
    "```SQL\n",
    "/* SELECT name column from groceries table */ \n",
    "\n",
    "SELECT name FROM groceries; \n",
    "\n",
    "/* SELECT all columns from groceries table */ \n",
    "\n",
    "SELECT * FROM groceries ORDER BY aisle; \n",
    "```\n",
    "\n",
    "Anytime we want to filter rows in specific conditions, **WEHRE** clause is used. \n",
    "\n",
    "```SQL \n",
    "/* Get rows which aisle is bigger than 5 */ \n",
    "\n",
    "SELECT * FROM groceries WHERE aisle > 5 ORDER BY aisle; \n",
    "```"
   ]
  },
  {
   "cell_type": "markdown",
   "id": "d75475e1",
   "metadata": {},
   "source": [
    "# 4. Aggregating data\n",
    "\n",
    "An **aggregate function** performs a calculation on a set of values, and returns a single value. Except for COUNT(\\*), aggergate functions ignore null values. Aggregate functions often used with the GROUP BY clause of the SELECT cluase. \n",
    "\n",
    "```SQL\n",
    "/* Total sum of quantity of groceries table */ \n",
    "\n",
    "SELECT SUM(quantity) FROM groceries; \n",
    "\n",
    "/* Calculate sum of quantity grouped by aisle */ \n",
    "\n",
    "SELECT aisle, SUM(quantity) FROM groceries GROUP BY aisle; \n",
    "```\n",
    "\n",
    "Because the SQL engine just picked the first item out of it, we really shouldn't be using something different from what we're grouping by. "
   ]
  },
  {
   "cell_type": "markdown",
   "id": "64fea1be",
   "metadata": {},
   "source": [
    "# 5. Project : Design a store database\n",
    "\n",
    "Create your own store! Your store should sell one type of things, like clothing or bikes, whatever you want your store to specialize in. You should have a table for all the items in your store, and at least 5 columns for the kind of data you think you'd need to store. You should sell at least 15 items, and use select statements to order your items by price and show at least one statistic about the items. \n",
    "\n",
    "```SQL\n",
    "/* Create table named store */ \n",
    "\n",
    "CREATE TABLE store (\n",
    "    id INTEGER PRIMARY KEY, \n",
    "    name TEXT, \n",
    "    category TEXT, \n",
    "    price REAL, \n",
    "    rating REAL\n",
    "); \n",
    "\n",
    "/* INSERT records on store */ \n",
    "\n",
    "INSERT INTO store VALUES\n",
    "    (1, 'abc', 'foods', 3.0, 4.1), \n",
    "    (2, 'chocolate', 'foods', 1.9, 3.8), \n",
    "    (3, 'pen-tech', 'grocery', 4.4, 4.5),\n",
    "    (4, 'cake', 'foods', 12.9, 3.7), \n",
    "    (5, 'product1', 'grocery', 14.0, 4.43), \n",
    "    (6, 'product2', 'facny', 3.2, 1.89),\n",
    "    (7, 'product3', 'foods', 27.0, 3.5), \n",
    "    (8, 'product4', 'grocery', 30.0, 3.5), \n",
    "    (9, 'product5', 'fancy', 15.0, 4.3),\n",
    "    (10, 'product6', 'fancy', 1.6, 4.1), \n",
    "    (11, 'product7', 'kits', 2.0, 4.1), \n",
    "    (12, 'product8', 'kits', 47.0, 3.9), \n",
    "    (13, 'product9', 'kits', 28.0, 2.8), \n",
    "    (14, 'product10', 'foods', 15.2, 2.1), \n",
    "    (15, 'product11', 'fancy', 3.2, 5.0), \n",
    "    (16, 'product12', 'kits', 4.5, 4.5);\n",
    "\n",
    "/* View Table sorted by price */ \n",
    "SELECT * FROM store ORDER BY price DESC;\n",
    "\n",
    "/* Calculate average rating grouped by category */ \n",
    "SELECT category, AVG(rating) FROM store GROUP BY category;\n",
    "```"
   ]
  }
 ],
 "metadata": {
  "kernelspec": {
   "display_name": "Python 3",
   "language": "python",
   "name": "python3"
  },
  "language_info": {
   "codemirror_mode": {
    "name": "ipython",
    "version": 3
   },
   "file_extension": ".py",
   "mimetype": "text/x-python",
   "name": "python",
   "nbconvert_exporter": "python",
   "pygments_lexer": "ipython3",
   "version": "3.8.8"
  },
  "toc": {
   "base_numbering": 1,
   "nav_menu": {},
   "number_sections": false,
   "sideBar": true,
   "skip_h1_title": false,
   "title_cell": "Table of Contents",
   "title_sidebar": "Contents",
   "toc_cell": false,
   "toc_position": {},
   "toc_section_display": true,
   "toc_window_display": true
  },
  "varInspector": {
   "cols": {
    "lenName": 16,
    "lenType": 16,
    "lenVar": 40
   },
   "kernels_config": {
    "python": {
     "delete_cmd_postfix": "",
     "delete_cmd_prefix": "del ",
     "library": "var_list.py",
     "varRefreshCmd": "print(var_dic_list())"
    },
    "r": {
     "delete_cmd_postfix": ") ",
     "delete_cmd_prefix": "rm(",
     "library": "var_list.r",
     "varRefreshCmd": "cat(var_dic_list()) "
    }
   },
   "types_to_exclude": [
    "module",
    "function",
    "builtin_function_or_method",
    "instance",
    "_Feature"
   ],
   "window_display": false
  }
 },
 "nbformat": 4,
 "nbformat_minor": 5
}
