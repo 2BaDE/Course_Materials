{
 "cells": [
  {
   "cell_type": "markdown",
   "id": "ce13e6ac",
   "metadata": {},
   "source": [
    "# 1. More complex queries with AND/OR \n",
    "\n",
    "## 1.1 Insert data within specific columns \n",
    "\n",
    "We can specify the column names in parentheses after the table name. After that, we don't have to specify ever column value, what we only have to specify the ones that we give in the list of column names. \n",
    "\n",
    "With **AUTOINCREMENT** keyword of **PRIMARY KEY**, we automatically increment values of primary key column, not fill with NULL. \n",
    "\n",
    "```SQL\n",
    "CREATE TABLE exercise_logs\n",
    "    (id INTEGER PRIMARY KEY AUTOINCREMENT,\n",
    "    type TEXT,\n",
    "    minutes INTEGER, \n",
    "    calories INTEGER,\n",
    "    heart_rate INTEGER);\n",
    "```\n",
    "\n",
    "So we can leave out the id let the database fill the values for me. \n",
    "\n",
    "## 1.2 Retrieve the records in multiple conditions\n",
    "\n",
    "We can retrieve records fitted in multiple conditions using **AND** and **OR** operator. The AND operator returns only rows in multiple conditions, while the OR operator returns any rows in multiple conditions.\n",
    "\n",
    "```SQL\n",
    "/* AND */\n",
    "SELECT * FROM exercise_logs WHERE calories > 50 AND minutes < 30;\n",
    "\n",
    "/* OR */\n",
    "SELECT * FROM exercise_logs WHERE calories > 50 OR heart_rate > 100;\n",
    "```"
   ]
  },
  {
   "cell_type": "markdown",
   "id": "34f6e060",
   "metadata": {},
   "source": [
    "# 2. Querying IN subqueries \n",
    "\n",
    "## 2.1 Retrieve the records without using OR\n",
    "The **IN** operator will check to see if a particular value is in a list of values. The workflow of using IN operator is same as follows : \n",
    "\n",
    "1. Put targets in a parenthesis \n",
    "2. Seperate each of these strinigs with a commans\n",
    "\n",
    "```SQL\n",
    "/* IN */\n",
    "SELECT * FROM exercise_logs WHERE type IN (\"biking\", \"hiking\", \"tree climbing\", \"rowing\");\n",
    "```\n",
    "\n",
    "We can retrieve inverse query using **NOT IN** operators.\n",
    "\n",
    "```SQL \n",
    "/* NOT IN */\n",
    "SELECT * FROM exercise_logs WHERE type NOT IN (\"biking\", \"hiking\", \"tree climbing\", \"rowing\");\n",
    "```\n",
    "\n",
    "## 2.2 Retreive the records from subquery \n",
    "\n",
    "If we want retreive the records in multiple conditions from other table, we can make query to be up to date using IN operator directly with the results of a SQL query, SELECT query. We call this **Inner Query** or **Subquery**.\n",
    "\n",
    "```SQL\n",
    "/* Subquery */ \n",
    "SELECT * FROM exercise_logs WHERE type IN (\n",
    "    SELECT type FROM drs_favorites\n",
    ");\n",
    "```\n",
    "\n",
    "## 2.3 Retreive the records with inexact match\n",
    "\n",
    "So there are times when we want to do an inexact match. And we can do that with **LIKE** operator, which is a pretty neat operator.\n",
    "\n",
    "```SQL\n",
    "/* LIKE */\n",
    "\n",
    "SELECT * FROM exercise_logs WHERE type IN (\n",
    "    SELECT type FROM drs_favorites WHERE reason LIKE \"cardiovascular\"\n",
    ");\n",
    "```"
   ]
  },
  {
   "cell_type": "markdown",
   "id": "e5144a8a",
   "metadata": {},
   "source": [
    "# 3. Restricting grouped results with HAVING\n",
    "\n",
    "## 3.1 Giving a column name a new name \n",
    "\n",
    "When we use aggregat function, the column shows up as 'FUNC(column)' in the results. If we want, we can actually tell SQL to give that column a new name, just by writing **AS** and then giving it the new name. \n",
    "\n",
    "```SQL\n",
    "SELECT type, SUM(calories) AS total_calories FROM exercise_logs GROUP BY type;\n",
    "```\n",
    "\n",
    "## 3.2 HAVING cluase \n",
    "\n",
    "When we use **HAVING**, we're applying the conditions to the grouped values, not the individual values in the individual rows. \n",
    "\n",
    "```SQL \n",
    "SELECT type, AVG(calories) AS avg_calories FROM exercise_logs\n",
    " GROUP BY type\n",
    "HAVING avg_calories > 70; \n",
    "```"
   ]
  },
  {
   "cell_type": "markdown",
   "id": "25b959e6",
   "metadata": {},
   "source": [
    "# 4. Calculating results with CASE \n",
    "\n",
    "The **CASE** expression goes through conditions and returns a value when the first condition is met. So, once a condition is true, it will stop reading and return the result. If no conditions are true, it returns the value in the ELSE cluase. \n",
    "\n",
    "```SQL \n",
    "/* CASE */\n",
    "SELECT type, heart_rate,\n",
    "    CASE \n",
    "        WHEN heart_rate > 220-30 THEN \"above max\"\n",
    "        WHEN heart_rate > ROUND(0.90 * (220-30)) THEN \"above target\"\n",
    "        WHEN heart_rate > ROUND(0.50 * (220-30)) THEN \"within target\"\n",
    "        ELSE \"below target\"\n",
    "    END as \"hr_zone\"\n",
    "FROM exercise_logs;\n",
    "```"
   ]
  },
  {
   "cell_type": "markdown",
   "id": "bd48834c",
   "metadata": {},
   "source": [
    "# 5. Project : Data dig\n",
    "\n",
    "```SQL \n",
    "/* Put your data in here and query it! */\n",
    "\n",
    "/* Get max, average, min value of Space_Flight_hr */ \n",
    "SELECT MAX(Space_Flight_hr) AS max_flights, \n",
    "       AVG(Space_Flight_hr) AS avg_flights, \n",
    "       MIN(Space_Flight_hr) AS min_flights \n",
    "  FROM astronauts; \n",
    "  \n",
    "SELECT COUNT(*), status FROM astronauts\n",
    " GROUP BY status\n",
    "HAVING status='Active';\n",
    "\n",
    "/* Categorize value of Space_Flight_hr into ('high', 'semi-high', 'average', 'semi-low') */ \n",
    "/* Extract its count where Gender is Male or Year is bigger than 2000 */\n",
    "SELECT CASE \n",
    "            WHEN Space_Flight_hr > 5000 THEN 'high' \n",
    "            WHEN Space_Flight_hr > 2500 THEN 'semi-high' \n",
    "            WHEN Space_Flight_hr > 900 THEN 'average' \n",
    "            WHEN Space_Flight_hr > 100 THEN 'semi-low' \n",
    "            ELSE 'low'\n",
    "        END AS flight_level, COUNT(*)\n",
    "    FROM astronauts \n",
    " WHERE Gender='Male' OR Year > 2000\n",
    " GROUP BY flight_level; \n",
    "\n",
    "```"
   ]
  }
 ],
 "metadata": {
  "kernelspec": {
   "display_name": "Python 3",
   "language": "python",
   "name": "python3"
  },
  "language_info": {
   "codemirror_mode": {
    "name": "ipython",
    "version": 3
   },
   "file_extension": ".py",
   "mimetype": "text/x-python",
   "name": "python",
   "nbconvert_exporter": "python",
   "pygments_lexer": "ipython3",
   "version": "3.8.8"
  },
  "toc": {
   "base_numbering": 1,
   "nav_menu": {},
   "number_sections": false,
   "sideBar": true,
   "skip_h1_title": false,
   "title_cell": "Table of Contents",
   "title_sidebar": "Contents",
   "toc_cell": false,
   "toc_position": {},
   "toc_section_display": true,
   "toc_window_display": false
  },
  "varInspector": {
   "cols": {
    "lenName": 16,
    "lenType": 16,
    "lenVar": 40
   },
   "kernels_config": {
    "python": {
     "delete_cmd_postfix": "",
     "delete_cmd_prefix": "del ",
     "library": "var_list.py",
     "varRefreshCmd": "print(var_dic_list())"
    },
    "r": {
     "delete_cmd_postfix": ") ",
     "delete_cmd_prefix": "rm(",
     "library": "var_list.r",
     "varRefreshCmd": "cat(var_dic_list()) "
    }
   },
   "types_to_exclude": [
    "module",
    "function",
    "builtin_function_or_method",
    "instance",
    "_Feature"
   ],
   "window_display": false
  }
 },
 "nbformat": 4,
 "nbformat_minor": 5
}
