{
 "cells": [
  {
   "cell_type": "markdown",
   "id": "b1b7d96f",
   "metadata": {},
   "source": [
    "# <center> Plotly Document"
   ]
  },
  {
   "cell_type": "markdown",
   "id": "fe5be915",
   "metadata": {},
   "source": [
    "# 1. Visualization plot by Feature type"
   ]
  },
  {
   "cell_type": "markdown",
   "id": "0b7b24e5",
   "metadata": {},
   "source": [
    "## 1.1 Univariate\n",
    "\n",
    "1. Quantitive features\n",
    "    - Histograms\n",
    "    - Density plot\n",
    "    - Box plot\n",
    "    - Violin plot\n",
    "  \n",
    "  \n",
    "2. Categorical features(Discrete features)\n",
    "    - Frequency table\n",
    "    - Bar plot(Count)"
   ]
  },
  {
   "cell_type": "markdown",
   "id": "99647f6b",
   "metadata": {},
   "source": [
    "## 1.2 Multivariate \n",
    "\n",
    "1. Quantitive vs Quantitive\n",
    "    - Correlation matrix\n",
    "    - Scatterplot \n",
    "    - px.scatter_matrix\n",
    "    - 1 + Categorical : scatter plot with hue \n",
    "    \n",
    "    \n",
    "    \n",
    "2. Quantitive vs Categorical\n",
    "    - Box plot \n",
    "    - 2 + Categorical : Box plot with subplots\n",
    "    \n",
    "    \n",
    "3. Categorical vs Categorical \n",
    "    - Bar plot(Count) "
   ]
  },
  {
   "cell_type": "markdown",
   "id": "7191de04",
   "metadata": {},
   "source": [
    "# 2. Heatmap \n",
    "\n",
    "```python\n",
    "corr = df_train_raw.corr()\n",
    "mask = np.triu(np.ones_like(corr, dtype=bool))\n",
    "corr = corr.mask(mask)\n",
    "\n",
    "fig = go.Figure()\n",
    "fig.add_trace(go.Heatmap(\n",
    "    z = corr, \n",
    "    x = corr.columns.tolist(),\n",
    "    y = corr.columns.tolist(),\n",
    "    colorscale = 'RdBu',\n",
    "    xgap = 1,\n",
    "    ygap = 1,\n",
    "    hoverinfo = \"none\"\n",
    "    )\n",
    ")\n",
    "\n",
    "fig.update_layout(\n",
    "    {\n",
    "        \"title\": {\n",
    "            \"text\": \"<b>Correlation in each feautures</b>\",\n",
    "            \"x\": 0.5,\n",
    "            \"y\": 0.9,\n",
    "            \"font\": {\n",
    "                \"size\": 15\n",
    "            }\n",
    "        },\n",
    "        \"xaxis\": {\n",
    "            \"title\": \"Columns\",\n",
    "            \"tickfont\": {\n",
    "                \"size\": 8                \n",
    "            }\n",
    "        },\n",
    "        \"yaxis\": {\n",
    "            \"title\": \"Columns\",\n",
    "            \"tickfont\": {\n",
    "                \"size\": 8                \n",
    "            }\n",
    "        },\n",
    "        \"template\":'plotly_white',\n",
    "        \"yaxis_autorange\" : \"reversed\"\n",
    "    }\n",
    ")\n",
    "fig.show()\n",
    "\n",
    "\n",
    "# Triangle Heatmap \n",
    "\n",
    "corr = df_raw.corr()\n",
    "mask = np.triu(np.ones_like(corr, dtype=bool))\n",
    "df_mask = corr.mask(mask)\n",
    "\n",
    "fig = ff.create_annotated_heatmap(z=df_mask.to_numpy(), \n",
    "                                  x=df_mask.columns.tolist(),\n",
    "                                  y=df_mask.columns.tolist(),\n",
    "                                  colorscale=px.colors.diverging.RdBu,\n",
    "                                  hoverinfo=\"none\",\n",
    "                                  showscale=True, ygap=1, xgap=1\n",
    "                                 )\n",
    "\n",
    "fig.update_xaxes(side=\"bottom\")\n",
    "\n",
    "fig.update_layout(\n",
    "    title_text='Heatmap', \n",
    "    title_x=0.5, \n",
    "    width=1000, \n",
    "    height=1000,\n",
    "    xaxis_showgrid=False,\n",
    "    yaxis_showgrid=False,\n",
    "    xaxis_zeroline=False,\n",
    "    yaxis_zeroline=False,\n",
    "    yaxis_autorange='reversed',\n",
    "    template='plotly_white'\n",
    ")\n",
    "\n",
    "for i in range(len(fig.layout.annotations)):\n",
    "    if fig.layout.annotations[i].text == 'nan':\n",
    "        fig.layout.annotations[i].text = \"\"\n",
    "    fig.layout.annotations[i].font.size = 8\n",
    "\n",
    "fig.show()\n",
    "```"
   ]
  },
  {
   "cell_type": "markdown",
   "id": "21a30dd4",
   "metadata": {},
   "source": [
    "# 3. Scatter_Matrix\n",
    "\n",
    "Plot px.scatter_matrix show correlation of each other features with scatter points. \n",
    "\n",
    "\n",
    "```python\n",
    "fig = px.scatter_matrix(cancer_df, dimensions =['mean radius', 'mean area', 'mean perimeter', 'mean texture'], color = 'target', width = 1000, height = 1000)\n",
    "fig.show()\n",
    "```"
   ]
  },
  {
   "cell_type": "markdown",
   "id": "aeaf14d8",
   "metadata": {},
   "source": [
    "# 4. Make dataset for visualization"
   ]
  },
  {
   "cell_type": "markdown",
   "id": "8305378f",
   "metadata": {},
   "source": [
    "## 4.1 melt\n",
    "\n",
    "```python\n",
    "df_uniques = pd.melt(\n",
    "    frame=df,\n",
    "    value_vars=[\"gender\", \"cholesterol\", \"gluc\", \"smoke\", \"alco\", \"active\", \"cardio\"],\n",
    ")\n",
    "df_uniques = (\n",
    "    pd.DataFrame(df_uniques.groupby([\"variable\", \"value\"])[\"value\"].count())\n",
    "    .sort_index(level=[0, 1])\n",
    "    .rename(columns={\"value\": \"count\"})\n",
    "    .reset_index()\n",
    ")\n",
    "\n",
    "sns.factorplot(\n",
    "    x=\"variable\", y=\"count\", hue=\"value\", data=df_uniques, kind=\"bar\", size=12\n",
    ");\n",
    "```"
   ]
  },
  {
   "cell_type": "markdown",
   "id": "893dbaa0",
   "metadata": {},
   "source": [
    "**Difference between go.Figure and fig.add_trace()**\n",
    "\n",
    "URL : [Difference between go object and add_trace mehod : ](https://data101.oopy.io/plolty-tutorial-guide-in-korean)"
   ]
  },
  {
   "cell_type": "markdown",
   "id": "1d17685a",
   "metadata": {},
   "source": [
    "# 5. iplot"
   ]
  },
  {
   "cell_type": "markdown",
   "id": "18d058df",
   "metadata": {},
   "source": [
    "## 5.1 layout"
   ]
  },
  {
   "cell_type": "markdown",
   "id": "3dd4b651",
   "metadata": {},
   "source": [
    "```python\n",
    "layout = {\n",
    "    'title' : \n",
    "    {\n",
    "        'text' : '<b>Test Grpah for EDA</b>',\n",
    "        'font' : {\n",
    "            'size' : 15,\n",
    "            'color' : '#37474F'\n",
    "        },\n",
    "        'x' : 0.5,\n",
    "        'y' : 0.88\n",
    "    },\n",
    "    'plot_bgcolor' : '#FAFAFA',\n",
    "    'xaxis' : {\n",
    "        'showticklabels' : True,\n",
    "        'dtick' : 2,\n",
    "        'title' : {\n",
    "            'text' : 'Xaxis',\n",
    "            'font' : {\n",
    "                'size' : 10,\n",
    "                'color' : '#37474F'\n",
    "            }\n",
    "        }\n",
    "    },\n",
    "    'yaxis' : {\n",
    "        'showticklabels' : True,\n",
    "        'dtick' : 2,\n",
    "        'title' : {\n",
    "            'text' : 'Xaxis',\n",
    "            'font' : {\n",
    "                'size' : 10,\n",
    "                'color' : '#37474F'\n",
    "                }\n",
    "            \n",
    "            }\n",
    "        \n",
    "    }\n",
    "}\n",
    "```"
   ]
  },
  {
   "cell_type": "markdown",
   "id": "251a216b",
   "metadata": {},
   "source": [
    "# 6. plotly.graph_obj()"
   ]
  },
  {
   "cell_type": "markdown",
   "id": "b97bd309",
   "metadata": {},
   "source": [
    "## 6.1 layout"
   ]
  },
  {
   "cell_type": "markdown",
   "id": "c004199f",
   "metadata": {},
   "source": [
    "```python\n",
    "fig.update_layout(\n",
    "    {\n",
    "        \"title\": {\n",
    "            \"text\": \"<b>Percentage or heart rate by Age decades and sex</b>\",\n",
    "            \"x\": 0.5,\n",
    "            \"y\": 0.9,\n",
    "            \"font\": {\n",
    "                \"size\": 15\n",
    "            }\n",
    "        },\n",
    "        \"xaxis\": {\n",
    "            \"title\": \"Age Decades\",\n",
    "            \"showticklabels\":True,\n",
    "            \"tickfont\": {\n",
    "                \"size\": 10                \n",
    "            }\n",
    "        },\n",
    "        \"yaxis\": {\n",
    "            \"title\": \"Percentage of HeartDisease\",\n",
    "            \"tickfont\": {\n",
    "                \"size\": 10                \n",
    "            }\n",
    "        },\n",
    "        \"template\":'plotly_white'\n",
    "    }\n",
    ")\n",
    "```"
   ]
  },
  {
   "cell_type": "markdown",
   "id": "08a6f423",
   "metadata": {},
   "source": [
    "## 6.2 annotation "
   ]
  },
  {
   "cell_type": "markdown",
   "id": "1b910b26",
   "metadata": {},
   "source": [
    "```python\n",
    "fig.add_annotation(\n",
    "            x=\"2017-11-30\",\n",
    "            y=1153393,\n",
    "            text=\"<b>Peaked Monthly Turnover</b>\",\n",
    "            showarrow=True,\n",
    "            font=dict(\n",
    "                size=10,\n",
    "                color=\"#ffffff\"\n",
    "                ),\n",
    "            align=\"center\",\n",
    "            arrowhead=2,\n",
    "            arrowsize=1,\n",
    "            arrowwidth=2,\n",
    "            arrowcolor=\"#77CFD9\",\n",
    "            ax=20,\n",
    "            ay=-30,\n",
    "            bordercolor=\"#77CFD9\",\n",
    "            borderwidth=2,\n",
    "            borderpad=4,\n",
    "            bgcolor=\"#F25D50\",\n",
    "            opacity=0.9\n",
    ")\n",
    "```"
   ]
  },
  {
   "cell_type": "markdown",
   "id": "27c93432",
   "metadata": {},
   "source": [
    "## 6.3 hue of plot"
   ]
  },
  {
   "cell_type": "markdown",
   "id": "ce60b84f",
   "metadata": {},
   "source": [
    "```python\n",
    "# Plotly same as seaborn hue\n",
    "# If we use groupby option in Data Frmae : \n",
    "# region becomes index of gourpby index and geo_region becomes Data Frame by index\n",
    "\n",
    "traces = []\n",
    "for region, geo_region in geo.groupby('Geographical region'):\n",
    "    traces.append(go.Scatter(x=geo_region.Year, y=geo_region.Number, name=region, mode='lines'))\n",
    "\n",
    "fig = go.Figure(data=traces)\n",
    "```"
   ]
  },
  {
   "cell_type": "markdown",
   "id": "76d409d9",
   "metadata": {},
   "source": [
    "# 7. Subplots"
   ]
  },
  {
   "cell_type": "markdown",
   "id": "8508ee00",
   "metadata": {},
   "source": [
    "```python\n",
    "def create_count_plot(fea) : \n",
    "    grouped_df = train_df.groupby(fea).size().reset_index()\n",
    "    grouped_df.columns = [fea, 'Count']\n",
    "    \n",
    "    grouped_df_target = train_df.groupby([fea, 'Transported']).size().reset_index()\n",
    "    grouped_df_target.columns = [fea, 'Transported', 'Count']\n",
    "    \n",
    "    fig = make_subplots(rows=1, cols=2)\n",
    "\n",
    "    fig.add_trace(go.Bar(\n",
    "        x = grouped_df[fea],\n",
    "        y = grouped_df[\"Count\"],\n",
    "        name = fea \n",
    "    ), row = 1, col = 1)\n",
    "    \n",
    "    for trans in train_df['Transported'].unique() : \n",
    "        plot_df = grouped_df_target[grouped_df_target['Transported'] == trans]\n",
    "        fig.add_trace(go.Bar(\n",
    "            x = plot_df[fea],\n",
    "            y = plot_df[\"Count\"],\n",
    "            name = f\"Transported {trans}\"\n",
    "        ), row = 1, col = 2)\n",
    "        \n",
    "    fig.update_layout(\n",
    "    {\n",
    "        \"title\": {\n",
    "            \"text\": f\"Countplots of {fea}\",\n",
    "            \"x\": 0.5,\n",
    "            \"y\": 0.9,\n",
    "            \"font\": {\n",
    "                \"size\": 15\n",
    "            }\n",
    "        },\n",
    "        \"yaxis\": {\n",
    "            \"title\": \"Count\",\n",
    "            \"tickfont\": {\n",
    "                \"size\": 10                \n",
    "            }\n",
    "        },\n",
    "        \"template\":'plotly_dark'\n",
    "    }\n",
    "    )  \n",
    "    \n",
    "    fig.update_xaxes(title_text=fea, row=1, col=1)\n",
    "    fig.update_xaxes(title_text=fea, row=1, col=2)\n",
    "        \n",
    "    fig.show()\n",
    "```"
   ]
  },
  {
   "cell_type": "markdown",
   "id": "19434f79",
   "metadata": {},
   "source": [
    "# 8. Colors  "
   ]
  },
  {
   "cell_type": "markdown",
   "id": "c6d8bf47",
   "metadata": {},
   "source": [
    "## 8.1 specific color by value"
   ]
  },
  {
   "cell_type": "markdown",
   "id": "2251870f",
   "metadata": {},
   "source": [
    "```python\n",
    "color = ['#03588C',] * len(df_city.index)\n",
    "color[0] = '#F24472'\n",
    "color[1] = '#F24472'\n",
    "```"
   ]
  },
  {
   "cell_type": "markdown",
   "id": "0affb690",
   "metadata": {},
   "source": [
    "## 8.2 whole color scale"
   ]
  },
  {
   "cell_type": "markdown",
   "id": "dc1693af",
   "metadata": {},
   "source": [
    "```python\n",
    "px.colors.sequential.RdBu \n",
    "```"
   ]
  },
  {
   "cell_type": "markdown",
   "id": "2a7afb67",
   "metadata": {},
   "source": [
    "## 8.3 specific color by condition"
   ]
  },
  {
   "cell_type": "markdown",
   "id": "30d65cec",
   "metadata": {},
   "source": [
    "```python\n",
    "fig = go.Figure()\n",
    "\n",
    "fig.add_trace(go.Bar(\n",
    "    x = df[df.Name == 'Counter-Strike'].Datetime,\n",
    "    y = df[df.Name == 'Counter-Strike'].Gain,\n",
    "    marker = dict(\n",
    "        color = pd.Series(np.where(df[df.Name == 'Counter-Strike'].Gain >= 0, 'pos', 'neg')).astype(str).map({'pos' : 'blue', 'neg' : 'red'})\n",
    "    ) \n",
    "))\n",
    "\n",
    "fig.show()\n",
    "```"
   ]
  },
  {
   "cell_type": "markdown",
   "id": "36824185",
   "metadata": {},
   "source": [
    "# 9. Discrete plot by value"
   ]
  },
  {
   "cell_type": "markdown",
   "id": "4dfe11ce",
   "metadata": {},
   "source": [
    "```python\n",
    "colors = px.colors.sequential.RdBu[:11]\n",
    "for month in df_attacker['Month'].unique() : \n",
    "    fig = go.Figure() \n",
    "    fig.add_trace(\n",
    "        go.Bar(\n",
    "            x = df_attacker.loc[df_attacker.Month == month, 'Age_decade'],\n",
    "            y = df_attacker.loc[df_attacker.Month == month, 'Critical'],\n",
    "            text = df_attacker.loc[df_attacker.Month == month, 'Critical'],\n",
    "            texttemplate = \"%{y:.3f}\",\n",
    "            marker_color = colors           \n",
    "        )\n",
    "    )\n",
    "    \n",
    "    fig.update_layout(\n",
    "    {\n",
    "        \"title\": {\n",
    "            \"text\": \"<b>Critical Proportion in month</b>\",   # Can add title value using f\" {}\" \n",
    "            \"x\": 0.5,\n",
    "            \"y\": 0.9,\n",
    "            \"font\": {\n",
    "                \"size\": 15\n",
    "            }\n",
    "        },\n",
    "        \"xaxis\": {\n",
    "            \"title\": \"Age decade from ~20 to 65~\",\n",
    "            \"showticklabels\":True,\n",
    "            \"tickfont\": {\n",
    "                \"size\": 10               \n",
    "            }\n",
    "        },\n",
    "        \"yaxis\": {\n",
    "            \"title\": \"Critical\",\n",
    "            \"tickfont\": {\n",
    "                \"size\": 10                \n",
    "            }\n",
    "        },\n",
    "        \"template\":'plotly_white'\n",
    "    }\n",
    "    )\n",
    "\n",
    "    fig.show()\n",
    "```"
   ]
  },
  {
   "cell_type": "markdown",
   "id": "2adcc4bf",
   "metadata": {},
   "source": [
    "# 10. Use unique vlaue "
   ]
  },
  {
   "cell_type": "markdown",
   "id": "67701419",
   "metadata": {},
   "source": [
    "```python\n",
    "fig = go.Figure()\n",
    "\n",
    "for loc in Location_index : \n",
    "    fig.add_trace(go.Scatter(\n",
    "        x = df_loc['Year'].unique(), \n",
    "        y = df_loc.loc[df_loc['Location'] == loc, 'Count'],\n",
    "        text = df_loc.loc[df_loc['Location'] == loc, 'Count'],\n",
    "        name = loc))\n",
    "\n",
    "fig.update_layout(\n",
    "    {\n",
    "        \"title\": {\n",
    "            \"text\": \"<b>Count of crime by Sex</b>\",\n",
    "            \"x\": 0.5,\n",
    "            \"y\": 0.9,\n",
    "            \"font\": {\n",
    "                \"size\": 15\n",
    "            }\n",
    "        },\n",
    "        \"xaxis\": {\n",
    "            \"title\" : \"Year\",\n",
    "            \"dtick\" : \"Y\",\n",
    "            \"tickfont\": {\n",
    "                \"size\": 10                \n",
    "            }\n",
    "        },\n",
    "        \"yaxis\": {\n",
    "            \"title\": \"Count of Crime\",\n",
    "            \"tickfont\": {\n",
    "                \"size\": 10                \n",
    "            }\n",
    "        },\n",
    "        \"template\":'plotly_white'\n",
    "    }\n",
    ")\n",
    "fig.show()\n",
    "```"
   ]
  }
 ],
 "metadata": {
  "kernelspec": {
   "display_name": "Python 3",
   "language": "python",
   "name": "python3"
  },
  "language_info": {
   "codemirror_mode": {
    "name": "ipython",
    "version": 3
   },
   "file_extension": ".py",
   "mimetype": "text/x-python",
   "name": "python",
   "nbconvert_exporter": "python",
   "pygments_lexer": "ipython3",
   "version": "3.8.8"
  },
  "toc": {
   "base_numbering": 1,
   "nav_menu": {},
   "number_sections": false,
   "sideBar": true,
   "skip_h1_title": false,
   "title_cell": "Table of Contents",
   "title_sidebar": "Contents",
   "toc_cell": false,
   "toc_position": {
    "height": "calc(100% - 180px)",
    "left": "10px",
    "top": "150px",
    "width": "352px"
   },
   "toc_section_display": true,
   "toc_window_display": true
  },
  "varInspector": {
   "cols": {
    "lenName": 16,
    "lenType": 16,
    "lenVar": 40
   },
   "kernels_config": {
    "python": {
     "delete_cmd_postfix": "",
     "delete_cmd_prefix": "del ",
     "library": "var_list.py",
     "varRefreshCmd": "print(var_dic_list())"
    },
    "r": {
     "delete_cmd_postfix": ") ",
     "delete_cmd_prefix": "rm(",
     "library": "var_list.r",
     "varRefreshCmd": "cat(var_dic_list()) "
    }
   },
   "types_to_exclude": [
    "module",
    "function",
    "builtin_function_or_method",
    "instance",
    "_Feature"
   ],
   "window_display": false
  }
 },
 "nbformat": 4,
 "nbformat_minor": 5
}
