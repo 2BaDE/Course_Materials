{
 "cells": [
  {
   "cell_type": "markdown",
   "id": "95882b82",
   "metadata": {},
   "source": [
    "# <center> Aanalysis Document"
   ]
  },
  {
   "cell_type": "markdown",
   "id": "53cf0c53",
   "metadata": {},
   "source": [
    "# 1. Dataset description  \n",
    "\n",
    "## 1.1 Dataset explaining \n",
    "    \n",
    "- Datasets name : \"File name of data sets\" \n",
    "- Datasets source : \"Source of datasets\" \n",
    "- Datasets feature table : \"Explain feature of datasets\" \n",
    "- Domain Knowledge\n",
    "\n",
    "| Feature | Column name | data type | \n",
    "| --- | --- | --- |\n",
    "| Categorical | col_name | object |    \n",
    "  \n",
    "\n",
    "## 1.2 Feature type of variables\n",
    "\n",
    "1. Numerical feature  \n",
    "    (1) Continous feature  \n",
    "    (2) Discrete feature  \n",
    "2. Categorical feature \n",
    "3. Ordinal feature\n",
    "4. Datetime feature\n",
    "5. Coordinates feature "
   ]
  },
  {
   "cell_type": "markdown",
   "id": "9511ab5d",
   "metadata": {},
   "source": [
    "# 2. Analysis Preparation\n",
    "\n",
    "## 2.1 Function importing \n",
    "\n",
    "- **Personal function list**\n",
    "1. import_library()\n",
    "2. missing(df)\n",
    "3. categorize(df)\n",
    "3. data_glimpse(df)\n",
    "\n",
    "## 2.2 Library importing \n",
    "\n",
    "- **personal function list**\n",
    "\n",
    "1. import_library()\n",
    "\n",
    "## 2.3 Data importing  \n",
    "\n",
    "- **code** : pd.read_csv(path, encoding = , delimiter = )"
   ]
  },
  {
   "cell_type": "markdown",
   "id": "bf9dbf7d",
   "metadata": {},
   "source": [
    "# 3. Feature Engineering"
   ]
  },
  {
   "cell_type": "markdown",
   "id": "49770fec",
   "metadata": {},
   "source": [
    "1. Continuos features : Correlation\n",
    "\n",
    "2. Discrete features : Mutual information"
   ]
  },
  {
   "cell_type": "markdown",
   "id": "43b9cb05",
   "metadata": {},
   "source": [
    "# 4. Data Preprocessing"
   ]
  },
  {
   "cell_type": "markdown",
   "id": "369fb8ce",
   "metadata": {},
   "source": [
    "1. Simple Imputer \n",
    "2. OneHotEncoder\n",
    "3. Column Transfromer \n",
    "4. Pipeline \n",
    "5. Train test split "
   ]
  }
 ],
 "metadata": {
  "kernelspec": {
   "display_name": "Python 3",
   "language": "python",
   "name": "python3"
  },
  "language_info": {
   "codemirror_mode": {
    "name": "ipython",
    "version": 3
   },
   "file_extension": ".py",
   "mimetype": "text/x-python",
   "name": "python",
   "nbconvert_exporter": "python",
   "pygments_lexer": "ipython3",
   "version": "3.8.8"
  },
  "toc": {
   "base_numbering": 1,
   "nav_menu": {},
   "number_sections": false,
   "sideBar": true,
   "skip_h1_title": false,
   "title_cell": "Table of Contents",
   "title_sidebar": "Contents",
   "toc_cell": false,
   "toc_position": {
    "height": "calc(100% - 180px)",
    "left": "10px",
    "top": "150px",
    "width": "227.167px"
   },
   "toc_section_display": true,
   "toc_window_display": true
  },
  "varInspector": {
   "cols": {
    "lenName": 16,
    "lenType": 16,
    "lenVar": 40
   },
   "kernels_config": {
    "python": {
     "delete_cmd_postfix": "",
     "delete_cmd_prefix": "del ",
     "library": "var_list.py",
     "varRefreshCmd": "print(var_dic_list())"
    },
    "r": {
     "delete_cmd_postfix": ") ",
     "delete_cmd_prefix": "rm(",
     "library": "var_list.r",
     "varRefreshCmd": "cat(var_dic_list()) "
    }
   },
   "types_to_exclude": [
    "module",
    "function",
    "builtin_function_or_method",
    "instance",
    "_Feature"
   ],
   "window_display": false
  }
 },
 "nbformat": 4,
 "nbformat_minor": 5
}
