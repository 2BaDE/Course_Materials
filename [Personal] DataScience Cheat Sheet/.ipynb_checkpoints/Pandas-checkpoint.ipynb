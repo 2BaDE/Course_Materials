{
 "cells": [
  {
   "cell_type": "markdown",
   "id": "0b3d4f62",
   "metadata": {},
   "source": [
    "# <center> Pandas Document"
   ]
  },
  {
   "cell_type": "markdown",
   "id": "dcb3c957",
   "metadata": {},
   "source": [
    "# 1. What is tidy data\n",
    "\n",
    "What is tidy data : [Definition of tidy data](https://partrita.github.io/posts/tidy-data/)"
   ]
  },
  {
   "cell_type": "markdown",
   "id": "b8a317dd",
   "metadata": {},
   "source": [
    "# 2. Options \n",
    "\n",
    "```Python\n",
    "# max column views \n",
    "pd.options.display.max_columns = 99\n",
    "\n",
    "# suppress scientific notation\n",
    "pd.set_option('display.float_format', lambda x: '%.5f' % x)\n",
    "```"
   ]
  },
  {
   "cell_type": "markdown",
   "id": "c6b0349f",
   "metadata": {},
   "source": [
    "# 3. Data Reshaping"
   ]
  },
  {
   "cell_type": "markdown",
   "id": "c66ca521",
   "metadata": {},
   "source": [
    "## 3.1 group by"
   ]
  },
  {
   "cell_type": "markdown",
   "id": "e71c4f6d",
   "metadata": {},
   "source": [
    "When we want to make data arranged by groupby() key, we use groupby().    \n",
    "\n",
    "```python\n",
    "df.groupby('key1').sum()  \n",
    "df.groupby(['key1', 'key2']).sum()  \n",
    "```\n",
    "  \n",
    "After making groupby().operator() datasets, we need to unstack to make tidier dataset.\n",
    "\n",
    "```python\n",
    "df.groupby(['key1']).sum().reset_index(inplace = True)\n",
    "```\n",
    "\n",
    "When we use as_indx = False parameter, we don't have to use ['col'] to extarct aggregated values. "
   ]
  },
  {
   "cell_type": "markdown",
   "id": "289d5d4f",
   "metadata": {},
   "source": [
    "## 3.2 melt()\n",
    "By using melt, we make tidier datset storing columns as one column variable previous columns. "
   ]
  },
  {
   "cell_type": "markdown",
   "id": "acf6430e",
   "metadata": {},
   "source": [
    "## 3.3 crosstab()\n",
    "We usually use crosstab() for check hist chart of two columns."
   ]
  },
  {
   "cell_type": "markdown",
   "id": "4b18fc1e",
   "metadata": {},
   "source": [
    "## 3.4 stack() and unstack()\n",
    "\n",
    "melt의 경우에는 column을 tidy한 데이터로 만들어 주기위해 column을 value로 끌어내려주는 역할을 수행하지만, stack()과 unstack()의 경우 다중 행, 열인덱스를 각각의 위치를 치환하는 행위를 수행한다. stack의 경우에는 열 인덱스를 행 인덱스로, unstack의 경우에는 그 역을 수행한다. \n",
    "stack().reset_index()의 경우 melt()와 동일한 메서드를 수행하게 된다."
   ]
  },
  {
   "cell_type": "markdown",
   "id": "962ea4dd",
   "metadata": {},
   "source": [
    "# 4. Data Subsetting"
   ]
  },
  {
   "cell_type": "markdown",
   "id": "378b51ad",
   "metadata": {},
   "source": [
    "## 4.1 Finding max and min value\n",
    "if we want to get index or column having max or min value, we add 'idx' in front of max() and min() function.\n",
    "\n",
    "```python\n",
    "ign_data.loc['PlayStation Vita', :].idxmin()\n",
    "```"
   ]
  },
  {
   "cell_type": "markdown",
   "id": "5e4860a5",
   "metadata": {},
   "source": [
    "## 4.2 Series 와 Dataframe 추출 방식\n",
    "- df['A'] : Series\n",
    "- df[['A']] : Dataframe"
   ]
  },
  {
   "cell_type": "markdown",
   "id": "396c13ec",
   "metadata": {},
   "source": [
    "## 4.3 .loc\n",
    "We should use .loc[ , ] more than [dataframe][boolean indexing][columns] to make code more tidier.  \n",
    "\n",
    "```python\n",
    "# Good case  \n",
    "df.loc[boolean condition, 'column'] == 'ex1'  \n",
    "  \n",
    "# Complicated case  \n",
    "df[boolean condition]['column'] == 'ex1'  \n",
    "```"
   ]
  },
  {
   "cell_type": "markdown",
   "id": "20d23f00",
   "metadata": {},
   "source": [
    "## 4.4 .isin()\n",
    "isin() method is usually used in making datasets fits boolean indexing for specific condition.  \n",
    "Find with long index, and variable fitting long condition. \n",
    "\n",
    "```python\n",
    "df_academy_selected = df_academy[df_academy['상권업종소분류명'].isin(academy_count_1000.index)]\n",
    "\n",
    "top_platforms = (\n",
    "    df[\"Platform\"].value_counts().sort_values(ascending=False).head(5).index.values # make perfect data frame or list \n",
    ")\n",
    "\n",
    "\n",
    "sns.boxplot(\n",
    "    y=\"Platform\",\n",
    "    x=\"Critic_Score\",\n",
    "    data=df[df[\"Platform\"].isin(top_platforms)],\n",
    "    orient=\"h\",\n",
    ");\n",
    "```"
   ]
  },
  {
   "cell_type": "markdown",
   "id": "3ce45ff3",
   "metadata": {},
   "source": [
    "## 4.5 map for isin()\n",
    "\n",
    "```python\n",
    "n_trop = reviews.description.map(lambda desc: \"tropical\" in desc).sum()\n",
    "n_fruity = reviews.description.map(lambda desc: \"fruity\" in desc).sum()\n",
    "descriptor_counts = pd.Series([n_trop, n_fruity], index=['tropical', 'fruity'])\n",
    "```"
   ]
  },
  {
   "cell_type": "markdown",
   "id": "97ecd917",
   "metadata": {},
   "source": [
    "## 4.6 .str.contains()\n",
    "str().contains() method is usually used in finding datasets fit boolean indexing which fits the contians code.  \n",
    "Find with noncompleted words, and fitting small condition. \n",
    "\n",
    "```python\n",
    "df_31.loc[df_31['상호명_소문자'].str.contains('배스킨|베스킨|baskin'), \"브랜드명\"] = \"배스킨라빈스\"  \n",
    "df_31.loc[~df_31['상호명_소문자'].str.contains('배스킨|베스킨|baskin'), \"브랜드명\"] = \"배스킨라빈스\"  \n",
    "```"
   ]
  },
  {
   "cell_type": "markdown",
   "id": "fee61009",
   "metadata": {},
   "source": [
    "# 5. Data mutating"
   ]
  },
  {
   "cell_type": "markdown",
   "id": "cae2a9cf",
   "metadata": {},
   "source": [
    "## 5.1 rename()\n",
    "rename can change column name what we want.\n",
    "\n",
    "```python\n",
    "df_pre = df_pre.rename(columns = {'구분' : 'Category'})\n",
    "```"
   ]
  },
  {
   "cell_type": "markdown",
   "id": "baa4d176",
   "metadata": {},
   "source": [
    "## 5.2 replace()\n",
    "replace() can change value what we want.\n",
    "\n",
    "```python\n",
    "df_pre['Category'] = df_pre['Category'].replace({'전과자' : 'Old_hand', '초범' : 'First_hand'})\n",
    "```"
   ]
  },
  {
   "cell_type": "markdown",
   "id": "9c3bd2d3",
   "metadata": {},
   "source": [
    "## 5.3 .str.split().str\n",
    "If we want to make new column using previous columns having string values, we divide using str.split() and index by str.\n",
    "\n",
    "```python\n",
    "data['First_name'] = data['Name'].str.split(\",\").str[0]\n",
    "data.loc[data['Sex'] == 'male', 'First_name'].value_counts()\n",
    "\n",
    "# Or use for loop to change column, but this way takes time more. \n",
    "for i in range(df.shape[0]):  \n",
    "        df.loc[i, 'grp'] = str(df.loc[i, 'id']).split('_')[0]\n",
    "```"
   ]
  },
  {
   "cell_type": "markdown",
   "id": "bbb7a54a",
   "metadata": {},
   "source": [
    "## 5.4 .str.split().str.rstrip()\n",
    "strip() option can delete left or right strip in condition.\n",
    "\n",
    "```python\n",
    "df_time['Time'].str.split(\"(\").str[1].str.rstrip(')')\n",
    "```"
   ]
  },
  {
   "cell_type": "markdown",
   "id": "28ff0706",
   "metadata": {},
   "source": [
    "## 5.5 order by categories "
   ]
  },
  {
   "cell_type": "markdown",
   "id": "78d8356a",
   "metadata": {},
   "source": [
    "**실수 값을 카테고리 값으로 변환**\n",
    "\n",
    "실수 값을 크기 기준으로 하여 카테고리 값으로 변환하고 싶을 때는 다음과 같은 명령을 사용한다.\n",
    "- cut : 실수 값의 경계선을 지정하는 경우 \n",
    "- qcut : 갯수가 똑같은 구간으로 나누는 경우 \n",
    "cut 명령이 반환하는 값은 Categorical 클래스 객체이다. 이 객체는 cateogires 속성으로 라벨 문자열을, codes 속성으로 정수로 인코딩한 카테고리 값을 가진다. 따라서 위 데이터프레임의 결과는 문자열이 아니고, 이를 문자열로 만드려면 astype 메서드를 사용해야 한다. \n",
    "\n",
    "```python\n",
    "bins = [1, 20, 30, 50, 70, 100]\n",
    "labels = [\"미성년자\", \"청년\", \"중년\", \"장년\", \"노년\"]\n",
    "titanic['age_cat'] = pd.cut(titanic.age, bins = bins, labels = labels)\n",
    "titanic.head()\n",
    "\n",
    "titanic['category3'] = pd.cut(titanic.age, bins = bins, labels = labels)\n",
    "titanic['category3'] = titanic.apply(lambda x : \"미성년자\" if x.age < 20 else titanic.category3.astype('str') + x.sex, axis = 1)\n",
    "titanic.head()\n",
    "```"
   ]
  },
  {
   "cell_type": "markdown",
   "id": "62a85c16",
   "metadata": {},
   "source": [
    "**고정된 카테고리로 정렬**"
   ]
  },
  {
   "cell_type": "code",
   "execution_count": 1,
   "id": "267ecea7",
   "metadata": {},
   "outputs": [
    {
     "name": "stdout",
     "output_type": "stream",
     "text": [
      "0    CHH\n",
      "1    VAN\n",
      "2    TOT\n",
      "3    OKC\n",
      "4    DAL\n",
      "Name: Tm, dtype: category\n",
      "Categories (38, object): ['TOT', 'ATL', 'BOS', 'BRK', ..., 'UTA', 'VAN', 'WAS', 'WSB']\n"
     ]
    },
    {
     "data": {
      "text/html": [
       "<div>\n",
       "<style scoped>\n",
       "    .dataframe tbody tr th:only-of-type {\n",
       "        vertical-align: middle;\n",
       "    }\n",
       "\n",
       "    .dataframe tbody tr th {\n",
       "        vertical-align: top;\n",
       "    }\n",
       "\n",
       "    .dataframe thead th {\n",
       "        text-align: right;\n",
       "    }\n",
       "</style>\n",
       "<table border=\"1\" class=\"dataframe\">\n",
       "  <thead>\n",
       "    <tr style=\"text-align: right;\">\n",
       "      <th></th>\n",
       "      <th>id</th>\n",
       "      <th>Player</th>\n",
       "      <th>Year</th>\n",
       "      <th>Age</th>\n",
       "      <th>Tm</th>\n",
       "      <th>G</th>\n",
       "    </tr>\n",
       "  </thead>\n",
       "  <tbody>\n",
       "    <tr>\n",
       "      <th>2</th>\n",
       "      <td>13950</td>\n",
       "      <td>Ratko Varda</td>\n",
       "      <td>2001</td>\n",
       "      <td>22</td>\n",
       "      <td>TOT</td>\n",
       "      <td>60</td>\n",
       "    </tr>\n",
       "    <tr>\n",
       "      <th>0</th>\n",
       "      <td>2967</td>\n",
       "      <td>Cedric Hunter</td>\n",
       "      <td>1991</td>\n",
       "      <td>27</td>\n",
       "      <td>CHH</td>\n",
       "      <td>6</td>\n",
       "    </tr>\n",
       "    <tr>\n",
       "      <th>4</th>\n",
       "      <td>6169</td>\n",
       "      <td>Adrian Caldwell</td>\n",
       "      <td>1997</td>\n",
       "      <td>31</td>\n",
       "      <td>DAL</td>\n",
       "      <td>81</td>\n",
       "    </tr>\n",
       "    <tr>\n",
       "      <th>3</th>\n",
       "      <td>6141</td>\n",
       "      <td>Ryan Bowen</td>\n",
       "      <td>2009</td>\n",
       "      <td>34</td>\n",
       "      <td>OKC</td>\n",
       "      <td>52</td>\n",
       "    </tr>\n",
       "    <tr>\n",
       "      <th>1</th>\n",
       "      <td>5335</td>\n",
       "      <td>Maurice Baker</td>\n",
       "      <td>2004</td>\n",
       "      <td>25</td>\n",
       "      <td>VAN</td>\n",
       "      <td>7</td>\n",
       "    </tr>\n",
       "  </tbody>\n",
       "</table>\n",
       "</div>"
      ],
      "text/plain": [
       "      id           Player  Year  Age   Tm   G\n",
       "2  13950      Ratko Varda  2001   22  TOT  60\n",
       "0   2967    Cedric Hunter  1991   27  CHH   6\n",
       "4   6169  Adrian Caldwell  1997   31  DAL  81\n",
       "3   6141       Ryan Bowen  2009   34  OKC  52\n",
       "1   5335    Maurice Baker  2004   25  VAN   7"
      ]
     },
     "execution_count": 1,
     "metadata": {},
     "output_type": "execute_result"
    }
   ],
   "source": [
    "import pandas as pd\n",
    "\n",
    "data = {\n",
    "    'id': [2967, 5335, 13950, 6141, 6169],\n",
    "    'Player': ['Cedric Hunter', 'Maurice Baker', \n",
    "               'Ratko Varda' ,'Ryan Bowen' ,'Adrian Caldwell'],\n",
    "    'Year': [1991, 2004, 2001, 2009, 1997],\n",
    "    'Age': [27, 25, 22, 34, 31],\n",
    "    'Tm': ['CHH', 'VAN', 'TOT', 'OKC', 'DAL'],\n",
    "    'G': [6, 7, 60, 52, 81]\n",
    "}\n",
    "\n",
    "# Create DataFrame\n",
    "df = pd.DataFrame(data)\n",
    "\n",
    "# Define the sorter\n",
    "sorter = ['TOT', 'ATL', 'BOS', 'BRK', 'CHA', 'CHH', 'CHI', 'CLE', 'DAL', 'DEN',\n",
    "          'DET', 'GSW', 'HOU', 'IND', 'LAC', 'LAL', 'MEM', 'MIA', 'MIL',\n",
    "          'MIN', 'NJN', 'NOH', 'NOK', 'NOP', 'NYK', 'OKC', 'ORL', 'PHI',\n",
    "          'PHO', 'POR', 'SAC', 'SAS', 'SEA', 'TOR', 'UTA', 'VAN', 'WAS', 'WSB']\n",
    "\n",
    "# With the data-frame and sorter, which is a category-order, we can do the following in pandas 15.1:\n",
    "\n",
    "# Convert Tm-column to category and in set the sorter as categories hierarchy\n",
    "# Youc could also do both lines in one just appending the cat.set_categories()\n",
    "df.Tm = df.Tm.astype(\"category\")\n",
    "df.Tm.cat.set_categories(sorter, inplace=True)\n",
    "\n",
    "print(df.Tm)\n",
    "\n",
    "df.sort_values([\"Tm\"])  ## 'sort' changed to 'sort_values'"
   ]
  },
  {
   "cell_type": "markdown",
   "id": "2bc414a4",
   "metadata": {},
   "source": [
    "## 5.6 Grouping by bins\n",
    "\n",
    "```python\n",
    "# categorize age features \n",
    "bins = [20, 30, 40, 50, 60, 70, 80]\n",
    "labels = ['20~30', '30~40', '40~50', '50~60', '60~70', '70~80']\n",
    "df_raw['age_cat'] = pd.cut(df_raw.Age, bins = bins, labels = labels)\n",
    "```"
   ]
  },
  {
   "cell_type": "markdown",
   "id": "7de920f7",
   "metadata": {},
   "source": [
    "## 5.7 apply function method"
   ]
  },
  {
   "cell_type": "markdown",
   "id": "944e1f79",
   "metadata": {},
   "source": [
    "**map()**\n",
    "\n",
    "map() must used in Series type. "
   ]
  },
  {
   "cell_type": "raw",
   "id": "2963c87b",
   "metadata": {},
   "source": [
    "data = {'team ' : ['russia', 'saudiarabia', 'egypt', 'uruguay'],\n",
    "        'against': ['saudiarabia', 'russia', 'uruguay', 'egypt'],\n",
    "        'fifa_rank': [65, 63, 31, 21]}\n",
    "columns = ['team', 'against', 'fifa_rank']\n",
    "df = pd.DataFrame(data, columns = columns)\n",
    "\n",
    "def total_record(team):\n",
    "    ...\n",
    "    # calculation from Database\n",
    "    ...\n",
    "    return win_count, draw_count, lose_count, winning_rate\n",
    "\n",
    "\n",
    "df['winning_rate']  = df['team'].map(lambda x : total_record(x)[3])"
   ]
  },
  {
   "cell_type": "markdown",
   "id": "d9e3b104",
   "metadata": {},
   "source": [
    "**apply()**\n",
    "\n",
    "apply() is used in Dataframe and Series type when we apply function with multiple columns.\n",
    "We use apply() to apply function directly to dataframe.\n",
    "\n",
    "```python\n",
    "df.apply(function, axis = 1) # --> apply function directly  \n",
    "df.apply(labmda x : ) #--> make function and apply it directly \n",
    "\n",
    "df['winning_rate'] = df.apply(lambda x:relative_record(x['team'], x['against'])[3], axis=1)\n",
    "```"
   ]
  },
  {
   "cell_type": "markdown",
   "id": "6bbede5b",
   "metadata": {},
   "source": [
    "**apply function to make multiple column and combine them**"
   ]
  },
  {
   "cell_type": "markdown",
   "id": "eb4d3ffe",
   "metadata": {},
   "source": [
    "```python\n",
    "def add_Total(df) : \n",
    "    return df[[col for col in df.columns if \"Num\" in col]].apply(np.sum, axis = 1)\n",
    "\n",
    "def add_Num_per_Acc(df) :\n",
    "    return round(add_Total(df) / df['Traffic_Accident'], 2)\n",
    "\n",
    "def Num_critical(df) : \n",
    "    return round(df['Num_of_Deaths'] / df['Traffic_Accident'], 3)\n",
    "\n",
    "def apply_and_concat(df) :\n",
    "    res = pd.DataFrame({'Total' : add_Total(df), 'Num_per_Acc' : add_Num_per_Acc(df), 'Critical' : Num_critical(df)})\n",
    "    return pd.concat([df, res], axis = 1)\n",
    "    \n",
    "df_accident_month = apply_and_concat(df_accident_month)\n",
    "df_attacker = apply_and_concat(df_attacker)\n",
    "\n",
    "df_attacker.head()\n",
    "```"
   ]
  },
  {
   "cell_type": "markdown",
   "id": "f0b5f6bd",
   "metadata": {},
   "source": [
    "# 6. Multivariate analysis"
   ]
  },
  {
   "cell_type": "markdown",
   "id": "203d03e5",
   "metadata": {},
   "source": [
    "## 6.1 groupby()\n",
    "3개 이상의 feature에 대하여 타겟 변수간의 상관정도를 나타내주기 위해 groupby와 visusalization을 적절히 이용한다. \n",
    "\n",
    "```python\n",
    "def rate(x) : \n",
    "    return round(x.mean()*100, 2)\n",
    "titanic.groupby(['sex', 'pclass', 'age_cat'])['survived'].agg(rate)\n",
    "```"
   ]
  },
  {
   "cell_type": "markdown",
   "id": "42cc5148",
   "metadata": {},
   "source": [
    "# 7. SQLite \n",
    "\n",
    "## 7.1 Load file on SQLite \n",
    "\n",
    "```Python\n",
    "import sqlite3\n",
    "conn = sqlite3.connect('crunchbase.db')\n",
    "\n",
    "invest_iter = pd.read_csv('crunchbase-investments.csv', chunksize = 5000, encoding = 'ISO-8859-1',\n",
    "                          parse_dates = ['funded_at'], usecols = col_use)\n",
    "for chunk in invest_iter :\n",
    "    chunk.to_sql('investment_table', conn, if_exists = 'append', index = False)\n",
    "```\n",
    "\n",
    "## 7.2 Retrieve data from SQLite  \n",
    "\n",
    "```Python\n",
    "# Which category of company attracted the most investments?\n",
    "query = \"\"\"\n",
    "    SELECT company_category_code, AVG(raised_amount_usd) as 'Average dollars'\n",
    "        FROM investment_table \n",
    "    GROUP BY company_category_code \n",
    "    ORDER BY 2 DESC\n",
    "    LIMIT 10;\n",
    "\"\"\"\n",
    "result_iter = pd.read_sql(query, conn, chunksize = 5000)\n",
    "for chunk in result_iter : \n",
    "    print(chunk)\n",
    "```"
   ]
  }
 ],
 "metadata": {
  "kernelspec": {
   "display_name": "Python 3",
   "language": "python",
   "name": "python3"
  },
  "language_info": {
   "codemirror_mode": {
    "name": "ipython",
    "version": 3
   },
   "file_extension": ".py",
   "mimetype": "text/x-python",
   "name": "python",
   "nbconvert_exporter": "python",
   "pygments_lexer": "ipython3",
   "version": "3.8.8"
  },
  "toc": {
   "base_numbering": 1,
   "nav_menu": {},
   "number_sections": false,
   "sideBar": true,
   "skip_h1_title": false,
   "title_cell": "Table of Contents",
   "title_sidebar": "Contents",
   "toc_cell": false,
   "toc_position": {
    "height": "calc(100% - 180px)",
    "left": "10px",
    "top": "150px",
    "width": "308px"
   },
   "toc_section_display": true,
   "toc_window_display": true
  },
  "varInspector": {
   "cols": {
    "lenName": 16,
    "lenType": 16,
    "lenVar": 40
   },
   "kernels_config": {
    "python": {
     "delete_cmd_postfix": "",
     "delete_cmd_prefix": "del ",
     "library": "var_list.py",
     "varRefreshCmd": "print(var_dic_list())"
    },
    "r": {
     "delete_cmd_postfix": ") ",
     "delete_cmd_prefix": "rm(",
     "library": "var_list.r",
     "varRefreshCmd": "cat(var_dic_list()) "
    }
   },
   "types_to_exclude": [
    "module",
    "function",
    "builtin_function_or_method",
    "instance",
    "_Feature"
   ],
   "window_display": false
  }
 },
 "nbformat": 4,
 "nbformat_minor": 5
}
